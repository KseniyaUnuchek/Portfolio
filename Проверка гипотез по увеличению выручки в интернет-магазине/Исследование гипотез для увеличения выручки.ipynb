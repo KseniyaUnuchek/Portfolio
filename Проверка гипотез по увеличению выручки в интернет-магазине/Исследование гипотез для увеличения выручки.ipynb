{
 "cells": [
  {
   "cell_type": "markdown",
   "metadata": {},
   "source": [
    "# Исследование гипотез для увеличения выручки"
   ]
  },
  {
   "cell_type": "markdown",
   "metadata": {},
   "source": [
    "Есть данные крупного интернет-магазина о посетителях, заказах и гипотезах. Необходимо приоритизировать гипотезы, запустить A/B-тест и проанализировать результаты.\n",
    "\n",
    "План работы:\n",
    "1) проведем предобработку данных;\n",
    "\n",
    "2) приоритизируем гипотезы с применением фреймворков ICE и RICE;\n",
    "\n",
    "3) проанализируем А/В-тест:\n",
    "- рассмотрим графики кумулятивной выручки и кумулятивного среднего чека по группам, а так же изменения кумулятивного среднего чека группы В к группе А\n",
    "- рассмотрим графики кумулятивного среднего количества заказов на посетителя по группам, а так же его изменения для группы В к группе А\n",
    "- определим аномальных пользователей\n",
    "- посчитаем статистическую значимость различий в среднем чеке заказа и среднем количестве заказов на посетителя до фильтрации и после"
   ]
  },
  {
   "cell_type": "markdown",
   "metadata": {},
   "source": [
    "## Загрузка данных и изучение общей информации"
   ]
  },
  {
   "cell_type": "code",
   "execution_count": 1,
   "metadata": {},
   "outputs": [],
   "source": [
    "import pandas as pd\n",
    "import matplotlib.pyplot as plt\n",
    "import numpy as np\n",
    "import scipy.stats as st\n",
    "import seaborn as sns\n",
    "from scipy.stats import binom, norm\n",
    "from math import sqrt\n",
    "import datetime as dt\n",
    "from pandas.plotting import register_matplotlib_converters\n",
    "import warnings"
   ]
  },
  {
   "cell_type": "code",
   "execution_count": 2,
   "metadata": {},
   "outputs": [],
   "source": [
    "try:\n",
    "    hypothesis = pd.read_csv('/datasets/hypothesis.csv')\n",
    "except:\n",
    "    hypothesis = pd.read_csv('https://code.s3.yandex.net/datasets/hypothesis.csv')"
   ]
  },
  {
   "cell_type": "code",
   "execution_count": 3,
   "metadata": {},
   "outputs": [],
   "source": [
    "try:\n",
    "    orders = pd.read_csv('/datasets/orders.csv')\n",
    "except:\n",
    "    orders = pd.read_csv('https://code.s3.yandex.net/datasets/orders.csv')"
   ]
  },
  {
   "cell_type": "code",
   "execution_count": 4,
   "metadata": {},
   "outputs": [],
   "source": [
    "try:\n",
    "    visitors = pd.read_csv('/datasets/visitors.csv')\n",
    "except:\n",
    "    visitors = pd.read_csv('https://code.s3.yandex.net/datasets/visitors.csv')"
   ]
  },
  {
   "cell_type": "code",
   "execution_count": 5,
   "metadata": {
    "scrolled": true
   },
   "outputs": [
    {
     "data": {
      "text/html": [
       "<div>\n",
       "<style scoped>\n",
       "    .dataframe tbody tr th:only-of-type {\n",
       "        vertical-align: middle;\n",
       "    }\n",
       "\n",
       "    .dataframe tbody tr th {\n",
       "        vertical-align: top;\n",
       "    }\n",
       "\n",
       "    .dataframe thead th {\n",
       "        text-align: right;\n",
       "    }\n",
       "</style>\n",
       "<table border=\"1\" class=\"dataframe\">\n",
       "  <thead>\n",
       "    <tr style=\"text-align: right;\">\n",
       "      <th></th>\n",
       "      <th>Hypothesis</th>\n",
       "      <th>Reach</th>\n",
       "      <th>Impact</th>\n",
       "      <th>Confidence</th>\n",
       "      <th>Efforts</th>\n",
       "    </tr>\n",
       "  </thead>\n",
       "  <tbody>\n",
       "    <tr>\n",
       "      <th>0</th>\n",
       "      <td>Добавить два новых канала привлечения трафика,...</td>\n",
       "      <td>3</td>\n",
       "      <td>10</td>\n",
       "      <td>8</td>\n",
       "      <td>6</td>\n",
       "    </tr>\n",
       "    <tr>\n",
       "      <th>1</th>\n",
       "      <td>Запустить собственную службу доставки, что сок...</td>\n",
       "      <td>2</td>\n",
       "      <td>5</td>\n",
       "      <td>4</td>\n",
       "      <td>10</td>\n",
       "    </tr>\n",
       "    <tr>\n",
       "      <th>2</th>\n",
       "      <td>Добавить блоки рекомендаций товаров на сайт ин...</td>\n",
       "      <td>8</td>\n",
       "      <td>3</td>\n",
       "      <td>7</td>\n",
       "      <td>3</td>\n",
       "    </tr>\n",
       "    <tr>\n",
       "      <th>3</th>\n",
       "      <td>Изменить структура категорий, что увеличит кон...</td>\n",
       "      <td>8</td>\n",
       "      <td>3</td>\n",
       "      <td>3</td>\n",
       "      <td>8</td>\n",
       "    </tr>\n",
       "    <tr>\n",
       "      <th>4</th>\n",
       "      <td>Изменить цвет фона главной страницы, чтобы уве...</td>\n",
       "      <td>3</td>\n",
       "      <td>1</td>\n",
       "      <td>1</td>\n",
       "      <td>1</td>\n",
       "    </tr>\n",
       "  </tbody>\n",
       "</table>\n",
       "</div>"
      ],
      "text/plain": [
       "                                          Hypothesis  Reach  Impact  \\\n",
       "0  Добавить два новых канала привлечения трафика,...      3      10   \n",
       "1  Запустить собственную службу доставки, что сок...      2       5   \n",
       "2  Добавить блоки рекомендаций товаров на сайт ин...      8       3   \n",
       "3  Изменить структура категорий, что увеличит кон...      8       3   \n",
       "4  Изменить цвет фона главной страницы, чтобы уве...      3       1   \n",
       "\n",
       "   Confidence  Efforts  \n",
       "0           8        6  \n",
       "1           4       10  \n",
       "2           7        3  \n",
       "3           3        8  \n",
       "4           1        1  "
      ]
     },
     "execution_count": 5,
     "metadata": {},
     "output_type": "execute_result"
    }
   ],
   "source": [
    "hypothesis.head()"
   ]
  },
  {
   "cell_type": "code",
   "execution_count": 6,
   "metadata": {
    "scrolled": true
   },
   "outputs": [
    {
     "name": "stdout",
     "output_type": "stream",
     "text": [
      "<class 'pandas.core.frame.DataFrame'>\n",
      "RangeIndex: 9 entries, 0 to 8\n",
      "Data columns (total 5 columns):\n",
      " #   Column      Non-Null Count  Dtype \n",
      "---  ------      --------------  ----- \n",
      " 0   Hypothesis  9 non-null      object\n",
      " 1   Reach       9 non-null      int64 \n",
      " 2   Impact      9 non-null      int64 \n",
      " 3   Confidence  9 non-null      int64 \n",
      " 4   Efforts     9 non-null      int64 \n",
      "dtypes: int64(4), object(1)\n",
      "memory usage: 488.0+ bytes\n"
     ]
    }
   ],
   "source": [
    "hypothesis.info()"
   ]
  },
  {
   "cell_type": "markdown",
   "metadata": {},
   "source": [
    "<div style=\"border: solid purple 2px; padding: 20px\">\n",
    "В таблице hypothesis 9 строк, таблица содержит информацию с кратким описанием гипотез, охватом пользователей по 10-балльной шкале, влиянием на пользователей по 10-балльной шкале, уверенностью в гипотезе по 10-балльной шкале и затратами ресурсов на проверку гипотезы по 10-балльной шкале. Пропусков нет, изменять тип даннх не нужно, приведем назвния столбцов к нижнему регистру."
   ]
  },
  {
   "cell_type": "code",
   "execution_count": 7,
   "metadata": {},
   "outputs": [
    {
     "data": {
      "text/html": [
       "<div>\n",
       "<style scoped>\n",
       "    .dataframe tbody tr th:only-of-type {\n",
       "        vertical-align: middle;\n",
       "    }\n",
       "\n",
       "    .dataframe tbody tr th {\n",
       "        vertical-align: top;\n",
       "    }\n",
       "\n",
       "    .dataframe thead th {\n",
       "        text-align: right;\n",
       "    }\n",
       "</style>\n",
       "<table border=\"1\" class=\"dataframe\">\n",
       "  <thead>\n",
       "    <tr style=\"text-align: right;\">\n",
       "      <th></th>\n",
       "      <th>transactionId</th>\n",
       "      <th>visitorId</th>\n",
       "      <th>date</th>\n",
       "      <th>revenue</th>\n",
       "      <th>group</th>\n",
       "    </tr>\n",
       "  </thead>\n",
       "  <tbody>\n",
       "    <tr>\n",
       "      <th>0</th>\n",
       "      <td>3667963787</td>\n",
       "      <td>3312258926</td>\n",
       "      <td>2019-08-15</td>\n",
       "      <td>1650</td>\n",
       "      <td>B</td>\n",
       "    </tr>\n",
       "    <tr>\n",
       "      <th>1</th>\n",
       "      <td>2804400009</td>\n",
       "      <td>3642806036</td>\n",
       "      <td>2019-08-15</td>\n",
       "      <td>730</td>\n",
       "      <td>B</td>\n",
       "    </tr>\n",
       "    <tr>\n",
       "      <th>2</th>\n",
       "      <td>2961555356</td>\n",
       "      <td>4069496402</td>\n",
       "      <td>2019-08-15</td>\n",
       "      <td>400</td>\n",
       "      <td>A</td>\n",
       "    </tr>\n",
       "    <tr>\n",
       "      <th>3</th>\n",
       "      <td>3797467345</td>\n",
       "      <td>1196621759</td>\n",
       "      <td>2019-08-15</td>\n",
       "      <td>9759</td>\n",
       "      <td>B</td>\n",
       "    </tr>\n",
       "    <tr>\n",
       "      <th>4</th>\n",
       "      <td>2282983706</td>\n",
       "      <td>2322279887</td>\n",
       "      <td>2019-08-15</td>\n",
       "      <td>2308</td>\n",
       "      <td>B</td>\n",
       "    </tr>\n",
       "  </tbody>\n",
       "</table>\n",
       "</div>"
      ],
      "text/plain": [
       "   transactionId   visitorId        date  revenue group\n",
       "0     3667963787  3312258926  2019-08-15     1650     B\n",
       "1     2804400009  3642806036  2019-08-15      730     B\n",
       "2     2961555356  4069496402  2019-08-15      400     A\n",
       "3     3797467345  1196621759  2019-08-15     9759     B\n",
       "4     2282983706  2322279887  2019-08-15     2308     B"
      ]
     },
     "execution_count": 7,
     "metadata": {},
     "output_type": "execute_result"
    }
   ],
   "source": [
    "orders.head()"
   ]
  },
  {
   "cell_type": "code",
   "execution_count": 8,
   "metadata": {},
   "outputs": [
    {
     "name": "stdout",
     "output_type": "stream",
     "text": [
      "<class 'pandas.core.frame.DataFrame'>\n",
      "RangeIndex: 1197 entries, 0 to 1196\n",
      "Data columns (total 5 columns):\n",
      " #   Column         Non-Null Count  Dtype \n",
      "---  ------         --------------  ----- \n",
      " 0   transactionId  1197 non-null   int64 \n",
      " 1   visitorId      1197 non-null   int64 \n",
      " 2   date           1197 non-null   object\n",
      " 3   revenue        1197 non-null   int64 \n",
      " 4   group          1197 non-null   object\n",
      "dtypes: int64(3), object(2)\n",
      "memory usage: 46.9+ KB\n"
     ]
    }
   ],
   "source": [
    "orders.info()"
   ]
  },
  {
   "cell_type": "markdown",
   "metadata": {},
   "source": [
    "<div style=\"border: solid purple 2px; padding: 20px\">В таблице orders 1197 строк, таблица содержит информацию о идентификаторе заказа, идентификаторе пользователя, совершившего заказ, дате заказа, выручке заказа и группе А/В-теста, в которую попал заказ. Пропусков нет, стоит изменить тип данных в колонке date и привести названия столбцов к \"змеиному\" регистру."
   ]
  },
  {
   "cell_type": "code",
   "execution_count": 9,
   "metadata": {},
   "outputs": [
    {
     "data": {
      "text/html": [
       "<div>\n",
       "<style scoped>\n",
       "    .dataframe tbody tr th:only-of-type {\n",
       "        vertical-align: middle;\n",
       "    }\n",
       "\n",
       "    .dataframe tbody tr th {\n",
       "        vertical-align: top;\n",
       "    }\n",
       "\n",
       "    .dataframe thead th {\n",
       "        text-align: right;\n",
       "    }\n",
       "</style>\n",
       "<table border=\"1\" class=\"dataframe\">\n",
       "  <thead>\n",
       "    <tr style=\"text-align: right;\">\n",
       "      <th></th>\n",
       "      <th>date</th>\n",
       "      <th>group</th>\n",
       "      <th>visitors</th>\n",
       "    </tr>\n",
       "  </thead>\n",
       "  <tbody>\n",
       "    <tr>\n",
       "      <th>0</th>\n",
       "      <td>2019-08-01</td>\n",
       "      <td>A</td>\n",
       "      <td>719</td>\n",
       "    </tr>\n",
       "    <tr>\n",
       "      <th>1</th>\n",
       "      <td>2019-08-02</td>\n",
       "      <td>A</td>\n",
       "      <td>619</td>\n",
       "    </tr>\n",
       "    <tr>\n",
       "      <th>2</th>\n",
       "      <td>2019-08-03</td>\n",
       "      <td>A</td>\n",
       "      <td>507</td>\n",
       "    </tr>\n",
       "    <tr>\n",
       "      <th>3</th>\n",
       "      <td>2019-08-04</td>\n",
       "      <td>A</td>\n",
       "      <td>717</td>\n",
       "    </tr>\n",
       "    <tr>\n",
       "      <th>4</th>\n",
       "      <td>2019-08-05</td>\n",
       "      <td>A</td>\n",
       "      <td>756</td>\n",
       "    </tr>\n",
       "  </tbody>\n",
       "</table>\n",
       "</div>"
      ],
      "text/plain": [
       "         date group  visitors\n",
       "0  2019-08-01     A       719\n",
       "1  2019-08-02     A       619\n",
       "2  2019-08-03     A       507\n",
       "3  2019-08-04     A       717\n",
       "4  2019-08-05     A       756"
      ]
     },
     "execution_count": 9,
     "metadata": {},
     "output_type": "execute_result"
    }
   ],
   "source": [
    "visitors.head()"
   ]
  },
  {
   "cell_type": "code",
   "execution_count": 10,
   "metadata": {},
   "outputs": [
    {
     "name": "stdout",
     "output_type": "stream",
     "text": [
      "<class 'pandas.core.frame.DataFrame'>\n",
      "RangeIndex: 62 entries, 0 to 61\n",
      "Data columns (total 3 columns):\n",
      " #   Column    Non-Null Count  Dtype \n",
      "---  ------    --------------  ----- \n",
      " 0   date      62 non-null     object\n",
      " 1   group     62 non-null     object\n",
      " 2   visitors  62 non-null     int64 \n",
      "dtypes: int64(1), object(2)\n",
      "memory usage: 1.6+ KB\n"
     ]
    }
   ],
   "source": [
    "visitors.info()"
   ]
  },
  {
   "cell_type": "markdown",
   "metadata": {},
   "source": [
    "<div style=\"border: solid purple 2px; padding: 20px\">В таблице visitors 62 строки, таблица содержит информацию о дате, группе А/В-теста и количестве пользователей в указанную дату в указанной группе А/В-теста. Пропусков нет, стоит изменить тип данных колонки с датой."
   ]
  },
  {
   "cell_type": "markdown",
   "metadata": {},
   "source": [
    "## Предобработка данных"
   ]
  },
  {
   "cell_type": "markdown",
   "metadata": {},
   "source": [
    "###  Переименование колонок и изменение типа данных"
   ]
  },
  {
   "cell_type": "code",
   "execution_count": 11,
   "metadata": {},
   "outputs": [],
   "source": [
    "hypothesis.columns=[col.lower() for col in hypothesis.columns] \n",
    "# функция приводит название колонок к нижнему регистру"
   ]
  },
  {
   "cell_type": "code",
   "execution_count": 12,
   "metadata": {
    "scrolled": false
   },
   "outputs": [
    {
     "data": {
      "text/plain": [
       "Index(['hypothesis', 'reach', 'impact', 'confidence', 'efforts'], dtype='object')"
      ]
     },
     "execution_count": 12,
     "metadata": {},
     "output_type": "execute_result"
    }
   ],
   "source": [
    "hypothesis.columns # проверка"
   ]
  },
  {
   "cell_type": "code",
   "execution_count": 13,
   "metadata": {},
   "outputs": [],
   "source": [
    "orders.columns=['transaction_id', 'visitor_id', 'date', 'revenue', 'group']"
   ]
  },
  {
   "cell_type": "code",
   "execution_count": 14,
   "metadata": {},
   "outputs": [
    {
     "data": {
      "text/plain": [
       "Index(['transaction_id', 'visitor_id', 'date', 'revenue', 'group'], dtype='object')"
      ]
     },
     "execution_count": 14,
     "metadata": {},
     "output_type": "execute_result"
    }
   ],
   "source": [
    "orders.columns # проверка"
   ]
  },
  {
   "cell_type": "code",
   "execution_count": 15,
   "metadata": {
    "scrolled": true
   },
   "outputs": [],
   "source": [
    "orders['date'] = pd.to_datetime(orders['date'])"
   ]
  },
  {
   "cell_type": "code",
   "execution_count": 16,
   "metadata": {
    "scrolled": false
   },
   "outputs": [
    {
     "name": "stdout",
     "output_type": "stream",
     "text": [
      "<class 'pandas.core.frame.DataFrame'>\n",
      "RangeIndex: 1197 entries, 0 to 1196\n",
      "Data columns (total 5 columns):\n",
      " #   Column          Non-Null Count  Dtype         \n",
      "---  ------          --------------  -----         \n",
      " 0   transaction_id  1197 non-null   int64         \n",
      " 1   visitor_id      1197 non-null   int64         \n",
      " 2   date            1197 non-null   datetime64[ns]\n",
      " 3   revenue         1197 non-null   int64         \n",
      " 4   group           1197 non-null   object        \n",
      "dtypes: datetime64[ns](1), int64(3), object(1)\n",
      "memory usage: 46.9+ KB\n"
     ]
    }
   ],
   "source": [
    "orders.info()"
   ]
  },
  {
   "cell_type": "code",
   "execution_count": 17,
   "metadata": {},
   "outputs": [],
   "source": [
    "visitors['date'] = pd.to_datetime(visitors['date'])"
   ]
  },
  {
   "cell_type": "code",
   "execution_count": 18,
   "metadata": {
    "scrolled": true
   },
   "outputs": [
    {
     "name": "stdout",
     "output_type": "stream",
     "text": [
      "<class 'pandas.core.frame.DataFrame'>\n",
      "RangeIndex: 62 entries, 0 to 61\n",
      "Data columns (total 3 columns):\n",
      " #   Column    Non-Null Count  Dtype         \n",
      "---  ------    --------------  -----         \n",
      " 0   date      62 non-null     datetime64[ns]\n",
      " 1   group     62 non-null     object        \n",
      " 2   visitors  62 non-null     int64         \n",
      "dtypes: datetime64[ns](1), int64(1), object(1)\n",
      "memory usage: 1.6+ KB\n"
     ]
    }
   ],
   "source": [
    "visitors.info()"
   ]
  },
  {
   "cell_type": "markdown",
   "metadata": {},
   "source": [
    "<div style=\"border: solid purple 2px; padding: 20px\">Исправить стиль в заголовках столбцов стоит для единообразия и удобства последуйщей работы с ними, а тип данных нужно изменить для корректности работы с данными даты."
   ]
  },
  {
   "cell_type": "markdown",
   "metadata": {},
   "source": [
    "### Обработка дубликатов"
   ]
  },
  {
   "cell_type": "code",
   "execution_count": 19,
   "metadata": {},
   "outputs": [
    {
     "data": {
      "text/plain": [
       "0"
      ]
     },
     "execution_count": 19,
     "metadata": {},
     "output_type": "execute_result"
    }
   ],
   "source": [
    "hypothesis.duplicated().sum()"
   ]
  },
  {
   "cell_type": "code",
   "execution_count": 20,
   "metadata": {},
   "outputs": [
    {
     "data": {
      "text/plain": [
       "0"
      ]
     },
     "execution_count": 20,
     "metadata": {},
     "output_type": "execute_result"
    }
   ],
   "source": [
    "orders.duplicated().sum()"
   ]
  },
  {
   "cell_type": "code",
   "execution_count": 21,
   "metadata": {
    "scrolled": true
   },
   "outputs": [
    {
     "data": {
      "text/plain": [
       "0"
      ]
     },
     "execution_count": 21,
     "metadata": {},
     "output_type": "execute_result"
    }
   ],
   "source": [
    "visitors.duplicated().sum()"
   ]
  },
  {
   "cell_type": "markdown",
   "metadata": {},
   "source": [
    "<div style=\"border: solid purple 2px; padding: 20px\">Дубликатов в таблице нет."
   ]
  },
  {
   "cell_type": "markdown",
   "metadata": {},
   "source": [
    "### Проверка правильности разделения по группам А/В"
   ]
  },
  {
   "cell_type": "code",
   "execution_count": 22,
   "metadata": {},
   "outputs": [
    {
     "data": {
      "text/plain": [
       "group\n",
       "A    503\n",
       "B    586\n",
       "Name: visitor_id, dtype: int64"
      ]
     },
     "execution_count": 22,
     "metadata": {},
     "output_type": "execute_result"
    }
   ],
   "source": [
    "orders.groupby('group')['visitor_id'].nunique()"
   ]
  },
  {
   "cell_type": "code",
   "execution_count": 23,
   "metadata": {},
   "outputs": [],
   "source": [
    "visitors_A = orders.query('group == \"A\"')"
   ]
  },
  {
   "cell_type": "code",
   "execution_count": 24,
   "metadata": {},
   "outputs": [],
   "source": [
    "visitors_B = orders.query('group == \"B\"')"
   ]
  },
  {
   "cell_type": "code",
   "execution_count": 25,
   "metadata": {},
   "outputs": [],
   "source": [
    "visitors_A_user_id_list = list(visitors_A[\"visitor_id\"])"
   ]
  },
  {
   "cell_type": "code",
   "execution_count": 26,
   "metadata": {},
   "outputs": [],
   "source": [
    "visitors_B_user_id_list = list(visitors_B[\"visitor_id\"])"
   ]
  },
  {
   "cell_type": "code",
   "execution_count": 27,
   "metadata": {},
   "outputs": [],
   "source": [
    "visitors_both = orders.\\\n",
    "query('visitor_id in @visitors_A_user_id_list and visitor_id in @visitors_B_user_id_list')"
   ]
  },
  {
   "cell_type": "code",
   "execution_count": 28,
   "metadata": {},
   "outputs": [
    {
     "data": {
      "text/plain": [
       "58"
      ]
     },
     "execution_count": 28,
     "metadata": {},
     "output_type": "execute_result"
    }
   ],
   "source": [
    "visitors_both['visitor_id'].nunique() # количество пользователей, попавших и в группу А, и в группу В"
   ]
  },
  {
   "cell_type": "code",
   "execution_count": 29,
   "metadata": {},
   "outputs": [],
   "source": [
    "visitors_both_user_id_list = list(visitors_both[\"visitor_id\"])"
   ]
  },
  {
   "cell_type": "code",
   "execution_count": 30,
   "metadata": {},
   "outputs": [],
   "source": [
    "orders = orders.query('visitor_id not in @visitors_both_user_id_list')"
   ]
  },
  {
   "cell_type": "markdown",
   "metadata": {},
   "source": [
    "<div style=\"border: solid purple 2px; padding: 20px\">Удалили тех пользователей в таблице orders, которых отнесли к двум группам одновременно, однако из-за агрегированных данных в таблице visitors этого сделать не получится. Нужно обратить внимание на эту ошибку при проведении следующих А/В-тестов."
   ]
  },
  {
   "cell_type": "markdown",
   "metadata": {},
   "source": [
    "## Приоритизация гипотез"
   ]
  },
  {
   "cell_type": "markdown",
   "metadata": {},
   "source": [
    "### Фреймворк ICE для приоритизации гипотез"
   ]
  },
  {
   "cell_type": "code",
   "execution_count": 31,
   "metadata": {},
   "outputs": [],
   "source": [
    "pd.options.display.max_colwidth = 120"
   ]
  },
  {
   "cell_type": "code",
   "execution_count": 32,
   "metadata": {
    "scrolled": true
   },
   "outputs": [
    {
     "data": {
      "text/html": [
       "<div>\n",
       "<style scoped>\n",
       "    .dataframe tbody tr th:only-of-type {\n",
       "        vertical-align: middle;\n",
       "    }\n",
       "\n",
       "    .dataframe tbody tr th {\n",
       "        vertical-align: top;\n",
       "    }\n",
       "\n",
       "    .dataframe thead th {\n",
       "        text-align: right;\n",
       "    }\n",
       "</style>\n",
       "<table border=\"1\" class=\"dataframe\">\n",
       "  <thead>\n",
       "    <tr style=\"text-align: right;\">\n",
       "      <th></th>\n",
       "      <th>hypothesis</th>\n",
       "      <th>reach</th>\n",
       "      <th>impact</th>\n",
       "      <th>confidence</th>\n",
       "      <th>efforts</th>\n",
       "    </tr>\n",
       "  </thead>\n",
       "  <tbody>\n",
       "    <tr>\n",
       "      <th>0</th>\n",
       "      <td>Добавить два новых канала привлечения трафика, что позволит привлекать на 30% больше пользователей</td>\n",
       "      <td>3</td>\n",
       "      <td>10</td>\n",
       "      <td>8</td>\n",
       "      <td>6</td>\n",
       "    </tr>\n",
       "    <tr>\n",
       "      <th>1</th>\n",
       "      <td>Запустить собственную службу доставки, что сократит срок доставки заказов</td>\n",
       "      <td>2</td>\n",
       "      <td>5</td>\n",
       "      <td>4</td>\n",
       "      <td>10</td>\n",
       "    </tr>\n",
       "    <tr>\n",
       "      <th>2</th>\n",
       "      <td>Добавить блоки рекомендаций товаров на сайт интернет магазина, чтобы повысить конверсию и средний чек заказа</td>\n",
       "      <td>8</td>\n",
       "      <td>3</td>\n",
       "      <td>7</td>\n",
       "      <td>3</td>\n",
       "    </tr>\n",
       "    <tr>\n",
       "      <th>3</th>\n",
       "      <td>Изменить структура категорий, что увеличит конверсию, т.к. пользователи быстрее найдут нужный товар</td>\n",
       "      <td>8</td>\n",
       "      <td>3</td>\n",
       "      <td>3</td>\n",
       "      <td>8</td>\n",
       "    </tr>\n",
       "    <tr>\n",
       "      <th>4</th>\n",
       "      <td>Изменить цвет фона главной страницы, чтобы увеличить вовлеченность пользователей</td>\n",
       "      <td>3</td>\n",
       "      <td>1</td>\n",
       "      <td>1</td>\n",
       "      <td>1</td>\n",
       "    </tr>\n",
       "    <tr>\n",
       "      <th>5</th>\n",
       "      <td>Добавить страницу отзывов клиентов о магазине, что позволит увеличить количество заказов</td>\n",
       "      <td>3</td>\n",
       "      <td>2</td>\n",
       "      <td>2</td>\n",
       "      <td>3</td>\n",
       "    </tr>\n",
       "    <tr>\n",
       "      <th>6</th>\n",
       "      <td>Показать на главной странице баннеры с актуальными акциями и распродажами, чтобы увеличить конверсию</td>\n",
       "      <td>5</td>\n",
       "      <td>3</td>\n",
       "      <td>8</td>\n",
       "      <td>3</td>\n",
       "    </tr>\n",
       "    <tr>\n",
       "      <th>7</th>\n",
       "      <td>Добавить форму подписки на все основные страницы, чтобы собрать базу клиентов для email-рассылок</td>\n",
       "      <td>10</td>\n",
       "      <td>7</td>\n",
       "      <td>8</td>\n",
       "      <td>5</td>\n",
       "    </tr>\n",
       "    <tr>\n",
       "      <th>8</th>\n",
       "      <td>Запустить акцию, дающую скидку на товар в день рождения</td>\n",
       "      <td>1</td>\n",
       "      <td>9</td>\n",
       "      <td>9</td>\n",
       "      <td>5</td>\n",
       "    </tr>\n",
       "  </tbody>\n",
       "</table>\n",
       "</div>"
      ],
      "text/plain": [
       "                                                                                                     hypothesis  \\\n",
       "0            Добавить два новых канала привлечения трафика, что позволит привлекать на 30% больше пользователей   \n",
       "1                                     Запустить собственную службу доставки, что сократит срок доставки заказов   \n",
       "2  Добавить блоки рекомендаций товаров на сайт интернет магазина, чтобы повысить конверсию и средний чек заказа   \n",
       "3           Изменить структура категорий, что увеличит конверсию, т.к. пользователи быстрее найдут нужный товар   \n",
       "4                              Изменить цвет фона главной страницы, чтобы увеличить вовлеченность пользователей   \n",
       "5                      Добавить страницу отзывов клиентов о магазине, что позволит увеличить количество заказов   \n",
       "6          Показать на главной странице баннеры с актуальными акциями и распродажами, чтобы увеличить конверсию   \n",
       "7              Добавить форму подписки на все основные страницы, чтобы собрать базу клиентов для email-рассылок   \n",
       "8                                                       Запустить акцию, дающую скидку на товар в день рождения   \n",
       "\n",
       "   reach  impact  confidence  efforts  \n",
       "0      3      10           8        6  \n",
       "1      2       5           4       10  \n",
       "2      8       3           7        3  \n",
       "3      8       3           3        8  \n",
       "4      3       1           1        1  \n",
       "5      3       2           2        3  \n",
       "6      5       3           8        3  \n",
       "7     10       7           8        5  \n",
       "8      1       9           9        5  "
      ]
     },
     "execution_count": 32,
     "metadata": {},
     "output_type": "execute_result"
    }
   ],
   "source": [
    "hypothesis"
   ]
  },
  {
   "cell_type": "code",
   "execution_count": 33,
   "metadata": {},
   "outputs": [],
   "source": [
    "hypothesis['ICE'] = hypothesis['impact']*hypothesis['confidence']/hypothesis['efforts']"
   ]
  },
  {
   "cell_type": "code",
   "execution_count": 34,
   "metadata": {},
   "outputs": [],
   "source": [
    "hypothesis['ICE'] = round(hypothesis['ICE'], 3)"
   ]
  },
  {
   "cell_type": "code",
   "execution_count": 35,
   "metadata": {
    "scrolled": false
   },
   "outputs": [
    {
     "data": {
      "text/html": [
       "<div>\n",
       "<style scoped>\n",
       "    .dataframe tbody tr th:only-of-type {\n",
       "        vertical-align: middle;\n",
       "    }\n",
       "\n",
       "    .dataframe tbody tr th {\n",
       "        vertical-align: top;\n",
       "    }\n",
       "\n",
       "    .dataframe thead th {\n",
       "        text-align: right;\n",
       "    }\n",
       "</style>\n",
       "<table border=\"1\" class=\"dataframe\">\n",
       "  <thead>\n",
       "    <tr style=\"text-align: right;\">\n",
       "      <th></th>\n",
       "      <th>hypothesis</th>\n",
       "      <th>reach</th>\n",
       "      <th>impact</th>\n",
       "      <th>confidence</th>\n",
       "      <th>efforts</th>\n",
       "      <th>ICE</th>\n",
       "    </tr>\n",
       "  </thead>\n",
       "  <tbody>\n",
       "    <tr>\n",
       "      <th>8</th>\n",
       "      <td>Запустить акцию, дающую скидку на товар в день рождения</td>\n",
       "      <td>1</td>\n",
       "      <td>9</td>\n",
       "      <td>9</td>\n",
       "      <td>5</td>\n",
       "      <td>16.200</td>\n",
       "    </tr>\n",
       "    <tr>\n",
       "      <th>0</th>\n",
       "      <td>Добавить два новых канала привлечения трафика, что позволит привлекать на 30% больше пользователей</td>\n",
       "      <td>3</td>\n",
       "      <td>10</td>\n",
       "      <td>8</td>\n",
       "      <td>6</td>\n",
       "      <td>13.333</td>\n",
       "    </tr>\n",
       "    <tr>\n",
       "      <th>7</th>\n",
       "      <td>Добавить форму подписки на все основные страницы, чтобы собрать базу клиентов для email-рассылок</td>\n",
       "      <td>10</td>\n",
       "      <td>7</td>\n",
       "      <td>8</td>\n",
       "      <td>5</td>\n",
       "      <td>11.200</td>\n",
       "    </tr>\n",
       "    <tr>\n",
       "      <th>6</th>\n",
       "      <td>Показать на главной странице баннеры с актуальными акциями и распродажами, чтобы увеличить конверсию</td>\n",
       "      <td>5</td>\n",
       "      <td>3</td>\n",
       "      <td>8</td>\n",
       "      <td>3</td>\n",
       "      <td>8.000</td>\n",
       "    </tr>\n",
       "    <tr>\n",
       "      <th>2</th>\n",
       "      <td>Добавить блоки рекомендаций товаров на сайт интернет магазина, чтобы повысить конверсию и средний чек заказа</td>\n",
       "      <td>8</td>\n",
       "      <td>3</td>\n",
       "      <td>7</td>\n",
       "      <td>3</td>\n",
       "      <td>7.000</td>\n",
       "    </tr>\n",
       "    <tr>\n",
       "      <th>1</th>\n",
       "      <td>Запустить собственную службу доставки, что сократит срок доставки заказов</td>\n",
       "      <td>2</td>\n",
       "      <td>5</td>\n",
       "      <td>4</td>\n",
       "      <td>10</td>\n",
       "      <td>2.000</td>\n",
       "    </tr>\n",
       "    <tr>\n",
       "      <th>5</th>\n",
       "      <td>Добавить страницу отзывов клиентов о магазине, что позволит увеличить количество заказов</td>\n",
       "      <td>3</td>\n",
       "      <td>2</td>\n",
       "      <td>2</td>\n",
       "      <td>3</td>\n",
       "      <td>1.333</td>\n",
       "    </tr>\n",
       "    <tr>\n",
       "      <th>3</th>\n",
       "      <td>Изменить структура категорий, что увеличит конверсию, т.к. пользователи быстрее найдут нужный товар</td>\n",
       "      <td>8</td>\n",
       "      <td>3</td>\n",
       "      <td>3</td>\n",
       "      <td>8</td>\n",
       "      <td>1.125</td>\n",
       "    </tr>\n",
       "    <tr>\n",
       "      <th>4</th>\n",
       "      <td>Изменить цвет фона главной страницы, чтобы увеличить вовлеченность пользователей</td>\n",
       "      <td>3</td>\n",
       "      <td>1</td>\n",
       "      <td>1</td>\n",
       "      <td>1</td>\n",
       "      <td>1.000</td>\n",
       "    </tr>\n",
       "  </tbody>\n",
       "</table>\n",
       "</div>"
      ],
      "text/plain": [
       "                                                                                                     hypothesis  \\\n",
       "8                                                       Запустить акцию, дающую скидку на товар в день рождения   \n",
       "0            Добавить два новых канала привлечения трафика, что позволит привлекать на 30% больше пользователей   \n",
       "7              Добавить форму подписки на все основные страницы, чтобы собрать базу клиентов для email-рассылок   \n",
       "6          Показать на главной странице баннеры с актуальными акциями и распродажами, чтобы увеличить конверсию   \n",
       "2  Добавить блоки рекомендаций товаров на сайт интернет магазина, чтобы повысить конверсию и средний чек заказа   \n",
       "1                                     Запустить собственную службу доставки, что сократит срок доставки заказов   \n",
       "5                      Добавить страницу отзывов клиентов о магазине, что позволит увеличить количество заказов   \n",
       "3           Изменить структура категорий, что увеличит конверсию, т.к. пользователи быстрее найдут нужный товар   \n",
       "4                              Изменить цвет фона главной страницы, чтобы увеличить вовлеченность пользователей   \n",
       "\n",
       "   reach  impact  confidence  efforts     ICE  \n",
       "8      1       9           9        5  16.200  \n",
       "0      3      10           8        6  13.333  \n",
       "7     10       7           8        5  11.200  \n",
       "6      5       3           8        3   8.000  \n",
       "2      8       3           7        3   7.000  \n",
       "1      2       5           4       10   2.000  \n",
       "5      3       2           2        3   1.333  \n",
       "3      8       3           3        8   1.125  \n",
       "4      3       1           1        1   1.000  "
      ]
     },
     "execution_count": 35,
     "metadata": {},
     "output_type": "execute_result"
    }
   ],
   "source": [
    "hypothesis.sort_values(by='ICE', ascending=False)"
   ]
  },
  {
   "cell_type": "markdown",
   "metadata": {},
   "source": [
    "<div style=\"border: solid purple 2px; padding: 20px\">\n",
    "Наиболее перспективные гипотезы по ICE:\n",
    "    \n",
    "- запустить акцию, дающую скидку на товар в день рождения;\n",
    "- добавить два новых канала привлечения трафика, что позволит привлекать на 30% больше пользователей;\n",
    "- добавить форму подписки на все основные страницы, чтобы собрать базу клиентов для email-рассылок;\n",
    "- показать на главной странице баннеры с актуальными акциями и распродажами, чтобы увеличить конверсию"
   ]
  },
  {
   "cell_type": "markdown",
   "metadata": {},
   "source": [
    "### Фреймворк RICE для приоритизации гипотез"
   ]
  },
  {
   "cell_type": "code",
   "execution_count": 36,
   "metadata": {},
   "outputs": [],
   "source": [
    "hypothesis['RICE'] = hypothesis['impact']*hypothesis['confidence']*hypothesis['reach']/hypothesis['efforts']"
   ]
  },
  {
   "cell_type": "code",
   "execution_count": 37,
   "metadata": {},
   "outputs": [],
   "source": [
    "hypothesis['RICE'] = round(hypothesis['RICE'], 3)"
   ]
  },
  {
   "cell_type": "code",
   "execution_count": 38,
   "metadata": {
    "scrolled": true
   },
   "outputs": [
    {
     "data": {
      "text/html": [
       "<div>\n",
       "<style scoped>\n",
       "    .dataframe tbody tr th:only-of-type {\n",
       "        vertical-align: middle;\n",
       "    }\n",
       "\n",
       "    .dataframe tbody tr th {\n",
       "        vertical-align: top;\n",
       "    }\n",
       "\n",
       "    .dataframe thead th {\n",
       "        text-align: right;\n",
       "    }\n",
       "</style>\n",
       "<table border=\"1\" class=\"dataframe\">\n",
       "  <thead>\n",
       "    <tr style=\"text-align: right;\">\n",
       "      <th></th>\n",
       "      <th>hypothesis</th>\n",
       "      <th>reach</th>\n",
       "      <th>impact</th>\n",
       "      <th>confidence</th>\n",
       "      <th>efforts</th>\n",
       "      <th>ICE</th>\n",
       "      <th>RICE</th>\n",
       "    </tr>\n",
       "  </thead>\n",
       "  <tbody>\n",
       "    <tr>\n",
       "      <th>7</th>\n",
       "      <td>Добавить форму подписки на все основные страницы, чтобы собрать базу клиентов для email-рассылок</td>\n",
       "      <td>10</td>\n",
       "      <td>7</td>\n",
       "      <td>8</td>\n",
       "      <td>5</td>\n",
       "      <td>11.200</td>\n",
       "      <td>112.0</td>\n",
       "    </tr>\n",
       "    <tr>\n",
       "      <th>2</th>\n",
       "      <td>Добавить блоки рекомендаций товаров на сайт интернет магазина, чтобы повысить конверсию и средний чек заказа</td>\n",
       "      <td>8</td>\n",
       "      <td>3</td>\n",
       "      <td>7</td>\n",
       "      <td>3</td>\n",
       "      <td>7.000</td>\n",
       "      <td>56.0</td>\n",
       "    </tr>\n",
       "    <tr>\n",
       "      <th>0</th>\n",
       "      <td>Добавить два новых канала привлечения трафика, что позволит привлекать на 30% больше пользователей</td>\n",
       "      <td>3</td>\n",
       "      <td>10</td>\n",
       "      <td>8</td>\n",
       "      <td>6</td>\n",
       "      <td>13.333</td>\n",
       "      <td>40.0</td>\n",
       "    </tr>\n",
       "    <tr>\n",
       "      <th>6</th>\n",
       "      <td>Показать на главной странице баннеры с актуальными акциями и распродажами, чтобы увеличить конверсию</td>\n",
       "      <td>5</td>\n",
       "      <td>3</td>\n",
       "      <td>8</td>\n",
       "      <td>3</td>\n",
       "      <td>8.000</td>\n",
       "      <td>40.0</td>\n",
       "    </tr>\n",
       "    <tr>\n",
       "      <th>8</th>\n",
       "      <td>Запустить акцию, дающую скидку на товар в день рождения</td>\n",
       "      <td>1</td>\n",
       "      <td>9</td>\n",
       "      <td>9</td>\n",
       "      <td>5</td>\n",
       "      <td>16.200</td>\n",
       "      <td>16.2</td>\n",
       "    </tr>\n",
       "    <tr>\n",
       "      <th>3</th>\n",
       "      <td>Изменить структура категорий, что увеличит конверсию, т.к. пользователи быстрее найдут нужный товар</td>\n",
       "      <td>8</td>\n",
       "      <td>3</td>\n",
       "      <td>3</td>\n",
       "      <td>8</td>\n",
       "      <td>1.125</td>\n",
       "      <td>9.0</td>\n",
       "    </tr>\n",
       "    <tr>\n",
       "      <th>1</th>\n",
       "      <td>Запустить собственную службу доставки, что сократит срок доставки заказов</td>\n",
       "      <td>2</td>\n",
       "      <td>5</td>\n",
       "      <td>4</td>\n",
       "      <td>10</td>\n",
       "      <td>2.000</td>\n",
       "      <td>4.0</td>\n",
       "    </tr>\n",
       "    <tr>\n",
       "      <th>5</th>\n",
       "      <td>Добавить страницу отзывов клиентов о магазине, что позволит увеличить количество заказов</td>\n",
       "      <td>3</td>\n",
       "      <td>2</td>\n",
       "      <td>2</td>\n",
       "      <td>3</td>\n",
       "      <td>1.333</td>\n",
       "      <td>4.0</td>\n",
       "    </tr>\n",
       "    <tr>\n",
       "      <th>4</th>\n",
       "      <td>Изменить цвет фона главной страницы, чтобы увеличить вовлеченность пользователей</td>\n",
       "      <td>3</td>\n",
       "      <td>1</td>\n",
       "      <td>1</td>\n",
       "      <td>1</td>\n",
       "      <td>1.000</td>\n",
       "      <td>3.0</td>\n",
       "    </tr>\n",
       "  </tbody>\n",
       "</table>\n",
       "</div>"
      ],
      "text/plain": [
       "                                                                                                     hypothesis  \\\n",
       "7              Добавить форму подписки на все основные страницы, чтобы собрать базу клиентов для email-рассылок   \n",
       "2  Добавить блоки рекомендаций товаров на сайт интернет магазина, чтобы повысить конверсию и средний чек заказа   \n",
       "0            Добавить два новых канала привлечения трафика, что позволит привлекать на 30% больше пользователей   \n",
       "6          Показать на главной странице баннеры с актуальными акциями и распродажами, чтобы увеличить конверсию   \n",
       "8                                                       Запустить акцию, дающую скидку на товар в день рождения   \n",
       "3           Изменить структура категорий, что увеличит конверсию, т.к. пользователи быстрее найдут нужный товар   \n",
       "1                                     Запустить собственную службу доставки, что сократит срок доставки заказов   \n",
       "5                      Добавить страницу отзывов клиентов о магазине, что позволит увеличить количество заказов   \n",
       "4                              Изменить цвет фона главной страницы, чтобы увеличить вовлеченность пользователей   \n",
       "\n",
       "   reach  impact  confidence  efforts     ICE   RICE  \n",
       "7     10       7           8        5  11.200  112.0  \n",
       "2      8       3           7        3   7.000   56.0  \n",
       "0      3      10           8        6  13.333   40.0  \n",
       "6      5       3           8        3   8.000   40.0  \n",
       "8      1       9           9        5  16.200   16.2  \n",
       "3      8       3           3        8   1.125    9.0  \n",
       "1      2       5           4       10   2.000    4.0  \n",
       "5      3       2           2        3   1.333    4.0  \n",
       "4      3       1           1        1   1.000    3.0  "
      ]
     },
     "execution_count": 38,
     "metadata": {},
     "output_type": "execute_result"
    }
   ],
   "source": [
    "hypothesis.sort_values(by='RICE', ascending=False)"
   ]
  },
  {
   "cell_type": "markdown",
   "metadata": {},
   "source": [
    "<div style=\"border: solid purple 2px; padding: 20px\"> \n",
    "Наиболее перспективные гипотезы по RICE:\n",
    "    \n",
    "- добавить форму подписки на все основные страницы, чтобы собрать базу клиентов для email-рассылок;\n",
    "- добавить блоки рекомендаций товаров на сайт интернет магазина, чтобы повысить конверсию и средний чек заказа;\n",
    "- добавить два новых канала привлечения трафика, что позволит привлекать на 30% больше пользователей;\n",
    "- показать на главной странице баннеры с актуальными акциями и распродажами, чтобы увеличить конверсию"
   ]
  },
  {
   "cell_type": "markdown",
   "metadata": {},
   "source": [
    "<div style=\"border: solid purple 2px; padding: 20px\"> \n",
    "Гипотезы:\n",
    "    \n",
    "- добавить форму подписки на все основные страницы, чтобы собрать базу клиентов для email-рассылок;\n",
    "- добавить два новых канала привлечения трафика, что позволит привлекать на 30% больше пользователей;\n",
    "- показать на главной странице баннеры с актуальными акциями и распродажами, чтобы увеличить конверсию;\n",
    "    \n",
    "являются приоритетными для двух фреймфорков ICE и RICE, гипотеза о запуске акции, дающую скидку на товар в день рождения сместилась ниже, а гипотеза о добавлении блоков рекомендаций товаров на сайт интернет магазина, чтобы повысить конверсию и средний чек заказа наоброт поднялась за счет бОльшего охвата. \n",
    "    \n",
    "Первостепенно стоит обратить внимание на гипотезы:\n",
    "\n",
    "- добавить форму подписки на все основные страницы, чтобы собрать базу клиентов для email-рассылок;\n",
    "- добавить два новых канала привлечения трафика, что позволит привлекать на 30% больше пользователей;\n",
    "    \n",
    "они имеют один из самых высоких параметров impact и reach при среднем параметре efforts.\n"
   ]
  },
  {
   "cell_type": "markdown",
   "metadata": {},
   "source": [
    "## Анализ A/B-теста"
   ]
  },
  {
   "cell_type": "markdown",
   "metadata": {},
   "source": [
    "### Первичный анализ данных"
   ]
  },
  {
   "cell_type": "markdown",
   "metadata": {},
   "source": [
    "В предобработке были удалены пользователи, которые относились к двум группам одновременно. Теперь посмотрим, за какой период собирались данные для исследования и сколько пользователей приняло участие."
   ]
  },
  {
   "cell_type": "code",
   "execution_count": 39,
   "metadata": {
    "scrolled": false
   },
   "outputs": [
    {
     "data": {
      "text/html": [
       "<div>\n",
       "<style scoped>\n",
       "    .dataframe tbody tr th:only-of-type {\n",
       "        vertical-align: middle;\n",
       "    }\n",
       "\n",
       "    .dataframe tbody tr th {\n",
       "        vertical-align: top;\n",
       "    }\n",
       "\n",
       "    .dataframe thead th {\n",
       "        text-align: right;\n",
       "    }\n",
       "</style>\n",
       "<table border=\"1\" class=\"dataframe\">\n",
       "  <thead>\n",
       "    <tr style=\"text-align: right;\">\n",
       "      <th></th>\n",
       "      <th>transaction_id</th>\n",
       "      <th>visitor_id</th>\n",
       "      <th>date</th>\n",
       "      <th>revenue</th>\n",
       "      <th>group</th>\n",
       "    </tr>\n",
       "  </thead>\n",
       "  <tbody>\n",
       "    <tr>\n",
       "      <th>0</th>\n",
       "      <td>3667963787</td>\n",
       "      <td>3312258926</td>\n",
       "      <td>2019-08-15</td>\n",
       "      <td>1650</td>\n",
       "      <td>B</td>\n",
       "    </tr>\n",
       "    <tr>\n",
       "      <th>1</th>\n",
       "      <td>2804400009</td>\n",
       "      <td>3642806036</td>\n",
       "      <td>2019-08-15</td>\n",
       "      <td>730</td>\n",
       "      <td>B</td>\n",
       "    </tr>\n",
       "    <tr>\n",
       "      <th>3</th>\n",
       "      <td>3797467345</td>\n",
       "      <td>1196621759</td>\n",
       "      <td>2019-08-15</td>\n",
       "      <td>9759</td>\n",
       "      <td>B</td>\n",
       "    </tr>\n",
       "    <tr>\n",
       "      <th>4</th>\n",
       "      <td>2282983706</td>\n",
       "      <td>2322279887</td>\n",
       "      <td>2019-08-15</td>\n",
       "      <td>2308</td>\n",
       "      <td>B</td>\n",
       "    </tr>\n",
       "    <tr>\n",
       "      <th>5</th>\n",
       "      <td>182168103</td>\n",
       "      <td>935554773</td>\n",
       "      <td>2019-08-15</td>\n",
       "      <td>2210</td>\n",
       "      <td>B</td>\n",
       "    </tr>\n",
       "    <tr>\n",
       "      <th>...</th>\n",
       "      <td>...</td>\n",
       "      <td>...</td>\n",
       "      <td>...</td>\n",
       "      <td>...</td>\n",
       "      <td>...</td>\n",
       "    </tr>\n",
       "    <tr>\n",
       "      <th>1191</th>\n",
       "      <td>3592955527</td>\n",
       "      <td>608641596</td>\n",
       "      <td>2019-08-14</td>\n",
       "      <td>16490</td>\n",
       "      <td>B</td>\n",
       "    </tr>\n",
       "    <tr>\n",
       "      <th>1192</th>\n",
       "      <td>2662137336</td>\n",
       "      <td>3733762160</td>\n",
       "      <td>2019-08-14</td>\n",
       "      <td>6490</td>\n",
       "      <td>B</td>\n",
       "    </tr>\n",
       "    <tr>\n",
       "      <th>1193</th>\n",
       "      <td>2203539145</td>\n",
       "      <td>370388673</td>\n",
       "      <td>2019-08-14</td>\n",
       "      <td>3190</td>\n",
       "      <td>A</td>\n",
       "    </tr>\n",
       "    <tr>\n",
       "      <th>1194</th>\n",
       "      <td>1807773912</td>\n",
       "      <td>573423106</td>\n",
       "      <td>2019-08-14</td>\n",
       "      <td>10550</td>\n",
       "      <td>A</td>\n",
       "    </tr>\n",
       "    <tr>\n",
       "      <th>1196</th>\n",
       "      <td>3936777065</td>\n",
       "      <td>2108080724</td>\n",
       "      <td>2019-08-15</td>\n",
       "      <td>202740</td>\n",
       "      <td>B</td>\n",
       "    </tr>\n",
       "  </tbody>\n",
       "</table>\n",
       "<p>1016 rows × 5 columns</p>\n",
       "</div>"
      ],
      "text/plain": [
       "      transaction_id  visitor_id       date  revenue group\n",
       "0         3667963787  3312258926 2019-08-15     1650     B\n",
       "1         2804400009  3642806036 2019-08-15      730     B\n",
       "3         3797467345  1196621759 2019-08-15     9759     B\n",
       "4         2282983706  2322279887 2019-08-15     2308     B\n",
       "5          182168103   935554773 2019-08-15     2210     B\n",
       "...              ...         ...        ...      ...   ...\n",
       "1191      3592955527   608641596 2019-08-14    16490     B\n",
       "1192      2662137336  3733762160 2019-08-14     6490     B\n",
       "1193      2203539145   370388673 2019-08-14     3190     A\n",
       "1194      1807773912   573423106 2019-08-14    10550     A\n",
       "1196      3936777065  2108080724 2019-08-15   202740     B\n",
       "\n",
       "[1016 rows x 5 columns]"
      ]
     },
     "execution_count": 39,
     "metadata": {},
     "output_type": "execute_result"
    }
   ],
   "source": [
    "orders"
   ]
  },
  {
   "cell_type": "code",
   "execution_count": 40,
   "metadata": {
    "scrolled": true
   },
   "outputs": [
    {
     "data": {
      "text/plain": [
       "973"
      ]
     },
     "execution_count": 40,
     "metadata": {},
     "output_type": "execute_result"
    }
   ],
   "source": [
    "orders['visitor_id'].nunique()"
   ]
  },
  {
   "cell_type": "code",
   "execution_count": 41,
   "metadata": {
    "scrolled": true
   },
   "outputs": [
    {
     "data": {
      "text/plain": [
       "array(['2019-08-01T00:00:00.000000000', '2019-08-02T00:00:00.000000000',\n",
       "       '2019-08-03T00:00:00.000000000', '2019-08-04T00:00:00.000000000',\n",
       "       '2019-08-05T00:00:00.000000000', '2019-08-06T00:00:00.000000000',\n",
       "       '2019-08-07T00:00:00.000000000', '2019-08-08T00:00:00.000000000',\n",
       "       '2019-08-09T00:00:00.000000000', '2019-08-10T00:00:00.000000000',\n",
       "       '2019-08-11T00:00:00.000000000', '2019-08-12T00:00:00.000000000',\n",
       "       '2019-08-13T00:00:00.000000000', '2019-08-14T00:00:00.000000000',\n",
       "       '2019-08-15T00:00:00.000000000', '2019-08-16T00:00:00.000000000',\n",
       "       '2019-08-17T00:00:00.000000000', '2019-08-18T00:00:00.000000000',\n",
       "       '2019-08-19T00:00:00.000000000', '2019-08-20T00:00:00.000000000',\n",
       "       '2019-08-21T00:00:00.000000000', '2019-08-22T00:00:00.000000000',\n",
       "       '2019-08-23T00:00:00.000000000', '2019-08-24T00:00:00.000000000',\n",
       "       '2019-08-25T00:00:00.000000000', '2019-08-26T00:00:00.000000000',\n",
       "       '2019-08-27T00:00:00.000000000', '2019-08-28T00:00:00.000000000',\n",
       "       '2019-08-29T00:00:00.000000000', '2019-08-30T00:00:00.000000000',\n",
       "       '2019-08-31T00:00:00.000000000'], dtype='datetime64[ns]')"
      ]
     },
     "execution_count": 41,
     "metadata": {},
     "output_type": "execute_result"
    }
   ],
   "source": [
    "visitors['date'].unique()"
   ]
  },
  {
   "cell_type": "markdown",
   "metadata": {},
   "source": [
    "<div style=\"border: solid purple 2px; padding: 20px\">А/В-тест проводился с 1 августа 2019 года по 31 августа 2019 года, т.е. один месяц. В нем приняло участие 973 человека. Нет данных о целях А/В-теста, каких изменеий хотят достигнуть и в каких показателях, поэтому нет возможности оценить, достаточно ли долго он проводился и на достаточном количестве пользователей. "
   ]
  },
  {
   "cell_type": "markdown",
   "metadata": {},
   "source": [
    "### График кумулятивной выручки по группам"
   ]
  },
  {
   "cell_type": "code",
   "execution_count": 42,
   "metadata": {},
   "outputs": [],
   "source": [
    "# создаем массив уникальных пар значений дат и групп теста\n",
    "datesGroups = orders[['date','group']].drop_duplicates()"
   ]
  },
  {
   "cell_type": "code",
   "execution_count": 43,
   "metadata": {},
   "outputs": [],
   "source": [
    "ordersAggregated = datesGroups.apply(lambda x: orders[np.logical_and(orders['date'] <= x['date'], orders['group'] == x['group'])]\\\n",
    ".agg({'date' : 'max', 'group' : 'max', 'transaction_id' : 'nunique', 'visitor_id' : 'nunique', 'revenue' : 'sum'}), axis=1)\\\n",
    ".sort_values(by=['date','group'])"
   ]
  },
  {
   "cell_type": "code",
   "execution_count": 44,
   "metadata": {},
   "outputs": [],
   "source": [
    "visitorsAggregated = datesGroups.apply(lambda x: visitors[np.logical_and(visitors['date'] <= x['date'], visitors['group'] == x['group'])]\\\n",
    ".agg({'date' : 'max', 'group' : 'max', 'visitors' : 'sum'}), axis=1).sort_values(by=['date','group'])"
   ]
  },
  {
   "cell_type": "code",
   "execution_count": 45,
   "metadata": {},
   "outputs": [],
   "source": [
    "# создаем массив уникальных пар значений дат и групп теста\n",
    "datesGroups = orders[['date','group']].drop_duplicates()"
   ]
  },
  {
   "cell_type": "code",
   "execution_count": 46,
   "metadata": {},
   "outputs": [],
   "source": [
    "# получаем агрегированные кумулятивные по дням данные о заказах \n",
    "ordersAggregated = datesGroups.apply(lambda x: orders[np.logical_and(orders['date'] <= x['date'], orders['group'] == x['group'])]\\\n",
    ".agg({'date' : 'max', 'group' : 'max', 'transaction_id' : 'nunique', 'visitor_id' : 'nunique', 'revenue' : 'sum'}), axis=1).sort_values(by=['date','group'])"
   ]
  },
  {
   "cell_type": "code",
   "execution_count": 47,
   "metadata": {},
   "outputs": [],
   "source": [
    "# получаем агрегированные кумулятивные по дням данные о посетителях интернет-магазина \n",
    "visitorsAggregated = datesGroups.apply(lambda x: visitors[np.logical_and(visitors['date'] <= x['date'], visitors['group'] == x['group'])]\\\n",
    ".agg({'date' : 'max', 'group' : 'max', 'visitors' : 'sum'}), axis=1).sort_values(by=['date','group'])"
   ]
  },
  {
   "cell_type": "code",
   "execution_count": 48,
   "metadata": {},
   "outputs": [],
   "source": [
    "# объединяем кумулятивные данные в одной таблице и присваиваем ее столбцам понятные названия\n",
    "cumulativeData = ordersAggregated.merge(visitorsAggregated, left_on=['date', 'group'], right_on=['date', 'group'])\n",
    "cumulativeData.columns = ['date', 'group', 'orders', 'buyers', 'revenue', 'visitors']\n"
   ]
  },
  {
   "cell_type": "code",
   "execution_count": 49,
   "metadata": {},
   "outputs": [],
   "source": [
    "# датафрейм с кумулятивным количеством заказов и кумулятивной выручкой по дням в группе А\n",
    "cumulativeRevenueA = cumulativeData[cumulativeData['group']=='A'][['date','revenue', 'orders']]"
   ]
  },
  {
   "cell_type": "code",
   "execution_count": 50,
   "metadata": {},
   "outputs": [],
   "source": [
    "# датафрейм с кумулятивным количеством заказов и кумулятивной выручкой по дням в группе B\n",
    "cumulativeRevenueB = cumulativeData[cumulativeData['group']=='B'][['date','revenue', 'orders']]"
   ]
  },
  {
   "cell_type": "code",
   "execution_count": 51,
   "metadata": {
    "scrolled": false
   },
   "outputs": [
    {
     "data": {
      "image/png": "[encoded data removed]",
      "text/plain": [
       "<Figure size 1500x1000 with 1 Axes>"
      ]
     },
     "metadata": {},
     "output_type": "display_data"
    }
   ],
   "source": [
    "plt.subplots(figsize=(15,10))\n",
    "\n",
    "# Строим график выручки группы А\n",
    "plt.plot(cumulativeRevenueA['date'], cumulativeRevenueA['revenue'], label='A')\n",
    "\n",
    "# Строим график выручки группы B\n",
    "plt.plot(cumulativeRevenueB['date'], cumulativeRevenueB['revenue'], label='B')\n",
    "\n",
    "plt.legend()\n",
    "plt.xlabel('даты заказов')\n",
    "plt.ylabel('кумулятивная выручка, млн')\n",
    "plt.title('График кумулятивной выручки по группам');"
   ]
  },
  {
   "cell_type": "markdown",
   "metadata": {},
   "source": [
    "<div style=\"border: solid purple 2px; padding: 20px\">Видно, что для группы В кумулятивная выручка выросла резко в один из дней и это сказалось на всем графике. Однако до резкого роста так же видно, что выручка группы В чуть больше выручки группы А. Вероятно, дело в одном или нескольких аномально дорогих заказов, либо же аномально большого количества заказов."
   ]
  },
  {
   "cell_type": "markdown",
   "metadata": {},
   "source": [
    "### График кумулятивного среднего чека по группам"
   ]
  },
  {
   "cell_type": "code",
   "execution_count": 52,
   "metadata": {
    "scrolled": false
   },
   "outputs": [
    {
     "data": {
      "image/png": "[encoded data removed]",
      "text/plain": [
       "<Figure size 1500x1000 with 1 Axes>"
      ]
     },
     "metadata": {},
     "output_type": "display_data"
    }
   ],
   "source": [
    "plt.subplots(figsize=(15,10))\n",
    "plt.plot(cumulativeRevenueA['date'], cumulativeRevenueA['revenue']/cumulativeRevenueA['orders'], label='A')\n",
    "plt.plot(cumulativeRevenueB['date'], cumulativeRevenueB['revenue']/cumulativeRevenueB['orders'], label='B')\n",
    "plt.legend()\n",
    "plt.xlabel('даты заказов')\n",
    "plt.ylabel('кумулятивный средний чек')\n",
    "plt.title('График кумулятивного среднего чека по группам');"
   ]
  },
  {
   "cell_type": "markdown",
   "metadata": {},
   "source": [
    "<div style=\"border: solid purple 2px; padding: 20px\">Видно, что в тот же день, где был пик кумулятивной выручки по группам, есть пик и в среднем чеке для группы В. Скорее всего в этот день была сделана одна или несколько дорогостоящих покупок пользователями из группы В. Даже без учета пика сложно выявить лидера графика по среднему чеку."
   ]
  },
  {
   "cell_type": "markdown",
   "metadata": {},
   "source": [
    "Выясним, что это был за день и за заказ/заказы"
   ]
  },
  {
   "cell_type": "code",
   "execution_count": 53,
   "metadata": {
    "scrolled": false
   },
   "outputs": [
    {
     "data": {
      "text/html": [
       "<div>\n",
       "<style scoped>\n",
       "    .dataframe tbody tr th:only-of-type {\n",
       "        vertical-align: middle;\n",
       "    }\n",
       "\n",
       "    .dataframe tbody tr th {\n",
       "        vertical-align: top;\n",
       "    }\n",
       "\n",
       "    .dataframe thead th {\n",
       "        text-align: right;\n",
       "    }\n",
       "</style>\n",
       "<table border=\"1\" class=\"dataframe\">\n",
       "  <thead>\n",
       "    <tr style=\"text-align: right;\">\n",
       "      <th></th>\n",
       "      <th>date</th>\n",
       "      <th>revenue</th>\n",
       "      <th>orders</th>\n",
       "    </tr>\n",
       "  </thead>\n",
       "  <tbody>\n",
       "    <tr>\n",
       "      <th>1</th>\n",
       "      <td>2019-08-01</td>\n",
       "      <td>59758</td>\n",
       "      <td>17</td>\n",
       "    </tr>\n",
       "    <tr>\n",
       "      <th>3</th>\n",
       "      <td>2019-08-02</td>\n",
       "      <td>221801</td>\n",
       "      <td>40</td>\n",
       "    </tr>\n",
       "    <tr>\n",
       "      <th>5</th>\n",
       "      <td>2019-08-03</td>\n",
       "      <td>288850</td>\n",
       "      <td>54</td>\n",
       "    </tr>\n",
       "    <tr>\n",
       "      <th>7</th>\n",
       "      <td>2019-08-04</td>\n",
       "      <td>385740</td>\n",
       "      <td>68</td>\n",
       "    </tr>\n",
       "    <tr>\n",
       "      <th>9</th>\n",
       "      <td>2019-08-05</td>\n",
       "      <td>475648</td>\n",
       "      <td>89</td>\n",
       "    </tr>\n",
       "    <tr>\n",
       "      <th>11</th>\n",
       "      <td>2019-08-06</td>\n",
       "      <td>690490</td>\n",
       "      <td>112</td>\n",
       "    </tr>\n",
       "    <tr>\n",
       "      <th>13</th>\n",
       "      <td>2019-08-07</td>\n",
       "      <td>909654</td>\n",
       "      <td>135</td>\n",
       "    </tr>\n",
       "    <tr>\n",
       "      <th>15</th>\n",
       "      <td>2019-08-08</td>\n",
       "      <td>1059795</td>\n",
       "      <td>157</td>\n",
       "    </tr>\n",
       "    <tr>\n",
       "      <th>17</th>\n",
       "      <td>2019-08-09</td>\n",
       "      <td>1162961</td>\n",
       "      <td>176</td>\n",
       "    </tr>\n",
       "    <tr>\n",
       "      <th>19</th>\n",
       "      <td>2019-08-10</td>\n",
       "      <td>1268123</td>\n",
       "      <td>198</td>\n",
       "    </tr>\n",
       "    <tr>\n",
       "      <th>21</th>\n",
       "      <td>2019-08-11</td>\n",
       "      <td>1321183</td>\n",
       "      <td>210</td>\n",
       "    </tr>\n",
       "    <tr>\n",
       "      <th>23</th>\n",
       "      <td>2019-08-12</td>\n",
       "      <td>1425237</td>\n",
       "      <td>229</td>\n",
       "    </tr>\n",
       "    <tr>\n",
       "      <th>25</th>\n",
       "      <td>2019-08-13</td>\n",
       "      <td>1542928</td>\n",
       "      <td>249</td>\n",
       "    </tr>\n",
       "    <tr>\n",
       "      <th>27</th>\n",
       "      <td>2019-08-14</td>\n",
       "      <td>1650268</td>\n",
       "      <td>263</td>\n",
       "    </tr>\n",
       "    <tr>\n",
       "      <th>29</th>\n",
       "      <td>2019-08-15</td>\n",
       "      <td>1960427</td>\n",
       "      <td>289</td>\n",
       "    </tr>\n",
       "    <tr>\n",
       "      <th>31</th>\n",
       "      <td>2019-08-16</td>\n",
       "      <td>2074677</td>\n",
       "      <td>307</td>\n",
       "    </tr>\n",
       "    <tr>\n",
       "      <th>33</th>\n",
       "      <td>2019-08-17</td>\n",
       "      <td>2155542</td>\n",
       "      <td>320</td>\n",
       "    </tr>\n",
       "    <tr>\n",
       "      <th>35</th>\n",
       "      <td>2019-08-18</td>\n",
       "      <td>2190865</td>\n",
       "      <td>327</td>\n",
       "    </tr>\n",
       "    <tr>\n",
       "      <th>37</th>\n",
       "      <td>2019-08-19</td>\n",
       "      <td>3620785</td>\n",
       "      <td>348</td>\n",
       "    </tr>\n",
       "    <tr>\n",
       "      <th>39</th>\n",
       "      <td>2019-08-20</td>\n",
       "      <td>3768059</td>\n",
       "      <td>368</td>\n",
       "    </tr>\n",
       "    <tr>\n",
       "      <th>41</th>\n",
       "      <td>2019-08-21</td>\n",
       "      <td>3908406</td>\n",
       "      <td>380</td>\n",
       "    </tr>\n",
       "    <tr>\n",
       "      <th>43</th>\n",
       "      <td>2019-08-22</td>\n",
       "      <td>4050134</td>\n",
       "      <td>401</td>\n",
       "    </tr>\n",
       "    <tr>\n",
       "      <th>45</th>\n",
       "      <td>2019-08-23</td>\n",
       "      <td>4127403</td>\n",
       "      <td>414</td>\n",
       "    </tr>\n",
       "    <tr>\n",
       "      <th>47</th>\n",
       "      <td>2019-08-24</td>\n",
       "      <td>4215269</td>\n",
       "      <td>428</td>\n",
       "    </tr>\n",
       "    <tr>\n",
       "      <th>49</th>\n",
       "      <td>2019-08-25</td>\n",
       "      <td>4294526</td>\n",
       "      <td>440</td>\n",
       "    </tr>\n",
       "    <tr>\n",
       "      <th>51</th>\n",
       "      <td>2019-08-26</td>\n",
       "      <td>4467965</td>\n",
       "      <td>462</td>\n",
       "    </tr>\n",
       "    <tr>\n",
       "      <th>53</th>\n",
       "      <td>2019-08-27</td>\n",
       "      <td>4579312</td>\n",
       "      <td>473</td>\n",
       "    </tr>\n",
       "    <tr>\n",
       "      <th>55</th>\n",
       "      <td>2019-08-28</td>\n",
       "      <td>4640510</td>\n",
       "      <td>495</td>\n",
       "    </tr>\n",
       "    <tr>\n",
       "      <th>57</th>\n",
       "      <td>2019-08-29</td>\n",
       "      <td>4746610</td>\n",
       "      <td>510</td>\n",
       "    </tr>\n",
       "    <tr>\n",
       "      <th>59</th>\n",
       "      <td>2019-08-30</td>\n",
       "      <td>4955833</td>\n",
       "      <td>531</td>\n",
       "    </tr>\n",
       "    <tr>\n",
       "      <th>61</th>\n",
       "      <td>2019-08-31</td>\n",
       "      <td>5068972</td>\n",
       "      <td>548</td>\n",
       "    </tr>\n",
       "  </tbody>\n",
       "</table>\n",
       "</div>"
      ],
      "text/plain": [
       "         date  revenue  orders\n",
       "1  2019-08-01    59758      17\n",
       "3  2019-08-02   221801      40\n",
       "5  2019-08-03   288850      54\n",
       "7  2019-08-04   385740      68\n",
       "9  2019-08-05   475648      89\n",
       "11 2019-08-06   690490     112\n",
       "13 2019-08-07   909654     135\n",
       "15 2019-08-08  1059795     157\n",
       "17 2019-08-09  1162961     176\n",
       "19 2019-08-10  1268123     198\n",
       "21 2019-08-11  1321183     210\n",
       "23 2019-08-12  1425237     229\n",
       "25 2019-08-13  1542928     249\n",
       "27 2019-08-14  1650268     263\n",
       "29 2019-08-15  1960427     289\n",
       "31 2019-08-16  2074677     307\n",
       "33 2019-08-17  2155542     320\n",
       "35 2019-08-18  2190865     327\n",
       "37 2019-08-19  3620785     348\n",
       "39 2019-08-20  3768059     368\n",
       "41 2019-08-21  3908406     380\n",
       "43 2019-08-22  4050134     401\n",
       "45 2019-08-23  4127403     414\n",
       "47 2019-08-24  4215269     428\n",
       "49 2019-08-25  4294526     440\n",
       "51 2019-08-26  4467965     462\n",
       "53 2019-08-27  4579312     473\n",
       "55 2019-08-28  4640510     495\n",
       "57 2019-08-29  4746610     510\n",
       "59 2019-08-30  4955833     531\n",
       "61 2019-08-31  5068972     548"
      ]
     },
     "execution_count": 53,
     "metadata": {},
     "output_type": "execute_result"
    }
   ],
   "source": [
    "cumulativeRevenueB"
   ]
  },
  {
   "cell_type": "code",
   "execution_count": 54,
   "metadata": {},
   "outputs": [
    {
     "data": {
      "text/html": [
       "<div>\n",
       "<style scoped>\n",
       "    .dataframe tbody tr th:only-of-type {\n",
       "        vertical-align: middle;\n",
       "    }\n",
       "\n",
       "    .dataframe tbody tr th {\n",
       "        vertical-align: top;\n",
       "    }\n",
       "\n",
       "    .dataframe thead th {\n",
       "        text-align: right;\n",
       "    }\n",
       "</style>\n",
       "<table border=\"1\" class=\"dataframe\">\n",
       "  <thead>\n",
       "    <tr style=\"text-align: right;\">\n",
       "      <th></th>\n",
       "      <th>transaction_id</th>\n",
       "      <th>visitor_id</th>\n",
       "      <th>date</th>\n",
       "      <th>revenue</th>\n",
       "      <th>group</th>\n",
       "    </tr>\n",
       "  </thead>\n",
       "  <tbody>\n",
       "    <tr>\n",
       "      <th>308</th>\n",
       "      <td>2669609377</td>\n",
       "      <td>3511496907</td>\n",
       "      <td>2019-08-19</td>\n",
       "      <td>1900</td>\n",
       "      <td>A</td>\n",
       "    </tr>\n",
       "    <tr>\n",
       "      <th>309</th>\n",
       "      <td>2727336513</td>\n",
       "      <td>2629148010</td>\n",
       "      <td>2019-08-19</td>\n",
       "      <td>2690</td>\n",
       "      <td>A</td>\n",
       "    </tr>\n",
       "    <tr>\n",
       "      <th>315</th>\n",
       "      <td>1939633950</td>\n",
       "      <td>157579733</td>\n",
       "      <td>2019-08-19</td>\n",
       "      <td>2330</td>\n",
       "      <td>B</td>\n",
       "    </tr>\n",
       "    <tr>\n",
       "      <th>316</th>\n",
       "      <td>4226817726</td>\n",
       "      <td>1349865791</td>\n",
       "      <td>2019-08-19</td>\n",
       "      <td>2490</td>\n",
       "      <td>A</td>\n",
       "    </tr>\n",
       "    <tr>\n",
       "      <th>317</th>\n",
       "      <td>486115048</td>\n",
       "      <td>2358787737</td>\n",
       "      <td>2019-08-19</td>\n",
       "      <td>2526</td>\n",
       "      <td>A</td>\n",
       "    </tr>\n",
       "    <tr>\n",
       "      <th>318</th>\n",
       "      <td>3412626998</td>\n",
       "      <td>3282099314</td>\n",
       "      <td>2019-08-19</td>\n",
       "      <td>11985</td>\n",
       "      <td>A</td>\n",
       "    </tr>\n",
       "    <tr>\n",
       "      <th>319</th>\n",
       "      <td>2414788465</td>\n",
       "      <td>2247745159</td>\n",
       "      <td>2019-08-19</td>\n",
       "      <td>1435</td>\n",
       "      <td>B</td>\n",
       "    </tr>\n",
       "    <tr>\n",
       "      <th>320</th>\n",
       "      <td>1652782757</td>\n",
       "      <td>2763027084</td>\n",
       "      <td>2019-08-19</td>\n",
       "      <td>1460</td>\n",
       "      <td>B</td>\n",
       "    </tr>\n",
       "    <tr>\n",
       "      <th>321</th>\n",
       "      <td>1775445570</td>\n",
       "      <td>3118528100</td>\n",
       "      <td>2019-08-19</td>\n",
       "      <td>1090</td>\n",
       "      <td>A</td>\n",
       "    </tr>\n",
       "    <tr>\n",
       "      <th>322</th>\n",
       "      <td>3154167297</td>\n",
       "      <td>2091902649</td>\n",
       "      <td>2019-08-19</td>\n",
       "      <td>250</td>\n",
       "      <td>B</td>\n",
       "    </tr>\n",
       "    <tr>\n",
       "      <th>363</th>\n",
       "      <td>2096847394</td>\n",
       "      <td>4251115836</td>\n",
       "      <td>2019-08-19</td>\n",
       "      <td>2500</td>\n",
       "      <td>B</td>\n",
       "    </tr>\n",
       "    <tr>\n",
       "      <th>364</th>\n",
       "      <td>1745032218</td>\n",
       "      <td>1772171838</td>\n",
       "      <td>2019-08-19</td>\n",
       "      <td>1590</td>\n",
       "      <td>A</td>\n",
       "    </tr>\n",
       "    <tr>\n",
       "      <th>365</th>\n",
       "      <td>4288552432</td>\n",
       "      <td>2971471657</td>\n",
       "      <td>2019-08-19</td>\n",
       "      <td>380</td>\n",
       "      <td>A</td>\n",
       "    </tr>\n",
       "    <tr>\n",
       "      <th>366</th>\n",
       "      <td>2037051350</td>\n",
       "      <td>1957949546</td>\n",
       "      <td>2019-08-19</td>\n",
       "      <td>16770</td>\n",
       "      <td>A</td>\n",
       "    </tr>\n",
       "    <tr>\n",
       "      <th>367</th>\n",
       "      <td>1033377712</td>\n",
       "      <td>3860669668</td>\n",
       "      <td>2019-08-19</td>\n",
       "      <td>3990</td>\n",
       "      <td>B</td>\n",
       "    </tr>\n",
       "    <tr>\n",
       "      <th>368</th>\n",
       "      <td>3268879337</td>\n",
       "      <td>2536252163</td>\n",
       "      <td>2019-08-19</td>\n",
       "      <td>20026</td>\n",
       "      <td>B</td>\n",
       "    </tr>\n",
       "    <tr>\n",
       "      <th>421</th>\n",
       "      <td>3765974140</td>\n",
       "      <td>1357170471</td>\n",
       "      <td>2019-08-19</td>\n",
       "      <td>31680</td>\n",
       "      <td>A</td>\n",
       "    </tr>\n",
       "    <tr>\n",
       "      <th>422</th>\n",
       "      <td>181836088</td>\n",
       "      <td>3528043184</td>\n",
       "      <td>2019-08-19</td>\n",
       "      <td>9490</td>\n",
       "      <td>A</td>\n",
       "    </tr>\n",
       "    <tr>\n",
       "      <th>423</th>\n",
       "      <td>4161654914</td>\n",
       "      <td>990904712</td>\n",
       "      <td>2019-08-19</td>\n",
       "      <td>11249</td>\n",
       "      <td>B</td>\n",
       "    </tr>\n",
       "    <tr>\n",
       "      <th>424</th>\n",
       "      <td>2609443403</td>\n",
       "      <td>2406916810</td>\n",
       "      <td>2019-08-19</td>\n",
       "      <td>470</td>\n",
       "      <td>B</td>\n",
       "    </tr>\n",
       "    <tr>\n",
       "      <th>425</th>\n",
       "      <td>590470918</td>\n",
       "      <td>1920142716</td>\n",
       "      <td>2019-08-19</td>\n",
       "      <td>1294500</td>\n",
       "      <td>B</td>\n",
       "    </tr>\n",
       "    <tr>\n",
       "      <th>426</th>\n",
       "      <td>19467429</td>\n",
       "      <td>2397843657</td>\n",
       "      <td>2019-08-19</td>\n",
       "      <td>2630</td>\n",
       "      <td>B</td>\n",
       "    </tr>\n",
       "    <tr>\n",
       "      <th>427</th>\n",
       "      <td>3019510679</td>\n",
       "      <td>2397843657</td>\n",
       "      <td>2019-08-19</td>\n",
       "      <td>1460</td>\n",
       "      <td>B</td>\n",
       "    </tr>\n",
       "    <tr>\n",
       "      <th>428</th>\n",
       "      <td>791532781</td>\n",
       "      <td>4079050915</td>\n",
       "      <td>2019-08-19</td>\n",
       "      <td>4930</td>\n",
       "      <td>A</td>\n",
       "    </tr>\n",
       "    <tr>\n",
       "      <th>429</th>\n",
       "      <td>2436528253</td>\n",
       "      <td>1060341621</td>\n",
       "      <td>2019-08-19</td>\n",
       "      <td>1100</td>\n",
       "      <td>B</td>\n",
       "    </tr>\n",
       "    <tr>\n",
       "      <th>459</th>\n",
       "      <td>863448794</td>\n",
       "      <td>2738601405</td>\n",
       "      <td>2019-08-19</td>\n",
       "      <td>50</td>\n",
       "      <td>B</td>\n",
       "    </tr>\n",
       "    <tr>\n",
       "      <th>460</th>\n",
       "      <td>141445646</td>\n",
       "      <td>3017378493</td>\n",
       "      <td>2019-08-19</td>\n",
       "      <td>3190</td>\n",
       "      <td>A</td>\n",
       "    </tr>\n",
       "    <tr>\n",
       "      <th>461</th>\n",
       "      <td>2683113224</td>\n",
       "      <td>154576532</td>\n",
       "      <td>2019-08-19</td>\n",
       "      <td>26550</td>\n",
       "      <td>B</td>\n",
       "    </tr>\n",
       "    <tr>\n",
       "      <th>462</th>\n",
       "      <td>2661837070</td>\n",
       "      <td>3819243527</td>\n",
       "      <td>2019-08-19</td>\n",
       "      <td>9232</td>\n",
       "      <td>A</td>\n",
       "    </tr>\n",
       "    <tr>\n",
       "      <th>463</th>\n",
       "      <td>4170537404</td>\n",
       "      <td>290022471</td>\n",
       "      <td>2019-08-19</td>\n",
       "      <td>16480</td>\n",
       "      <td>B</td>\n",
       "    </tr>\n",
       "    <tr>\n",
       "      <th>485</th>\n",
       "      <td>858446481</td>\n",
       "      <td>517094627</td>\n",
       "      <td>2019-08-19</td>\n",
       "      <td>390</td>\n",
       "      <td>A</td>\n",
       "    </tr>\n",
       "    <tr>\n",
       "      <th>486</th>\n",
       "      <td>752294429</td>\n",
       "      <td>2758621772</td>\n",
       "      <td>2019-08-19</td>\n",
       "      <td>1130</td>\n",
       "      <td>B</td>\n",
       "    </tr>\n",
       "    <tr>\n",
       "      <th>487</th>\n",
       "      <td>2786000406</td>\n",
       "      <td>2744017357</td>\n",
       "      <td>2019-08-19</td>\n",
       "      <td>1490</td>\n",
       "      <td>A</td>\n",
       "    </tr>\n",
       "    <tr>\n",
       "      <th>488</th>\n",
       "      <td>2882003943</td>\n",
       "      <td>3212572194</td>\n",
       "      <td>2019-08-19</td>\n",
       "      <td>1650</td>\n",
       "      <td>A</td>\n",
       "    </tr>\n",
       "    <tr>\n",
       "      <th>523</th>\n",
       "      <td>1739748874</td>\n",
       "      <td>522292794</td>\n",
       "      <td>2019-08-19</td>\n",
       "      <td>4880</td>\n",
       "      <td>B</td>\n",
       "    </tr>\n",
       "    <tr>\n",
       "      <th>524</th>\n",
       "      <td>3487214061</td>\n",
       "      <td>2776274025</td>\n",
       "      <td>2019-08-19</td>\n",
       "      <td>6590</td>\n",
       "      <td>A</td>\n",
       "    </tr>\n",
       "    <tr>\n",
       "      <th>526</th>\n",
       "      <td>1654949825</td>\n",
       "      <td>1335154194</td>\n",
       "      <td>2019-08-19</td>\n",
       "      <td>500</td>\n",
       "      <td>B</td>\n",
       "    </tr>\n",
       "    <tr>\n",
       "      <th>527</th>\n",
       "      <td>1570513684</td>\n",
       "      <td>2837914161</td>\n",
       "      <td>2019-08-19</td>\n",
       "      <td>33405</td>\n",
       "      <td>B</td>\n",
       "    </tr>\n",
       "    <tr>\n",
       "      <th>528</th>\n",
       "      <td>1543948528</td>\n",
       "      <td>492739583</td>\n",
       "      <td>2019-08-19</td>\n",
       "      <td>750</td>\n",
       "      <td>A</td>\n",
       "    </tr>\n",
       "    <tr>\n",
       "      <th>529</th>\n",
       "      <td>90109939</td>\n",
       "      <td>2075769885</td>\n",
       "      <td>2019-08-19</td>\n",
       "      <td>3525</td>\n",
       "      <td>B</td>\n",
       "    </tr>\n",
       "    <tr>\n",
       "      <th>530</th>\n",
       "      <td>3970235543</td>\n",
       "      <td>2912540959</td>\n",
       "      <td>2019-08-19</td>\n",
       "      <td>43990</td>\n",
       "      <td>A</td>\n",
       "    </tr>\n",
       "    <tr>\n",
       "      <th>531</th>\n",
       "      <td>4016435970</td>\n",
       "      <td>4017075195</td>\n",
       "      <td>2019-08-19</td>\n",
       "      <td>13390</td>\n",
       "      <td>A</td>\n",
       "    </tr>\n",
       "  </tbody>\n",
       "</table>\n",
       "</div>"
      ],
      "text/plain": [
       "     transaction_id  visitor_id       date  revenue group\n",
       "308      2669609377  3511496907 2019-08-19     1900     A\n",
       "309      2727336513  2629148010 2019-08-19     2690     A\n",
       "315      1939633950   157579733 2019-08-19     2330     B\n",
       "316      4226817726  1349865791 2019-08-19     2490     A\n",
       "317       486115048  2358787737 2019-08-19     2526     A\n",
       "318      3412626998  3282099314 2019-08-19    11985     A\n",
       "319      2414788465  2247745159 2019-08-19     1435     B\n",
       "320      1652782757  2763027084 2019-08-19     1460     B\n",
       "321      1775445570  3118528100 2019-08-19     1090     A\n",
       "322      3154167297  2091902649 2019-08-19      250     B\n",
       "363      2096847394  4251115836 2019-08-19     2500     B\n",
       "364      1745032218  1772171838 2019-08-19     1590     A\n",
       "365      4288552432  2971471657 2019-08-19      380     A\n",
       "366      2037051350  1957949546 2019-08-19    16770     A\n",
       "367      1033377712  3860669668 2019-08-19     3990     B\n",
       "368      3268879337  2536252163 2019-08-19    20026     B\n",
       "421      3765974140  1357170471 2019-08-19    31680     A\n",
       "422       181836088  3528043184 2019-08-19     9490     A\n",
       "423      4161654914   990904712 2019-08-19    11249     B\n",
       "424      2609443403  2406916810 2019-08-19      470     B\n",
       "425       590470918  1920142716 2019-08-19  1294500     B\n",
       "426        19467429  2397843657 2019-08-19     2630     B\n",
       "427      3019510679  2397843657 2019-08-19     1460     B\n",
       "428       791532781  4079050915 2019-08-19     4930     A\n",
       "429      2436528253  1060341621 2019-08-19     1100     B\n",
       "459       863448794  2738601405 2019-08-19       50     B\n",
       "460       141445646  3017378493 2019-08-19     3190     A\n",
       "461      2683113224   154576532 2019-08-19    26550     B\n",
       "462      2661837070  3819243527 2019-08-19     9232     A\n",
       "463      4170537404   290022471 2019-08-19    16480     B\n",
       "485       858446481   517094627 2019-08-19      390     A\n",
       "486       752294429  2758621772 2019-08-19     1130     B\n",
       "487      2786000406  2744017357 2019-08-19     1490     A\n",
       "488      2882003943  3212572194 2019-08-19     1650     A\n",
       "523      1739748874   522292794 2019-08-19     4880     B\n",
       "524      3487214061  2776274025 2019-08-19     6590     A\n",
       "526      1654949825  1335154194 2019-08-19      500     B\n",
       "527      1570513684  2837914161 2019-08-19    33405     B\n",
       "528      1543948528   492739583 2019-08-19      750     A\n",
       "529        90109939  2075769885 2019-08-19     3525     B\n",
       "530      3970235543  2912540959 2019-08-19    43990     A\n",
       "531      4016435970  4017075195 2019-08-19    13390     A"
      ]
     },
     "execution_count": 54,
     "metadata": {},
     "output_type": "execute_result"
    }
   ],
   "source": [
    "orders.query('date == \"2019-08-19\"')"
   ]
  },
  {
   "cell_type": "code",
   "execution_count": 55,
   "metadata": {
    "scrolled": true
   },
   "outputs": [
    {
     "data": {
      "text/html": [
       "<div>\n",
       "<style scoped>\n",
       "    .dataframe tbody tr th:only-of-type {\n",
       "        vertical-align: middle;\n",
       "    }\n",
       "\n",
       "    .dataframe tbody tr th {\n",
       "        vertical-align: top;\n",
       "    }\n",
       "\n",
       "    .dataframe thead th {\n",
       "        text-align: right;\n",
       "    }\n",
       "</style>\n",
       "<table border=\"1\" class=\"dataframe\">\n",
       "  <thead>\n",
       "    <tr style=\"text-align: right;\">\n",
       "      <th></th>\n",
       "      <th>transaction_id</th>\n",
       "      <th>visitor_id</th>\n",
       "      <th>date</th>\n",
       "      <th>revenue</th>\n",
       "      <th>group</th>\n",
       "    </tr>\n",
       "  </thead>\n",
       "  <tbody>\n",
       "    <tr>\n",
       "      <th>425</th>\n",
       "      <td>590470918</td>\n",
       "      <td>1920142716</td>\n",
       "      <td>2019-08-19</td>\n",
       "      <td>1294500</td>\n",
       "      <td>B</td>\n",
       "    </tr>\n",
       "  </tbody>\n",
       "</table>\n",
       "</div>"
      ],
      "text/plain": [
       "     transaction_id  visitor_id       date  revenue group\n",
       "425       590470918  1920142716 2019-08-19  1294500     B"
      ]
     },
     "execution_count": 55,
     "metadata": {},
     "output_type": "execute_result"
    }
   ],
   "source": [
    "orders.query('visitor_id == 1920142716')"
   ]
  },
  {
   "cell_type": "markdown",
   "metadata": {},
   "source": [
    "Был сделан заказ на 19 августа 2019 год на сумму 1294500 пользователем с visitor_id 1920142716. В дальнейшем этот заказак как аномальный будет исключен при подсчете статистическиз значимостей."
   ]
  },
  {
   "cell_type": "markdown",
   "metadata": {},
   "source": [
    "### График относительного изменения кумулятивного среднего чека группы B к группе A"
   ]
  },
  {
   "cell_type": "code",
   "execution_count": 56,
   "metadata": {},
   "outputs": [],
   "source": [
    "# собираем данные в одном датафрейме\n",
    "mergedCumulativeRevenue = cumulativeRevenueA.merge(cumulativeRevenueB, left_on='date', right_on='date', how='left', suffixes=['A', 'B'])"
   ]
  },
  {
   "cell_type": "code",
   "execution_count": 57,
   "metadata": {
    "scrolled": false
   },
   "outputs": [
    {
     "data": {
      "image/png": "[encoded data removed]",
      "text/plain": [
       "<Figure size 1500x1000 with 1 Axes>"
      ]
     },
     "metadata": {},
     "output_type": "display_data"
    }
   ],
   "source": [
    "plt.subplots(figsize=(15,10))\n",
    "\n",
    "# cтроим отношение средних чеков\n",
    "plt.plot(mergedCumulativeRevenue['date'], (mergedCumulativeRevenue['revenueB']/mergedCumulativeRevenue['ordersB'])/(mergedCumulativeRevenue['revenueA']/mergedCumulativeRevenue['ordersA'])-1)\n",
    "\n",
    "# добавляем ось X\n",
    "plt.axhline(y=0, color='black', linestyle='--')\n",
    "plt.xlabel('даты заказов')\n",
    "plt.ylabel('отношение средних чеков')\n",
    "plt.title('График относительного изменения кумулятивного среднего чека группы B к группе A');"
   ]
  },
  {
   "cell_type": "markdown",
   "metadata": {},
   "source": [
    "<div style=\"border: solid purple 2px; padding: 20px\">По этому же графику видно, что относительное изменение в начале эксперемента больше для группы В, однако даже после пика 19 августа изменение падает, и, возможно, без этого заказа оно было бы ниже нуля, что может говорить о том, что группа В не лучше чем группа А."
   ]
  },
  {
   "cell_type": "markdown",
   "metadata": {},
   "source": [
    "### График кумулятивного среднего количества заказов на посетителя по группам"
   ]
  },
  {
   "cell_type": "code",
   "execution_count": 58,
   "metadata": {},
   "outputs": [],
   "source": [
    "# считаем кумулятивную конверсию\n",
    "cumulativeData['conversion'] = cumulativeData['orders']/cumulativeData['visitors']"
   ]
  },
  {
   "cell_type": "code",
   "execution_count": 59,
   "metadata": {},
   "outputs": [],
   "source": [
    "# отделяем данные по группе A\n",
    "cumulativeDataA = cumulativeData[cumulativeData['group']=='A']"
   ]
  },
  {
   "cell_type": "code",
   "execution_count": 60,
   "metadata": {},
   "outputs": [],
   "source": [
    "# отделяем данные по группе B\n",
    "cumulativeDataB = cumulativeData[cumulativeData['group']=='B']"
   ]
  },
  {
   "cell_type": "code",
   "execution_count": 61,
   "metadata": {
    "scrolled": false
   },
   "outputs": [
    {
     "data": {
      "image/png": "[encoded data removed]",
      "text/plain": [
       "<Figure size 1500x1000 with 1 Axes>"
      ]
     },
     "metadata": {},
     "output_type": "display_data"
    }
   ],
   "source": [
    "plt.subplots(figsize=(15,10))\n",
    "plt.plot(cumulativeDataA['date'], cumulativeDataA['conversion'], label='A')\n",
    "plt.plot(cumulativeDataB['date'], cumulativeDataB['conversion'], label='B')\n",
    "plt.legend()\n",
    "plt.xlabel('даты заказов')\n",
    "plt.ylabel('среднее количество заказов на посетителя')\n",
    "plt.title('График кумулятивного среднего количества заказов на посетителя по группам');"
   ]
  },
  {
   "cell_type": "markdown",
   "metadata": {},
   "source": [
    "<div style=\"border: solid purple 2px; padding: 20px\">На графике конверсии посетителей в заказы видно что в среднем количество заказов на посетителя для группы В выше, чем для группы А, что может говорить о том, что посетители из группы В покупают чаще. "
   ]
  },
  {
   "cell_type": "markdown",
   "metadata": {},
   "source": [
    "### График относительного изменения кумулятивного среднего количества заказов на посетителя группы B к группе A"
   ]
  },
  {
   "cell_type": "code",
   "execution_count": 62,
   "metadata": {},
   "outputs": [],
   "source": [
    "mergedCumulativeConversions = cumulativeDataA[['date','conversion']]\\\n",
    ".merge(cumulativeDataB[['date','conversion']], left_on='date', right_on='date', how='left', suffixes=['A', 'B'])"
   ]
  },
  {
   "cell_type": "code",
   "execution_count": 63,
   "metadata": {
    "scrolled": false
   },
   "outputs": [
    {
     "data": {
      "image/png": "[encoded data removed]",
      "text/plain": [
       "<Figure size 1500x1000 with 1 Axes>"
      ]
     },
     "metadata": {},
     "output_type": "display_data"
    }
   ],
   "source": [
    "plt.subplots(figsize=(15,10))\n",
    "plt.plot(mergedCumulativeConversions['date'], \\\n",
    "mergedCumulativeConversions['conversionB']/mergedCumulativeConversions['conversionA']-1, label=\"Относительный прирост конверсии группы B относительно группы A\")\n",
    "plt.legend()\n",
    "\n",
    "plt.axhline(y=0, color='black', linestyle='--')\n",
    "plt.axhline(y=-0.1, color='grey', linestyle='--')\n",
    "plt.xlabel('даты заказов')\n",
    "plt.ylabel('отношение количества заказов')\n",
    "plt.title('График относительного изменения кумулятивного среднего количества заказов на посетителя группы B к группе A');"
   ]
  },
  {
   "cell_type": "markdown",
   "metadata": {},
   "source": [
    "<div style=\"border: solid purple 2px; padding: 20px\"> На этом графике видно, что пользователи из группы В лучше конвертируются в заказы, чем пользователи из группы А."
   ]
  },
  {
   "cell_type": "markdown",
   "metadata": {},
   "source": [
    "### График количества заказов по пользователям"
   ]
  },
  {
   "cell_type": "code",
   "execution_count": 64,
   "metadata": {},
   "outputs": [],
   "source": [
    "# количество заказов каждого пользователя\n",
    "ordersByUsers = orders.groupby('visitor_id', as_index=False).agg({'transaction_id': 'nunique'})"
   ]
  },
  {
   "cell_type": "code",
   "execution_count": 65,
   "metadata": {},
   "outputs": [],
   "source": [
    "ordersByUsers.columns = ['visitor_id', 'orders']"
   ]
  },
  {
   "cell_type": "code",
   "execution_count": 66,
   "metadata": {},
   "outputs": [],
   "source": [
    "x_values = pd.Series(range(0,len(ordersByUsers)))"
   ]
  },
  {
   "cell_type": "code",
   "execution_count": 67,
   "metadata": {
    "scrolled": true
   },
   "outputs": [
    {
     "data": {
      "image/png": "[encoded data removed]",
      "text/plain": [
       "<Figure size 640x480 with 1 Axes>"
      ]
     },
     "metadata": {},
     "output_type": "display_data"
    }
   ],
   "source": [
    "plt.scatter(x_values, ordersByUsers['orders']);"
   ]
  },
  {
   "cell_type": "markdown",
   "metadata": {},
   "source": [
    "<div style=\"border: solid purple 2px; padding: 20px\">Практически все заказывают не больше чем один раз за все время исследования (месяц). Хорошо ли это? Смотря что мы продаем. Если, к примеру, это какие-нибудь билеты в театр, то это вполне приемлемо. Если же это что-то более бытовое, то это скорее проблема, которую нужно изучать."
   ]
  },
  {
   "cell_type": "markdown",
   "metadata": {},
   "source": [
    "### Граница количества заказов на пользователя для определения аномальных пользователей"
   ]
  },
  {
   "cell_type": "code",
   "execution_count": 68,
   "metadata": {
    "scrolled": true
   },
   "outputs": [
    {
     "data": {
      "text/plain": [
       "array([1., 1., 2.])"
      ]
     },
     "execution_count": 68,
     "metadata": {},
     "output_type": "execute_result"
    }
   ],
   "source": [
    "np.percentile(ordersByUsers['orders'], [90, 95, 99])"
   ]
  },
  {
   "cell_type": "markdown",
   "metadata": {},
   "source": [
    "<div style=\"border: solid purple 2px; padding: 20px\">Выберем границу от 1 заказа, ведь не более 5% пользователей сделало больше 1 заказа. "
   ]
  },
  {
   "cell_type": "markdown",
   "metadata": {},
   "source": [
    "### График стоимостей заказов"
   ]
  },
  {
   "cell_type": "code",
   "execution_count": 69,
   "metadata": {},
   "outputs": [],
   "source": [
    "x_values = pd.Series(range(0,len(orders['revenue'])))"
   ]
  },
  {
   "cell_type": "code",
   "execution_count": 70,
   "metadata": {
    "scrolled": false
   },
   "outputs": [
    {
     "data": {
      "image/png": "[encoded data removed]",
      "text/plain": [
       "<Figure size 1000x800 with 1 Axes>"
      ]
     },
     "metadata": {},
     "output_type": "display_data"
    }
   ],
   "source": [
    "plt.subplots(figsize=(10,8))\n",
    "plt.scatter(x_values, orders['revenue']);"
   ]
  },
  {
   "cell_type": "markdown",
   "metadata": {},
   "source": [
    "Из-за пика на сумму 1294500 весь график прижался к нулю. "
   ]
  },
  {
   "cell_type": "code",
   "execution_count": 71,
   "metadata": {
    "scrolled": false
   },
   "outputs": [
    {
     "data": {
      "image/png": "[encoded data removed]",
      "text/plain": [
       "<Figure size 1000x800 with 1 Axes>"
      ]
     },
     "metadata": {},
     "output_type": "display_data"
    }
   ],
   "source": [
    "plt.subplots(figsize=(10,8))\n",
    "plt.ylim([0, 100000])\n",
    "plt.scatter(x_values, orders['revenue']);"
   ]
  },
  {
   "cell_type": "markdown",
   "metadata": {},
   "source": [
    "<div style=\"border: solid purple 2px; padding: 20px\">В целом большинство заказов по стоимости не превышают 25000, даже можно предположить, что не превышают 10000."
   ]
  },
  {
   "cell_type": "markdown",
   "metadata": {},
   "source": [
    "### Граница стоимости заказов для определения аномальных заказов"
   ]
  },
  {
   "cell_type": "code",
   "execution_count": 72,
   "metadata": {
    "scrolled": true
   },
   "outputs": [
    {
     "data": {
      "text/plain": [
       "array([26785., 53904.])"
      ]
     },
     "execution_count": 72,
     "metadata": {},
     "output_type": "execute_result"
    }
   ],
   "source": [
    "np.percentile(orders['revenue'], [95, 99])"
   ]
  },
  {
   "cell_type": "markdown",
   "metadata": {},
   "source": [
    "<div style=\"border: solid purple 2px; padding: 20px\">Аномальными заказами будем счиать те, чья стоимость больше 30000."
   ]
  },
  {
   "cell_type": "markdown",
   "metadata": {},
   "source": [
    "### Статистическая значимость различий в среднем количестве заказов на посетителя между группами по «сырым» данным"
   ]
  },
  {
   "cell_type": "code",
   "execution_count": 73,
   "metadata": {},
   "outputs": [],
   "source": [
    "# количество пользователей группы А каждый день\n",
    "visitorsADaily = visitors[visitors['group'] == 'A'][['date', 'visitors']]\n",
    "visitorsADaily.columns = ['date', 'visitorsPerDateA']"
   ]
  },
  {
   "cell_type": "code",
   "execution_count": 74,
   "metadata": {},
   "outputs": [],
   "source": [
    "# количество пользователей до выбранной даты включительно в группе A\n",
    "visitorsACummulative = visitorsADaily.apply(lambda x: visitorsADaily[visitorsADaily['date'] <= x['date']]\\\n",
    "                                            .agg({'date': 'max', 'visitorsPerDateA': 'sum'}), axis=1)\n",
    "visitorsACummulative.columns = ['date', 'visitorsCummulativeA']"
   ]
  },
  {
   "cell_type": "code",
   "execution_count": 75,
   "metadata": {},
   "outputs": [],
   "source": [
    "# количество пользователей группы В каждый день\n",
    "visitorsBDaily = visitors[visitors['group'] == 'B'][['date', 'visitors']]\n",
    "visitorsBDaily.columns = ['date', 'visitorsPerDateB']"
   ]
  },
  {
   "cell_type": "code",
   "execution_count": 76,
   "metadata": {},
   "outputs": [],
   "source": [
    "# количество пользователей до выбранной даты включительно в группе B\n",
    "visitorsBCummulative = visitorsBDaily.apply(lambda x: visitorsBDaily[visitorsBDaily['date'] <= x['date']]\\\n",
    "                                            .agg({'date': 'max', 'visitorsPerDateB': 'sum'}),axis=1)\n",
    "visitorsBCummulative.columns = ['date', 'visitorsCummulativeB']"
   ]
  },
  {
   "cell_type": "code",
   "execution_count": 77,
   "metadata": {},
   "outputs": [],
   "source": [
    "# количество заказов и выручки с них для пользователей в группе А\n",
    "ordersADaily = (\n",
    "    orders[orders['group'] == 'A'][['date', 'transaction_id', 'visitor_id', 'revenue']]\n",
    "    .groupby('date', as_index=False)\n",
    "    .agg({'transaction_id': pd.Series.nunique, 'revenue': 'sum'})\n",
    ")\n",
    "ordersADaily.columns = ['date', 'ordersPerDateA', 'revenuePerDateA']"
   ]
  },
  {
   "cell_type": "code",
   "execution_count": 78,
   "metadata": {},
   "outputs": [],
   "source": [
    "# суммарное число заказов и выручки выбранной даты включительно в группе A\n",
    "ordersACummulative = ordersADaily.apply(lambda x: ordersADaily[ordersADaily['date'] <= x['date']]\\\n",
    "                                        .agg({'date': 'max', 'ordersPerDateA': 'sum', 'revenuePerDateA': 'sum'}), axis=1)\\\n",
    "                                 .sort_values(by=['date'])\n",
    "ordersACummulative.columns = ['date', 'ordersCummulativeA','revenueCummulativeA']"
   ]
  },
  {
   "cell_type": "code",
   "execution_count": 79,
   "metadata": {},
   "outputs": [],
   "source": [
    "# количество заказов и выручки с них для пользователей в группе B\n",
    "ordersBDaily = (\n",
    "    orders[orders['group'] == 'B'][['date', 'transaction_id', 'visitor_id', 'revenue']]\n",
    "    .groupby('date', as_index=False)\n",
    "    .agg({'transaction_id': pd.Series.nunique, 'revenue': 'sum'})\n",
    ")\n",
    "ordersBDaily.columns = ['date', 'ordersPerDateB', 'revenuePerDateB']"
   ]
  },
  {
   "cell_type": "code",
   "execution_count": 80,
   "metadata": {},
   "outputs": [],
   "source": [
    "# суммарное число заказов и выручки выбранной даты включительно в группе B\n",
    "ordersBCummulative = ordersBDaily.apply(lambda x: ordersBDaily[ordersBDaily['date'] <= x['date']]\\\n",
    "                                        .agg({'date': 'max', 'ordersPerDateB': 'sum', 'revenuePerDateB': 'sum'}), axis=1)\\\n",
    "                                 .sort_values(by=['date'])\n",
    "\n",
    "ordersBCummulative.columns = ['date', 'ordersCummulativeB','revenueCummulativeB']"
   ]
  },
  {
   "cell_type": "code",
   "execution_count": 81,
   "metadata": {},
   "outputs": [],
   "source": [
    "data = (\n",
    "    ordersADaily.merge(\n",
    "        ordersBDaily, left_on='date', right_on='date', how='left'\n",
    "    )\n",
    "    .merge(ordersACummulative, left_on='date', right_on='date', how='left')\n",
    "    .merge(ordersBCummulative, left_on='date', right_on='date', how='left')\n",
    "    .merge(visitorsADaily, left_on='date', right_on='date', how='left')\n",
    "    .merge(visitorsBDaily, left_on='date', right_on='date', how='left')\n",
    "    .merge(visitorsACummulative, left_on='date', right_on='date', how='left')\n",
    "    .merge(visitorsBCummulative, left_on='date', right_on='date', how='left')\n",
    ")\n"
   ]
  },
  {
   "cell_type": "code",
   "execution_count": 82,
   "metadata": {},
   "outputs": [],
   "source": [
    "# количество заказов для каждого пользователя, который сделал хотя бы один заказ, из группы А\n",
    "ordersByUsersA = orders[orders['group'] == 'A'].groupby('visitor_id', as_index=False).agg({'transaction_id': pd.Series.nunique})\n",
    "\n",
    "ordersByUsersA.columns = ['visitor_id', 'orders']"
   ]
  },
  {
   "cell_type": "code",
   "execution_count": 83,
   "metadata": {},
   "outputs": [],
   "source": [
    "# количество заказов для каждого пользователя, который сделал хотя бы один заказ, из группы В\n",
    "ordersByUsersB = orders[orders['group'] == 'B'].groupby('visitor_id', as_index=False).agg({'transaction_id': pd.Series.nunique})\n",
    "\n",
    "ordersByUsersB.columns = ['visitor_id', 'orders']"
   ]
  },
  {
   "cell_type": "markdown",
   "metadata": {},
   "source": [
    "Объявим переменные sampleA и sampleB, в которых пользователям из разных групп будет соответствовать количество заказов. Нули для пользователей, которые ничего не заказывали. Их количество равно разнице между суммой посетителей и количеством записей о заказах"
   ]
  },
  {
   "cell_type": "code",
   "execution_count": 84,
   "metadata": {},
   "outputs": [],
   "source": [
    "sampleA = pd.concat([ordersByUsersA['orders'],pd.Series(0, index=np.arange(data['visitorsPerDateA'].sum() - len(ordersByUsersA['orders'])), name='orders')],axis=0)"
   ]
  },
  {
   "cell_type": "code",
   "execution_count": 85,
   "metadata": {},
   "outputs": [],
   "source": [
    "sampleB = pd.concat([ordersByUsersB['orders'],pd.Series(0, index=np.arange(data['visitorsPerDateB'].sum() - len(ordersByUsersB['orders'])), name='orders')],axis=0)"
   ]
  },
  {
   "cell_type": "markdown",
   "metadata": {},
   "source": [
    "Cформулируем гипотезы\n",
    "\n",
    "0. Нулевая гипотеза: различий в среднем количестве заказов на посетителя между группами нет.\n",
    "1. Альтернативная гипотеза: различия в среднем количестве заказов на посетителя между группами есть."
   ]
  },
  {
   "cell_type": "code",
   "execution_count": 86,
   "metadata": {
    "scrolled": false
   },
   "outputs": [
    {
     "data": {
      "text/plain": [
       "0.011018084110014696"
      ]
     },
     "execution_count": 86,
     "metadata": {},
     "output_type": "execute_result"
    }
   ],
   "source": [
    "st.mannwhitneyu(sampleA, sampleB)[1]"
   ]
  },
  {
   "cell_type": "markdown",
   "metadata": {},
   "source": [
    "<div style=\"border: solid purple 2px; padding: 20px\">p-value = 0.0110, меньше чем 0.05. Значит, <u>нулевую гипотеза</u> о том, что различий в среднем количестве заказов на посетителя между группами нет <b>отвергаем</b>, а  <u>альтернативную гипотезу</u> о том, что различия в среднем количестве заказов на посетителя между группами есть <b>принимаем верной</b>."
   ]
  },
  {
   "cell_type": "code",
   "execution_count": 87,
   "metadata": {},
   "outputs": [
    {
     "data": {
      "text/plain": [
       "0.1597977924896936"
      ]
     },
     "execution_count": 87,
     "metadata": {},
     "output_type": "execute_result"
    }
   ],
   "source": [
    "sampleB.mean() / sampleA.mean() - 1"
   ]
  },
  {
   "cell_type": "markdown",
   "metadata": {},
   "source": [
    "<div style=\"border: solid purple 2px; padding: 20px\">Выигрыш группы В в среднем количестве заказов равен практически 16%."
   ]
  },
  {
   "cell_type": "markdown",
   "metadata": {},
   "source": [
    "### Статистическая значимость различий в среднем чеке заказа между группами по «сырым» данным"
   ]
  },
  {
   "cell_type": "markdown",
   "metadata": {},
   "source": [
    "Cформулируем гипотезы\n",
    "\n",
    "0. Нулевая гипотеза: различий в среднем чеке заказа между группами нет.\n",
    "1. Альтернативная гипотеза: различия в среднем чеке заказа между группами есть."
   ]
  },
  {
   "cell_type": "code",
   "execution_count": 88,
   "metadata": {
    "scrolled": false
   },
   "outputs": [
    {
     "data": {
      "text/plain": [
       "0.8294908998149533"
      ]
     },
     "execution_count": 88,
     "metadata": {},
     "output_type": "execute_result"
    }
   ],
   "source": [
    "st.mannwhitneyu(orders[orders['group']=='A']['revenue'], orders[orders['group']=='B']['revenue'])[1]"
   ]
  },
  {
   "cell_type": "markdown",
   "metadata": {},
   "source": [
    "<div style=\"border: solid purple 2px; padding: 20px\">p-value = 0.83, больше 0.05. <u>Нулевая гипотеза</u> о том, что различий в среднем чеке заказа между группами нет <b>не отвергается</b>."
   ]
  },
  {
   "cell_type": "code",
   "execution_count": 89,
   "metadata": {},
   "outputs": [
    {
     "data": {
      "text/plain": [
       "0.28660287636871096"
      ]
     },
     "execution_count": 89,
     "metadata": {},
     "output_type": "execute_result"
    }
   ],
   "source": [
    "orders[orders['group']=='B']['revenue'].mean()/orders[orders['group']=='A']['revenue'].mean()-1"
   ]
  },
  {
   "cell_type": "markdown",
   "metadata": {},
   "source": [
    "<div style=\"border: solid purple 2px; padding: 20px\"> Наблюдаемая, но не статистически значимая, разница между группами в среднем чеке заказа составляет 28,66%"
   ]
  },
  {
   "cell_type": "markdown",
   "metadata": {},
   "source": [
    "### Статистическая значимость различий в среднем количестве заказов на посетителя между группами по «очищенным» данным"
   ]
  },
  {
   "cell_type": "code",
   "execution_count": 90,
   "metadata": {
    "scrolled": true
   },
   "outputs": [],
   "source": [
    "max_orders = np.percentile(ordersByUsers['orders'], [95])[0]"
   ]
  },
  {
   "cell_type": "code",
   "execution_count": 91,
   "metadata": {},
   "outputs": [],
   "source": [
    "max_revenue = np.percentile(orders['revenue'], [95])[0]"
   ]
  },
  {
   "cell_type": "code",
   "execution_count": 92,
   "metadata": {
    "scrolled": true
   },
   "outputs": [
    {
     "data": {
      "text/plain": [
       "'Примем за аномальных пользователей тех, кто совершил от 1.0 заказа или совершил заказ дороже 26785.0'"
      ]
     },
     "execution_count": 92,
     "metadata": {},
     "output_type": "execute_result"
    }
   ],
   "source": [
    "f'Примем за аномальных пользователей тех, кто совершил от {max_orders} заказа или совершил заказ дороже {max_revenue}'"
   ]
  },
  {
   "cell_type": "code",
   "execution_count": 93,
   "metadata": {},
   "outputs": [
    {
     "data": {
      "text/plain": [
       "'Сделаем срезы пользователей с числом заказов больше 1.0 — usersWithManyOrders и пользователей, совершивших заказы дороже 26785.0 — usersWithExpensiveOrders. Объединим их в таблице abnormalUsers'"
      ]
     },
     "execution_count": 93,
     "metadata": {},
     "output_type": "execute_result"
    }
   ],
   "source": [
    "f'Сделаем срезы пользователей с числом заказов больше {max_orders} — usersWithManyOrders и пользователей, совершивших заказы дороже {max_revenue} — usersWithExpensiveOrders. Объединим их в таблице abnormalUsers'"
   ]
  },
  {
   "cell_type": "code",
   "execution_count": 94,
   "metadata": {},
   "outputs": [],
   "source": [
    "usersWithManyOrders = pd.concat([ordersByUsersA[ordersByUsersA['orders'] > np.percentile(ordersByUsers['orders'], [95])[0]]['visitor_id'],\\\n",
    "                                 ordersByUsersB[ordersByUsersB['orders'] > np.percentile(ordersByUsers['orders'], [95])[0]]['visitor_id']],axis=0)"
   ]
  },
  {
   "cell_type": "code",
   "execution_count": 95,
   "metadata": {
    "scrolled": true
   },
   "outputs": [],
   "source": [
    "usersWithExpensiveOrders = orders[orders['revenue'] > np.percentile(orders['revenue'], [95])[0]]['visitor_id']\n"
   ]
  },
  {
   "cell_type": "code",
   "execution_count": 96,
   "metadata": {},
   "outputs": [],
   "source": [
    "abnormalUsers = pd.concat([usersWithManyOrders, usersWithExpensiveOrders], axis=0).drop_duplicates().sort_values()"
   ]
  },
  {
   "cell_type": "code",
   "execution_count": 97,
   "metadata": {
    "scrolled": false
   },
   "outputs": [
    {
     "data": {
      "text/plain": [
       "86"
      ]
     },
     "execution_count": 97,
     "metadata": {},
     "output_type": "execute_result"
    }
   ],
   "source": [
    "abnormalUsers.shape[0]"
   ]
  },
  {
   "cell_type": "markdown",
   "metadata": {},
   "source": [
    "77 аномальных пользователей"
   ]
  },
  {
   "cell_type": "code",
   "execution_count": 98,
   "metadata": {},
   "outputs": [],
   "source": [
    "sampleAFiltered = pd.concat(\n",
    "    [\n",
    "        ordersByUsersA[\n",
    "            np.logical_not(ordersByUsersA['visitor_id'].isin(abnormalUsers))\n",
    "        ]['orders'],\n",
    "        pd.Series(\n",
    "            0,\n",
    "            index=np.arange(\n",
    "                data['visitorsPerDateA'].sum() - len(ordersByUsersA['orders'])\n",
    "            ),\n",
    "            name='orders',\n",
    "        ),\n",
    "    ],\n",
    "    axis=0,\n",
    ")"
   ]
  },
  {
   "cell_type": "code",
   "execution_count": 99,
   "metadata": {},
   "outputs": [],
   "source": [
    "sampleBFiltered = pd.concat(\n",
    "    [        ordersByUsersB[\n",
    "            np.logical_not(ordersByUsersB['visitor_id'].isin(abnormalUsers))\n",
    "        ]['orders'],\n",
    "        pd.Series(\n",
    "            0,\n",
    "            index=np.arange(\n",
    "                data['visitorsPerDateB'].sum() - len(ordersByUsersB['orders'])\n",
    "            ),\n",
    "            name='orders',\n",
    "        ),\n",
    "    ],\n",
    "    axis=0,\n",
    ")"
   ]
  },
  {
   "cell_type": "markdown",
   "metadata": {},
   "source": [
    "Cформулируем гипотезы\n",
    "\n",
    "0. Нулевая гипотеза: различий в среднем количестве заказов на посетителя между группами нет.\n",
    "1. Альтернативная гипотеза: различия в среднем количестве заказов на посетителя между группами есть"
   ]
  },
  {
   "cell_type": "code",
   "execution_count": 100,
   "metadata": {
    "scrolled": true
   },
   "outputs": [
    {
     "data": {
      "text/plain": [
       "0.01593020716573973"
      ]
     },
     "execution_count": 100,
     "metadata": {},
     "output_type": "execute_result"
    }
   ],
   "source": [
    "st.mannwhitneyu(sampleAFiltered, sampleBFiltered)[1]"
   ]
  },
  {
   "cell_type": "markdown",
   "metadata": {},
   "source": [
    "<div style=\"border: solid purple 2px; padding: 20px\">p-value = 0.0125, стал чуть больше, чем до фильтрации. Значит, <u>нулевую гипотеза</u> о том, что различий в среднем количестве заказов на посетителя между группами нет <b>отвергаем</b>, а  <u>альтернативную гипотезу</u> о том, что различия в среднем количестве заказов на посетителя между группами есть <b>принимаем верной</b>."
   ]
  },
  {
   "cell_type": "code",
   "execution_count": 101,
   "metadata": {
    "scrolled": true
   },
   "outputs": [
    {
     "data": {
      "text/plain": [
       "0.17392968945597698"
      ]
     },
     "execution_count": 101,
     "metadata": {},
     "output_type": "execute_result"
    }
   ],
   "source": [
    "sampleBFiltered.mean()/sampleAFiltered.mean()-1"
   ]
  },
  {
   "cell_type": "markdown",
   "metadata": {},
   "source": [
    "<div style=\"border: solid purple 2px; padding: 20px\">Выигрыш группы В в количестве заказов примерно такой же, как и был до фильтрации, 17.96%"
   ]
  },
  {
   "cell_type": "markdown",
   "metadata": {},
   "source": [
    "### Статистическая значимость различий в среднем чеке заказа между группами по «очищенным» данным"
   ]
  },
  {
   "cell_type": "markdown",
   "metadata": {},
   "source": [
    "Cформулируем гипотезы\n",
    "\n",
    "0. Нулевая гипотеза: различий в среднем чеке заказа между группами нет.\n",
    "1. Альтернативная гипотеза: различия в среднем чеке заказа между группами есть."
   ]
  },
  {
   "cell_type": "code",
   "execution_count": 102,
   "metadata": {},
   "outputs": [
    {
     "data": {
      "text/plain": [
       "0.7271286894009963"
      ]
     },
     "execution_count": 102,
     "metadata": {},
     "output_type": "execute_result"
    }
   ],
   "source": [
    "st.mannwhitneyu(orders[np.logical_and(orders['group'] == 'A', np.logical_not(orders['visitor_id'].isin(abnormalUsers)))]['revenue'],\n",
    "            orders[np.logical_and(orders['group'] == 'B', np.logical_not(orders['visitor_id'].isin(abnormalUsers)))]['revenue'])[1]"
   ]
  },
  {
   "cell_type": "markdown",
   "metadata": {},
   "source": [
    "<div style=\"border: solid purple 2px; padding: 20px\">p-value практически не изменился, <u>нулевая гипотеза</u> о том, что различий в среднем чеке заказа между группами нет <b>не отвергается</b>."
   ]
  },
  {
   "cell_type": "code",
   "execution_count": 103,
   "metadata": {},
   "outputs": [
    {
     "data": {
      "text/plain": [
       "-0.03373405744316604"
      ]
     },
     "execution_count": 103,
     "metadata": {},
     "output_type": "execute_result"
    }
   ],
   "source": [
    "orders[np.logical_and(orders['group'] == 'B', np.logical_not(orders['visitor_id'].isin(abnormalUsers)))]['revenue'].mean()\\\n",
    "        / orders[np.logical_and(orders['group'] == 'A', np.logical_not(orders['visitor_id'].isin(abnormalUsers)))]['revenue'].mean()\\\n",
    "        - 1"
   ]
  },
  {
   "cell_type": "markdown",
   "metadata": {},
   "source": [
    "<div style=\"border: solid purple 2px; padding: 20px\">Наблюдаемая, но не статистически значимая, разница в среднем чеке составила 1% в пользу группы А."
   ]
  },
  {
   "cell_type": "markdown",
   "metadata": {},
   "source": [
    "## Выводы"
   ]
  },
  {
   "cell_type": "markdown",
   "metadata": {},
   "source": [
    "<div style=\"border: solid purple 2px; padding: 20px\">\n",
    "    \n",
    "1. А/В-тест проводился с 1 августа 2019 года по 31 августа 2019 года, т.е. один месяц. В нем приняло участие 973 человека. Нужно обратить внимание на ошибку сбора данных при проведении следующих А/В-тестов.\n",
    "    \n",
    "   \n",
    "2. Однозначно по графикам можно сказать только то, что посетители из группы В конвертируются в заказы лучшем, чем посетители из группы А. \n",
    "    \n",
    "    \n",
    "3. До фильтрации проверка гипотез показала:\n",
    "    - Различия в среднем количестве заказов на посетителя между группами есть. Выигрыш группы В среднем количестве заказов равен практически 16%.\n",
    "    - Нет оснований полагать, что есть различия в среднем чеке между группами. Наблюдаемая, но не статистически значимая, разница между группами в среднем чеке заказа составляет 28,66%.\n",
    "    \n",
    "   \n",
    "4. После фильтрации проверка гипотез показала:\n",
    "    - Различия в среднем количестве заказов на посетителя между группами есть. Выигрыш группы В в количестве заказов примерно такой же, как и был до фильтрации, 17,96%.\n",
    "    - Нет оснований полагать, что есть различия в среднем чеке между группами. Наблюдаемая, но не статистически значимая, разница в среднем чеке составила 1% в пользу группы А.\n",
    "\n",
    "    \n",
    "5. Рекомендации:\n",
    "\n",
    "    - Продолжать тест не имеет смысла, группа А не станет лучше в количестве заказов чем группа В. Для показателя среднего чека разницы между группами нет. Если целью А/В-тестирование было увеличение количество заказов, то можно зафиксировать победу группы В, если средний чек, то зафиксировать отсутсвие разницы между группами.\n",
    "    - Обратить внимание на количество заказов, если это интернет-магазин с товарами, которые пользователи могут часто покупать.\n",
    "    - Обратить внимание на ошибку в сборе данных для проведения А/В-тестирования, предварительно провести А/А-тест."
   ]
  }
 ],
 "metadata": {
  "ExecuteTimeLog": [
   {
    "duration": 1372,
    "start_time": "2023-07-14T10:36:25.252Z"
   },
   {
    "duration": 60,
    "start_time": "2023-07-14T10:38:17.968Z"
   },
   {
    "duration": 129,
    "start_time": "2023-07-14T10:38:18.325Z"
   },
   {
    "duration": 52,
    "start_time": "2023-07-14T10:38:18.596Z"
   },
   {
    "duration": 91,
    "start_time": "2023-07-14T10:38:43.520Z"
   },
   {
    "duration": 14,
    "start_time": "2023-07-14T10:38:46.424Z"
   },
   {
    "duration": 8,
    "start_time": "2023-07-14T10:38:54.959Z"
   },
   {
    "duration": 8,
    "start_time": "2023-07-14T10:39:07.047Z"
   },
   {
    "duration": 11,
    "start_time": "2023-07-14T10:39:17.246Z"
   },
   {
    "duration": 7,
    "start_time": "2023-07-14T10:39:42.533Z"
   },
   {
    "duration": 10,
    "start_time": "2023-07-14T10:39:49.028Z"
   },
   {
    "duration": 7,
    "start_time": "2023-07-14T10:40:06.802Z"
   },
   {
    "duration": 9,
    "start_time": "2023-07-14T10:40:11.440Z"
   },
   {
    "duration": 10,
    "start_time": "2023-07-14T10:40:17.796Z"
   },
   {
    "duration": 4,
    "start_time": "2023-07-14T10:44:11.639Z"
   },
   {
    "duration": 4,
    "start_time": "2023-07-14T10:44:18.831Z"
   },
   {
    "duration": 3,
    "start_time": "2023-07-14T11:12:25.402Z"
   },
   {
    "duration": 6,
    "start_time": "2023-07-14T11:12:35.202Z"
   },
   {
    "duration": 4,
    "start_time": "2023-07-14T11:13:10.270Z"
   },
   {
    "duration": 12,
    "start_time": "2023-07-14T11:13:21.003Z"
   },
   {
    "duration": 6,
    "start_time": "2023-07-14T11:15:07.148Z"
   },
   {
    "duration": 5,
    "start_time": "2023-07-14T11:15:07.474Z"
   },
   {
    "duration": 5,
    "start_time": "2023-07-14T11:15:08.635Z"
   },
   {
    "duration": 1253,
    "start_time": "2023-07-14T11:16:34.116Z"
   },
   {
    "duration": 27,
    "start_time": "2023-07-14T11:16:35.371Z"
   },
   {
    "duration": 55,
    "start_time": "2023-07-14T11:16:35.400Z"
   },
   {
    "duration": 19,
    "start_time": "2023-07-14T11:16:35.457Z"
   },
   {
    "duration": 33,
    "start_time": "2023-07-14T11:16:35.477Z"
   },
   {
    "duration": 99,
    "start_time": "2023-07-14T11:16:35.512Z"
   },
   {
    "duration": 124,
    "start_time": "2023-07-14T11:16:35.614Z"
   },
   {
    "duration": 66,
    "start_time": "2023-07-14T11:16:35.740Z"
   },
   {
    "duration": 75,
    "start_time": "2023-07-14T11:16:35.808Z"
   },
   {
    "duration": 42,
    "start_time": "2023-07-14T11:16:35.885Z"
   },
   {
    "duration": 38,
    "start_time": "2023-07-14T11:16:35.935Z"
   },
   {
    "duration": 48,
    "start_time": "2023-07-14T11:16:35.975Z"
   },
   {
    "duration": 44,
    "start_time": "2023-07-14T11:16:36.025Z"
   },
   {
    "duration": 41,
    "start_time": "2023-07-14T11:16:36.071Z"
   },
   {
    "duration": 39,
    "start_time": "2023-07-14T11:16:36.113Z"
   },
   {
    "duration": 38,
    "start_time": "2023-07-14T11:16:36.154Z"
   },
   {
    "duration": 30,
    "start_time": "2023-07-14T11:16:36.194Z"
   },
   {
    "duration": 8,
    "start_time": "2023-07-14T11:20:51.327Z"
   },
   {
    "duration": 6,
    "start_time": "2023-07-14T11:21:23.715Z"
   },
   {
    "duration": 12,
    "start_time": "2023-07-14T11:21:40.974Z"
   },
   {
    "duration": 3,
    "start_time": "2023-07-14T11:48:18.230Z"
   },
   {
    "duration": 10,
    "start_time": "2023-07-14T11:48:19.394Z"
   },
   {
    "duration": 5,
    "start_time": "2023-07-14T11:48:37.230Z"
   },
   {
    "duration": 1516,
    "start_time": "2023-07-14T11:48:43.474Z"
   },
   {
    "duration": 28,
    "start_time": "2023-07-14T11:48:44.992Z"
   },
   {
    "duration": 59,
    "start_time": "2023-07-14T11:48:45.022Z"
   },
   {
    "duration": 15,
    "start_time": "2023-07-14T11:48:45.083Z"
   },
   {
    "duration": 11,
    "start_time": "2023-07-14T11:48:45.100Z"
   },
   {
    "duration": 26,
    "start_time": "2023-07-14T11:48:45.112Z"
   },
   {
    "duration": 19,
    "start_time": "2023-07-14T11:48:45.140Z"
   },
   {
    "duration": 16,
    "start_time": "2023-07-14T11:48:45.160Z"
   },
   {
    "duration": 11,
    "start_time": "2023-07-14T11:48:45.178Z"
   },
   {
    "duration": 19,
    "start_time": "2023-07-14T11:48:45.191Z"
   },
   {
    "duration": 5,
    "start_time": "2023-07-14T11:48:45.212Z"
   },
   {
    "duration": 16,
    "start_time": "2023-07-14T11:48:45.219Z"
   },
   {
    "duration": 7,
    "start_time": "2023-07-14T11:48:45.237Z"
   },
   {
    "duration": 16,
    "start_time": "2023-07-14T11:48:45.245Z"
   },
   {
    "duration": 23,
    "start_time": "2023-07-14T11:48:45.262Z"
   },
   {
    "duration": 17,
    "start_time": "2023-07-14T11:48:45.286Z"
   },
   {
    "duration": 5,
    "start_time": "2023-07-14T11:48:45.305Z"
   },
   {
    "duration": 10,
    "start_time": "2023-07-14T11:48:45.312Z"
   },
   {
    "duration": 15,
    "start_time": "2023-07-14T11:48:45.323Z"
   },
   {
    "duration": 36,
    "start_time": "2023-07-14T11:48:45.340Z"
   },
   {
    "duration": 8,
    "start_time": "2023-07-14T11:48:45.377Z"
   },
   {
    "duration": 21,
    "start_time": "2023-07-14T11:48:45.387Z"
   },
   {
    "duration": 100,
    "start_time": "2023-07-14T11:50:22.115Z"
   },
   {
    "duration": 5,
    "start_time": "2023-07-14T11:50:23.810Z"
   },
   {
    "duration": 4,
    "start_time": "2023-07-14T11:50:24.122Z"
   },
   {
    "duration": 13,
    "start_time": "2023-07-14T11:50:24.544Z"
   },
   {
    "duration": 4,
    "start_time": "2023-07-14T13:31:09.273Z"
   },
   {
    "duration": 10,
    "start_time": "2023-07-14T13:31:37.580Z"
   },
   {
    "duration": 13,
    "start_time": "2023-07-14T13:31:39.241Z"
   },
   {
    "duration": 6,
    "start_time": "2023-07-14T13:33:47.936Z"
   },
   {
    "duration": 12,
    "start_time": "2023-07-14T13:33:48.356Z"
   },
   {
    "duration": 4,
    "start_time": "2023-07-14T13:33:49.473Z"
   },
   {
    "duration": 10,
    "start_time": "2023-07-14T13:33:49.729Z"
   },
   {
    "duration": 11,
    "start_time": "2023-07-14T13:33:54.687Z"
   },
   {
    "duration": 9,
    "start_time": "2023-07-14T13:33:55.839Z"
   },
   {
    "duration": 8,
    "start_time": "2023-07-14T13:45:07.895Z"
   },
   {
    "duration": 17,
    "start_time": "2023-07-14T13:57:04.234Z"
   },
   {
    "duration": 8,
    "start_time": "2023-07-14T13:57:14.601Z"
   },
   {
    "duration": 16,
    "start_time": "2023-07-14T13:57:18.715Z"
   },
   {
    "duration": 8,
    "start_time": "2023-07-14T13:57:29.022Z"
   },
   {
    "duration": 8,
    "start_time": "2023-07-14T13:57:34.170Z"
   },
   {
    "duration": 6,
    "start_time": "2023-07-14T14:01:25.121Z"
   },
   {
    "duration": 5,
    "start_time": "2023-07-14T14:01:25.671Z"
   },
   {
    "duration": 77,
    "start_time": "2023-07-14T14:01:58.317Z"
   },
   {
    "duration": 26,
    "start_time": "2023-07-14T14:03:01.470Z"
   },
   {
    "duration": 32,
    "start_time": "2023-07-14T14:03:28.360Z"
   },
   {
    "duration": 29,
    "start_time": "2023-07-14T14:04:08.442Z"
   },
   {
    "duration": 30,
    "start_time": "2023-07-14T14:04:12.303Z"
   },
   {
    "duration": 29,
    "start_time": "2023-07-14T14:04:28.193Z"
   },
   {
    "duration": 32,
    "start_time": "2023-07-14T14:18:12.504Z"
   },
   {
    "duration": 6,
    "start_time": "2023-07-14T14:18:15.081Z"
   },
   {
    "duration": 6,
    "start_time": "2023-07-14T14:18:15.426Z"
   },
   {
    "duration": 36,
    "start_time": "2023-07-14T14:18:15.663Z"
   },
   {
    "duration": 41,
    "start_time": "2023-07-14T14:19:00.062Z"
   },
   {
    "duration": 8,
    "start_time": "2023-07-14T14:19:07.044Z"
   },
   {
    "duration": 13,
    "start_time": "2023-07-14T14:19:12.028Z"
   },
   {
    "duration": 12,
    "start_time": "2023-07-14T14:19:14.909Z"
   },
   {
    "duration": 1177,
    "start_time": "2023-07-14T14:19:28.817Z"
   },
   {
    "duration": 30,
    "start_time": "2023-07-14T14:19:29.995Z"
   },
   {
    "duration": 82,
    "start_time": "2023-07-14T14:19:30.027Z"
   },
   {
    "duration": 37,
    "start_time": "2023-07-14T14:19:30.112Z"
   },
   {
    "duration": 56,
    "start_time": "2023-07-14T14:19:30.152Z"
   },
   {
    "duration": 28,
    "start_time": "2023-07-14T14:19:30.211Z"
   },
   {
    "duration": 37,
    "start_time": "2023-07-14T14:19:30.241Z"
   },
   {
    "duration": 41,
    "start_time": "2023-07-14T14:19:30.279Z"
   },
   {
    "duration": 32,
    "start_time": "2023-07-14T14:19:30.322Z"
   },
   {
    "duration": 49,
    "start_time": "2023-07-14T14:19:30.358Z"
   },
   {
    "duration": 37,
    "start_time": "2023-07-14T14:19:30.409Z"
   },
   {
    "duration": 54,
    "start_time": "2023-07-14T14:19:30.448Z"
   },
   {
    "duration": 55,
    "start_time": "2023-07-14T14:19:30.504Z"
   },
   {
    "duration": 51,
    "start_time": "2023-07-14T14:19:30.561Z"
   },
   {
    "duration": 100,
    "start_time": "2023-07-14T14:19:30.614Z"
   },
   {
    "duration": 55,
    "start_time": "2023-07-14T14:19:30.716Z"
   },
   {
    "duration": 51,
    "start_time": "2023-07-14T14:19:30.773Z"
   },
   {
    "duration": 46,
    "start_time": "2023-07-14T14:19:30.826Z"
   },
   {
    "duration": 57,
    "start_time": "2023-07-14T14:19:30.874Z"
   },
   {
    "duration": 71,
    "start_time": "2023-07-14T14:19:30.932Z"
   },
   {
    "duration": 61,
    "start_time": "2023-07-14T14:19:31.005Z"
   },
   {
    "duration": 62,
    "start_time": "2023-07-14T14:19:31.068Z"
   },
   {
    "duration": 308,
    "start_time": "2023-07-14T14:19:31.133Z"
   },
   {
    "duration": 194,
    "start_time": "2023-07-14T14:19:31.443Z"
   },
   {
    "duration": 41,
    "start_time": "2023-07-14T14:19:31.639Z"
   },
   {
    "duration": 96,
    "start_time": "2023-07-14T14:19:31.682Z"
   },
   {
    "duration": 58,
    "start_time": "2023-07-14T14:19:31.780Z"
   },
   {
    "duration": 44,
    "start_time": "2023-07-14T14:19:31.841Z"
   },
   {
    "duration": 56,
    "start_time": "2023-07-14T14:19:31.886Z"
   },
   {
    "duration": 55,
    "start_time": "2023-07-14T14:19:31.944Z"
   },
   {
    "duration": 153,
    "start_time": "2023-07-14T14:19:32.001Z"
   },
   {
    "duration": 8,
    "start_time": "2023-07-14T14:19:32.156Z"
   },
   {
    "duration": 42,
    "start_time": "2023-07-14T14:19:32.165Z"
   },
   {
    "duration": 46,
    "start_time": "2023-07-14T14:19:32.209Z"
   },
   {
    "duration": 11,
    "start_time": "2023-07-14T14:20:09.049Z"
   },
   {
    "duration": 13,
    "start_time": "2023-07-14T14:20:27.051Z"
   },
   {
    "duration": 12,
    "start_time": "2023-07-14T14:20:28.774Z"
   },
   {
    "duration": 5,
    "start_time": "2023-07-14T14:50:12.009Z"
   },
   {
    "duration": 162,
    "start_time": "2023-07-14T14:50:48.353Z"
   },
   {
    "duration": 124,
    "start_time": "2023-07-14T14:51:16.824Z"
   },
   {
    "duration": 295,
    "start_time": "2023-07-14T14:52:01.418Z"
   },
   {
    "duration": 282,
    "start_time": "2023-07-14T14:52:13.476Z"
   },
   {
    "duration": 306,
    "start_time": "2023-07-14T14:52:31.148Z"
   },
   {
    "duration": 195,
    "start_time": "2023-07-14T14:52:45.771Z"
   },
   {
    "duration": 1461,
    "start_time": "2023-07-15T08:15:33.646Z"
   },
   {
    "duration": 74,
    "start_time": "2023-07-15T08:15:35.109Z"
   },
   {
    "duration": 92,
    "start_time": "2023-07-15T08:15:35.185Z"
   },
   {
    "duration": 57,
    "start_time": "2023-07-15T08:15:35.280Z"
   },
   {
    "duration": 12,
    "start_time": "2023-07-15T08:15:35.340Z"
   },
   {
    "duration": 29,
    "start_time": "2023-07-15T08:15:35.354Z"
   },
   {
    "duration": 34,
    "start_time": "2023-07-15T08:15:35.384Z"
   },
   {
    "duration": 30,
    "start_time": "2023-07-15T08:15:35.421Z"
   },
   {
    "duration": 12,
    "start_time": "2023-07-15T08:15:35.453Z"
   },
   {
    "duration": 21,
    "start_time": "2023-07-15T08:15:35.466Z"
   },
   {
    "duration": 8,
    "start_time": "2023-07-15T08:15:35.489Z"
   },
   {
    "duration": 22,
    "start_time": "2023-07-15T08:15:35.499Z"
   },
   {
    "duration": 13,
    "start_time": "2023-07-15T08:15:35.522Z"
   },
   {
    "duration": 19,
    "start_time": "2023-07-15T08:15:35.538Z"
   },
   {
    "duration": 21,
    "start_time": "2023-07-15T08:15:35.558Z"
   },
   {
    "duration": 21,
    "start_time": "2023-07-15T08:15:35.580Z"
   },
   {
    "duration": 19,
    "start_time": "2023-07-15T08:15:35.603Z"
   },
   {
    "duration": 5,
    "start_time": "2023-07-15T08:15:35.624Z"
   },
   {
    "duration": 21,
    "start_time": "2023-07-15T08:15:35.630Z"
   },
   {
    "duration": 8,
    "start_time": "2023-07-15T08:15:35.652Z"
   },
   {
    "duration": 12,
    "start_time": "2023-07-15T08:15:35.661Z"
   },
   {
    "duration": 23,
    "start_time": "2023-07-15T08:15:35.674Z"
   },
   {
    "duration": 26,
    "start_time": "2023-07-15T08:15:35.699Z"
   },
   {
    "duration": 16,
    "start_time": "2023-07-15T08:15:35.727Z"
   },
   {
    "duration": 20,
    "start_time": "2023-07-15T08:15:35.745Z"
   },
   {
    "duration": 14,
    "start_time": "2023-07-15T08:15:35.767Z"
   },
   {
    "duration": 132,
    "start_time": "2023-07-15T08:15:35.782Z"
   },
   {
    "duration": 14,
    "start_time": "2023-07-15T08:15:35.915Z"
   },
   {
    "duration": 27,
    "start_time": "2023-07-15T08:15:35.931Z"
   },
   {
    "duration": 28,
    "start_time": "2023-07-15T08:15:35.959Z"
   },
   {
    "duration": 51,
    "start_time": "2023-07-15T08:15:35.989Z"
   },
   {
    "duration": 177,
    "start_time": "2023-07-15T08:15:36.042Z"
   },
   {
    "duration": 117,
    "start_time": "2023-07-15T08:15:36.221Z"
   },
   {
    "duration": 271,
    "start_time": "2023-07-15T08:15:36.340Z"
   },
   {
    "duration": 275,
    "start_time": "2023-07-15T08:15:36.612Z"
   },
   {
    "duration": 13,
    "start_time": "2023-07-15T08:16:39.854Z"
   },
   {
    "duration": 7,
    "start_time": "2023-07-15T08:18:05.183Z"
   },
   {
    "duration": 6,
    "start_time": "2023-07-15T08:19:23.095Z"
   },
   {
    "duration": 12,
    "start_time": "2023-07-15T08:19:28.353Z"
   },
   {
    "duration": 6,
    "start_time": "2023-07-15T08:19:38.916Z"
   },
   {
    "duration": 7,
    "start_time": "2023-07-15T08:20:07.118Z"
   },
   {
    "duration": 7,
    "start_time": "2023-07-15T08:20:31.584Z"
   },
   {
    "duration": 12,
    "start_time": "2023-07-15T08:20:39.145Z"
   },
   {
    "duration": 1225,
    "start_time": "2023-07-15T08:21:49.686Z"
   },
   {
    "duration": 27,
    "start_time": "2023-07-15T08:21:50.913Z"
   },
   {
    "duration": 37,
    "start_time": "2023-07-15T08:21:50.942Z"
   },
   {
    "duration": 22,
    "start_time": "2023-07-15T08:21:50.980Z"
   },
   {
    "duration": 15,
    "start_time": "2023-07-15T08:21:51.004Z"
   },
   {
    "duration": 17,
    "start_time": "2023-07-15T08:21:51.021Z"
   },
   {
    "duration": 30,
    "start_time": "2023-07-15T08:21:51.040Z"
   },
   {
    "duration": 28,
    "start_time": "2023-07-15T08:21:51.072Z"
   },
   {
    "duration": 14,
    "start_time": "2023-07-15T08:21:51.102Z"
   },
   {
    "duration": 23,
    "start_time": "2023-07-15T08:21:51.117Z"
   },
   {
    "duration": 14,
    "start_time": "2023-07-15T08:21:51.142Z"
   },
   {
    "duration": 19,
    "start_time": "2023-07-15T08:21:51.157Z"
   },
   {
    "duration": 33,
    "start_time": "2023-07-15T08:21:51.178Z"
   },
   {
    "duration": 12,
    "start_time": "2023-07-15T08:21:51.215Z"
   },
   {
    "duration": 24,
    "start_time": "2023-07-15T08:21:51.229Z"
   },
   {
    "duration": 8,
    "start_time": "2023-07-15T08:21:51.256Z"
   },
   {
    "duration": 26,
    "start_time": "2023-07-15T08:21:51.265Z"
   },
   {
    "duration": 13,
    "start_time": "2023-07-15T08:21:51.293Z"
   },
   {
    "duration": 26,
    "start_time": "2023-07-15T08:21:51.308Z"
   },
   {
    "duration": 27,
    "start_time": "2023-07-15T08:21:51.336Z"
   },
   {
    "duration": 28,
    "start_time": "2023-07-15T08:21:51.365Z"
   },
   {
    "duration": 18,
    "start_time": "2023-07-15T08:21:51.395Z"
   },
   {
    "duration": 20,
    "start_time": "2023-07-15T08:21:51.415Z"
   },
   {
    "duration": 10,
    "start_time": "2023-07-15T08:21:51.437Z"
   },
   {
    "duration": 20,
    "start_time": "2023-07-15T08:21:51.449Z"
   },
   {
    "duration": 258,
    "start_time": "2023-07-15T08:21:51.470Z"
   },
   {
    "duration": 12,
    "start_time": "2023-07-15T08:21:51.729Z"
   },
   {
    "duration": 35,
    "start_time": "2023-07-15T08:21:51.742Z"
   },
   {
    "duration": 31,
    "start_time": "2023-07-15T08:21:51.780Z"
   },
   {
    "duration": 133,
    "start_time": "2023-07-15T08:21:51.813Z"
   },
   {
    "duration": 23,
    "start_time": "2023-07-15T08:21:51.948Z"
   },
   {
    "duration": 16,
    "start_time": "2023-07-15T08:21:51.974Z"
   },
   {
    "duration": 27,
    "start_time": "2023-07-15T08:21:51.992Z"
   },
   {
    "duration": 29,
    "start_time": "2023-07-15T08:21:52.021Z"
   },
   {
    "duration": 210,
    "start_time": "2023-07-15T08:21:52.052Z"
   },
   {
    "duration": 332,
    "start_time": "2023-07-15T08:21:52.264Z"
   },
   {
    "duration": 0,
    "start_time": "2023-07-15T08:21:52.598Z"
   },
   {
    "duration": 0,
    "start_time": "2023-07-15T08:21:52.599Z"
   },
   {
    "duration": 1205,
    "start_time": "2023-07-15T08:22:18.581Z"
   },
   {
    "duration": 29,
    "start_time": "2023-07-15T08:22:19.788Z"
   },
   {
    "duration": 37,
    "start_time": "2023-07-15T08:22:19.819Z"
   },
   {
    "duration": 27,
    "start_time": "2023-07-15T08:22:19.858Z"
   },
   {
    "duration": 62,
    "start_time": "2023-07-15T08:22:19.887Z"
   },
   {
    "duration": 22,
    "start_time": "2023-07-15T08:22:19.950Z"
   },
   {
    "duration": 20,
    "start_time": "2023-07-15T08:22:19.974Z"
   },
   {
    "duration": 32,
    "start_time": "2023-07-15T08:22:19.996Z"
   },
   {
    "duration": 41,
    "start_time": "2023-07-15T08:22:20.030Z"
   },
   {
    "duration": 51,
    "start_time": "2023-07-15T08:22:20.073Z"
   },
   {
    "duration": 36,
    "start_time": "2023-07-15T08:22:20.125Z"
   },
   {
    "duration": 70,
    "start_time": "2023-07-15T08:22:20.163Z"
   },
   {
    "duration": 56,
    "start_time": "2023-07-15T08:22:20.235Z"
   },
   {
    "duration": 91,
    "start_time": "2023-07-15T08:22:20.294Z"
   },
   {
    "duration": 47,
    "start_time": "2023-07-15T08:22:20.387Z"
   },
   {
    "duration": 33,
    "start_time": "2023-07-15T08:22:20.436Z"
   },
   {
    "duration": 32,
    "start_time": "2023-07-15T08:22:20.471Z"
   },
   {
    "duration": 34,
    "start_time": "2023-07-15T08:22:20.505Z"
   },
   {
    "duration": 54,
    "start_time": "2023-07-15T08:22:20.540Z"
   },
   {
    "duration": 47,
    "start_time": "2023-07-15T08:22:20.596Z"
   },
   {
    "duration": 70,
    "start_time": "2023-07-15T08:22:20.645Z"
   },
   {
    "duration": 44,
    "start_time": "2023-07-15T08:22:20.716Z"
   },
   {
    "duration": 37,
    "start_time": "2023-07-15T08:22:20.762Z"
   },
   {
    "duration": 46,
    "start_time": "2023-07-15T08:22:20.801Z"
   },
   {
    "duration": 46,
    "start_time": "2023-07-15T08:22:20.849Z"
   },
   {
    "duration": 39,
    "start_time": "2023-07-15T08:22:20.897Z"
   },
   {
    "duration": 31,
    "start_time": "2023-07-15T08:22:20.937Z"
   },
   {
    "duration": 37,
    "start_time": "2023-07-15T08:22:20.970Z"
   },
   {
    "duration": 54,
    "start_time": "2023-07-15T08:22:21.009Z"
   },
   {
    "duration": 156,
    "start_time": "2023-07-15T08:22:21.065Z"
   },
   {
    "duration": 12,
    "start_time": "2023-07-15T08:22:21.222Z"
   },
   {
    "duration": 45,
    "start_time": "2023-07-15T08:22:21.235Z"
   },
   {
    "duration": 27,
    "start_time": "2023-07-15T08:22:21.282Z"
   },
   {
    "duration": 30,
    "start_time": "2023-07-15T08:22:21.310Z"
   },
   {
    "duration": 207,
    "start_time": "2023-07-15T08:22:21.342Z"
   },
   {
    "duration": 322,
    "start_time": "2023-07-15T08:22:21.551Z"
   },
   {
    "duration": 0,
    "start_time": "2023-07-15T08:22:21.875Z"
   },
   {
    "duration": 0,
    "start_time": "2023-07-15T08:22:21.877Z"
   },
   {
    "duration": 1146,
    "start_time": "2023-07-15T08:22:56.362Z"
   },
   {
    "duration": 29,
    "start_time": "2023-07-15T08:22:57.510Z"
   },
   {
    "duration": 37,
    "start_time": "2023-07-15T08:22:57.541Z"
   },
   {
    "duration": 17,
    "start_time": "2023-07-15T08:22:57.581Z"
   },
   {
    "duration": 34,
    "start_time": "2023-07-15T08:22:57.600Z"
   },
   {
    "duration": 14,
    "start_time": "2023-07-15T08:22:57.636Z"
   },
   {
    "duration": 31,
    "start_time": "2023-07-15T08:22:57.652Z"
   },
   {
    "duration": 48,
    "start_time": "2023-07-15T08:22:57.685Z"
   },
   {
    "duration": 28,
    "start_time": "2023-07-15T08:22:57.735Z"
   },
   {
    "duration": 36,
    "start_time": "2023-07-15T08:22:57.766Z"
   },
   {
    "duration": 35,
    "start_time": "2023-07-15T08:22:57.804Z"
   },
   {
    "duration": 8,
    "start_time": "2023-07-15T08:22:57.841Z"
   },
   {
    "duration": 15,
    "start_time": "2023-07-15T08:22:57.851Z"
   },
   {
    "duration": 15,
    "start_time": "2023-07-15T08:22:57.868Z"
   },
   {
    "duration": 13,
    "start_time": "2023-07-15T08:22:57.885Z"
   },
   {
    "duration": 6,
    "start_time": "2023-07-15T08:22:57.900Z"
   },
   {
    "duration": 7,
    "start_time": "2023-07-15T08:22:57.908Z"
   },
   {
    "duration": 9,
    "start_time": "2023-07-15T08:22:57.917Z"
   },
   {
    "duration": 19,
    "start_time": "2023-07-15T08:22:57.927Z"
   },
   {
    "duration": 33,
    "start_time": "2023-07-15T08:22:57.948Z"
   },
   {
    "duration": 5,
    "start_time": "2023-07-15T08:22:57.982Z"
   },
   {
    "duration": 19,
    "start_time": "2023-07-15T08:22:57.988Z"
   },
   {
    "duration": 17,
    "start_time": "2023-07-15T08:22:58.008Z"
   },
   {
    "duration": 11,
    "start_time": "2023-07-15T08:22:58.026Z"
   },
   {
    "duration": 23,
    "start_time": "2023-07-15T08:22:58.038Z"
   },
   {
    "duration": 20,
    "start_time": "2023-07-15T08:22:58.063Z"
   },
   {
    "duration": 12,
    "start_time": "2023-07-15T08:22:58.085Z"
   },
   {
    "duration": 5,
    "start_time": "2023-07-15T08:22:58.102Z"
   },
   {
    "duration": 7,
    "start_time": "2023-07-15T08:22:58.109Z"
   },
   {
    "duration": 132,
    "start_time": "2023-07-15T08:22:58.118Z"
   },
   {
    "duration": 24,
    "start_time": "2023-07-15T08:22:58.252Z"
   },
   {
    "duration": 13,
    "start_time": "2023-07-15T08:22:58.278Z"
   },
   {
    "duration": 9,
    "start_time": "2023-07-15T08:22:58.293Z"
   },
   {
    "duration": 6,
    "start_time": "2023-07-15T08:22:58.303Z"
   },
   {
    "duration": 200,
    "start_time": "2023-07-15T08:22:58.310Z"
   },
   {
    "duration": 278,
    "start_time": "2023-07-15T08:22:58.512Z"
   },
   {
    "duration": 0,
    "start_time": "2023-07-15T08:22:58.792Z"
   },
   {
    "duration": 0,
    "start_time": "2023-07-15T08:22:58.793Z"
   },
   {
    "duration": 12,
    "start_time": "2023-07-15T08:23:37.053Z"
   },
   {
    "duration": 5,
    "start_time": "2023-07-15T08:23:51.749Z"
   },
   {
    "duration": 1202,
    "start_time": "2023-07-15T08:23:58.857Z"
   },
   {
    "duration": 33,
    "start_time": "2023-07-15T08:24:00.062Z"
   },
   {
    "duration": 80,
    "start_time": "2023-07-15T08:24:00.097Z"
   },
   {
    "duration": 47,
    "start_time": "2023-07-15T08:24:00.178Z"
   },
   {
    "duration": 37,
    "start_time": "2023-07-15T08:24:00.228Z"
   },
   {
    "duration": 61,
    "start_time": "2023-07-15T08:24:00.266Z"
   },
   {
    "duration": 51,
    "start_time": "2023-07-15T08:24:00.329Z"
   },
   {
    "duration": 72,
    "start_time": "2023-07-15T08:24:00.382Z"
   },
   {
    "duration": 31,
    "start_time": "2023-07-15T08:24:00.456Z"
   },
   {
    "duration": 88,
    "start_time": "2023-07-15T08:24:00.489Z"
   },
   {
    "duration": 30,
    "start_time": "2023-07-15T08:24:00.579Z"
   },
   {
    "duration": 31,
    "start_time": "2023-07-15T08:24:00.611Z"
   },
   {
    "duration": 83,
    "start_time": "2023-07-15T08:24:00.644Z"
   },
   {
    "duration": 39,
    "start_time": "2023-07-15T08:24:00.731Z"
   },
   {
    "duration": 58,
    "start_time": "2023-07-15T08:24:00.773Z"
   },
   {
    "duration": 35,
    "start_time": "2023-07-15T08:24:00.833Z"
   },
   {
    "duration": 37,
    "start_time": "2023-07-15T08:24:00.870Z"
   },
   {
    "duration": 59,
    "start_time": "2023-07-15T08:24:00.909Z"
   },
   {
    "duration": 50,
    "start_time": "2023-07-15T08:24:00.970Z"
   },
   {
    "duration": 56,
    "start_time": "2023-07-15T08:24:01.022Z"
   },
   {
    "duration": 102,
    "start_time": "2023-07-15T08:24:01.080Z"
   },
   {
    "duration": 96,
    "start_time": "2023-07-15T08:24:01.185Z"
   },
   {
    "duration": 144,
    "start_time": "2023-07-15T08:24:01.283Z"
   },
   {
    "duration": 103,
    "start_time": "2023-07-15T08:24:01.429Z"
   },
   {
    "duration": 47,
    "start_time": "2023-07-15T08:24:01.534Z"
   },
   {
    "duration": 86,
    "start_time": "2023-07-15T08:24:01.583Z"
   },
   {
    "duration": 113,
    "start_time": "2023-07-15T08:24:01.670Z"
   },
   {
    "duration": 138,
    "start_time": "2023-07-15T08:24:01.785Z"
   },
   {
    "duration": 115,
    "start_time": "2023-07-15T08:24:01.925Z"
   },
   {
    "duration": 101,
    "start_time": "2023-07-15T08:24:02.041Z"
   },
   {
    "duration": 31,
    "start_time": "2023-07-15T08:24:02.143Z"
   },
   {
    "duration": 178,
    "start_time": "2023-07-15T08:24:02.177Z"
   },
   {
    "duration": 19,
    "start_time": "2023-07-15T08:24:02.357Z"
   },
   {
    "duration": 114,
    "start_time": "2023-07-15T08:24:02.378Z"
   },
   {
    "duration": 92,
    "start_time": "2023-07-15T08:24:02.494Z"
   },
   {
    "duration": 52,
    "start_time": "2023-07-15T08:24:02.588Z"
   },
   {
    "duration": 301,
    "start_time": "2023-07-15T08:24:02.642Z"
   },
   {
    "duration": 147,
    "start_time": "2023-07-15T08:24:02.945Z"
   },
   {
    "duration": 312,
    "start_time": "2023-07-15T08:24:03.094Z"
   },
   {
    "duration": 277,
    "start_time": "2023-07-15T08:24:03.407Z"
   },
   {
    "duration": 1240,
    "start_time": "2023-07-15T08:24:43.145Z"
   },
   {
    "duration": 28,
    "start_time": "2023-07-15T08:24:44.387Z"
   },
   {
    "duration": 38,
    "start_time": "2023-07-15T08:24:44.418Z"
   },
   {
    "duration": 16,
    "start_time": "2023-07-15T08:24:44.458Z"
   },
   {
    "duration": 12,
    "start_time": "2023-07-15T08:24:44.475Z"
   },
   {
    "duration": 24,
    "start_time": "2023-07-15T08:24:44.488Z"
   },
   {
    "duration": 15,
    "start_time": "2023-07-15T08:24:44.514Z"
   },
   {
    "duration": 23,
    "start_time": "2023-07-15T08:24:44.531Z"
   },
   {
    "duration": 15,
    "start_time": "2023-07-15T08:24:44.555Z"
   },
   {
    "duration": 18,
    "start_time": "2023-07-15T08:24:44.572Z"
   },
   {
    "duration": 4,
    "start_time": "2023-07-15T08:24:44.592Z"
   },
   {
    "duration": 9,
    "start_time": "2023-07-15T08:24:44.598Z"
   },
   {
    "duration": 20,
    "start_time": "2023-07-15T08:24:44.610Z"
   },
   {
    "duration": 105,
    "start_time": "2023-07-15T08:24:44.632Z"
   },
   {
    "duration": 1,
    "start_time": "2023-07-15T08:24:44.738Z"
   },
   {
    "duration": 0,
    "start_time": "2023-07-15T08:24:44.740Z"
   },
   {
    "duration": 0,
    "start_time": "2023-07-15T08:24:44.741Z"
   },
   {
    "duration": 0,
    "start_time": "2023-07-15T08:24:44.743Z"
   },
   {
    "duration": 0,
    "start_time": "2023-07-15T08:24:44.744Z"
   },
   {
    "duration": 0,
    "start_time": "2023-07-15T08:24:44.745Z"
   },
   {
    "duration": 0,
    "start_time": "2023-07-15T08:24:44.747Z"
   },
   {
    "duration": 0,
    "start_time": "2023-07-15T08:24:44.748Z"
   },
   {
    "duration": 0,
    "start_time": "2023-07-15T08:24:44.768Z"
   },
   {
    "duration": 0,
    "start_time": "2023-07-15T08:24:44.770Z"
   },
   {
    "duration": 0,
    "start_time": "2023-07-15T08:24:44.772Z"
   },
   {
    "duration": 0,
    "start_time": "2023-07-15T08:24:44.774Z"
   },
   {
    "duration": 0,
    "start_time": "2023-07-15T08:24:44.776Z"
   },
   {
    "duration": 0,
    "start_time": "2023-07-15T08:24:44.777Z"
   },
   {
    "duration": 0,
    "start_time": "2023-07-15T08:24:44.780Z"
   },
   {
    "duration": 0,
    "start_time": "2023-07-15T08:24:44.781Z"
   },
   {
    "duration": 0,
    "start_time": "2023-07-15T08:24:44.783Z"
   },
   {
    "duration": 0,
    "start_time": "2023-07-15T08:24:44.784Z"
   },
   {
    "duration": 0,
    "start_time": "2023-07-15T08:24:44.786Z"
   },
   {
    "duration": 0,
    "start_time": "2023-07-15T08:24:44.787Z"
   },
   {
    "duration": 0,
    "start_time": "2023-07-15T08:24:44.789Z"
   },
   {
    "duration": 0,
    "start_time": "2023-07-15T08:24:44.790Z"
   },
   {
    "duration": 0,
    "start_time": "2023-07-15T08:24:44.792Z"
   },
   {
    "duration": 0,
    "start_time": "2023-07-15T08:24:44.793Z"
   },
   {
    "duration": 0,
    "start_time": "2023-07-15T08:24:44.795Z"
   },
   {
    "duration": 0,
    "start_time": "2023-07-15T08:24:44.797Z"
   },
   {
    "duration": 1213,
    "start_time": "2023-07-15T08:25:01.784Z"
   },
   {
    "duration": 34,
    "start_time": "2023-07-15T08:25:03.000Z"
   },
   {
    "duration": 38,
    "start_time": "2023-07-15T08:25:03.036Z"
   },
   {
    "duration": 17,
    "start_time": "2023-07-15T08:25:03.076Z"
   },
   {
    "duration": 12,
    "start_time": "2023-07-15T08:25:03.095Z"
   },
   {
    "duration": 30,
    "start_time": "2023-07-15T08:25:03.108Z"
   },
   {
    "duration": 23,
    "start_time": "2023-07-15T08:25:03.140Z"
   },
   {
    "duration": 15,
    "start_time": "2023-07-15T08:25:03.166Z"
   },
   {
    "duration": 21,
    "start_time": "2023-07-15T08:25:03.183Z"
   },
   {
    "duration": 17,
    "start_time": "2023-07-15T08:25:03.206Z"
   },
   {
    "duration": 18,
    "start_time": "2023-07-15T08:25:03.225Z"
   },
   {
    "duration": 28,
    "start_time": "2023-07-15T08:25:03.244Z"
   },
   {
    "duration": 36,
    "start_time": "2023-07-15T08:25:03.274Z"
   },
   {
    "duration": 26,
    "start_time": "2023-07-15T08:25:03.313Z"
   },
   {
    "duration": 24,
    "start_time": "2023-07-15T08:25:03.341Z"
   },
   {
    "duration": 11,
    "start_time": "2023-07-15T08:25:03.367Z"
   },
   {
    "duration": 15,
    "start_time": "2023-07-15T08:25:03.380Z"
   },
   {
    "duration": 10,
    "start_time": "2023-07-15T08:25:03.397Z"
   },
   {
    "duration": 11,
    "start_time": "2023-07-15T08:25:03.409Z"
   },
   {
    "duration": 5,
    "start_time": "2023-07-15T08:25:03.422Z"
   },
   {
    "duration": 13,
    "start_time": "2023-07-15T08:25:03.429Z"
   },
   {
    "duration": 16,
    "start_time": "2023-07-15T08:25:03.444Z"
   },
   {
    "duration": 10,
    "start_time": "2023-07-15T08:25:03.461Z"
   },
   {
    "duration": 27,
    "start_time": "2023-07-15T08:25:03.473Z"
   },
   {
    "duration": 23,
    "start_time": "2023-07-15T08:25:03.501Z"
   },
   {
    "duration": 13,
    "start_time": "2023-07-15T08:25:03.525Z"
   },
   {
    "duration": 17,
    "start_time": "2023-07-15T08:25:03.540Z"
   },
   {
    "duration": 16,
    "start_time": "2023-07-15T08:25:03.559Z"
   },
   {
    "duration": 40,
    "start_time": "2023-07-15T08:25:03.577Z"
   },
   {
    "duration": 8,
    "start_time": "2023-07-15T08:25:03.618Z"
   },
   {
    "duration": 8,
    "start_time": "2023-07-15T08:25:03.627Z"
   },
   {
    "duration": 120,
    "start_time": "2023-07-15T08:25:03.637Z"
   },
   {
    "duration": 13,
    "start_time": "2023-07-15T08:25:03.758Z"
   },
   {
    "duration": 13,
    "start_time": "2023-07-15T08:25:03.773Z"
   },
   {
    "duration": 27,
    "start_time": "2023-07-15T08:25:03.787Z"
   },
   {
    "duration": 11,
    "start_time": "2023-07-15T08:25:03.816Z"
   },
   {
    "duration": 201,
    "start_time": "2023-07-15T08:25:03.829Z"
   },
   {
    "duration": 122,
    "start_time": "2023-07-15T08:25:04.032Z"
   },
   {
    "duration": 266,
    "start_time": "2023-07-15T08:25:04.156Z"
   },
   {
    "duration": 254,
    "start_time": "2023-07-15T08:25:04.424Z"
   },
   {
    "duration": 11,
    "start_time": "2023-07-15T08:25:20.085Z"
   },
   {
    "duration": 4,
    "start_time": "2023-07-15T08:25:27.837Z"
   },
   {
    "duration": 10,
    "start_time": "2023-07-15T08:25:28.284Z"
   },
   {
    "duration": 1175,
    "start_time": "2023-07-15T08:25:35.912Z"
   },
   {
    "duration": 29,
    "start_time": "2023-07-15T08:25:37.089Z"
   },
   {
    "duration": 38,
    "start_time": "2023-07-15T08:25:37.120Z"
   },
   {
    "duration": 16,
    "start_time": "2023-07-15T08:25:37.161Z"
   },
   {
    "duration": 13,
    "start_time": "2023-07-15T08:25:37.179Z"
   },
   {
    "duration": 17,
    "start_time": "2023-07-15T08:25:37.194Z"
   },
   {
    "duration": 15,
    "start_time": "2023-07-15T08:25:37.213Z"
   },
   {
    "duration": 14,
    "start_time": "2023-07-15T08:25:37.230Z"
   },
   {
    "duration": 22,
    "start_time": "2023-07-15T08:25:37.246Z"
   },
   {
    "duration": 11,
    "start_time": "2023-07-15T08:25:37.270Z"
   },
   {
    "duration": 10,
    "start_time": "2023-07-15T08:25:37.283Z"
   },
   {
    "duration": 7,
    "start_time": "2023-07-15T08:25:37.295Z"
   },
   {
    "duration": 15,
    "start_time": "2023-07-15T08:25:37.303Z"
   },
   {
    "duration": 11,
    "start_time": "2023-07-15T08:25:37.320Z"
   },
   {
    "duration": 16,
    "start_time": "2023-07-15T08:25:37.332Z"
   },
   {
    "duration": 26,
    "start_time": "2023-07-15T08:25:37.349Z"
   },
   {
    "duration": 25,
    "start_time": "2023-07-15T08:25:37.378Z"
   },
   {
    "duration": 18,
    "start_time": "2023-07-15T08:25:37.405Z"
   },
   {
    "duration": 7,
    "start_time": "2023-07-15T08:25:37.425Z"
   },
   {
    "duration": 7,
    "start_time": "2023-07-15T08:25:37.433Z"
   },
   {
    "duration": 11,
    "start_time": "2023-07-15T08:25:37.441Z"
   },
   {
    "duration": 17,
    "start_time": "2023-07-15T08:25:37.453Z"
   },
   {
    "duration": 24,
    "start_time": "2023-07-15T08:25:37.471Z"
   },
   {
    "duration": 7,
    "start_time": "2023-07-15T08:25:37.497Z"
   },
   {
    "duration": 19,
    "start_time": "2023-07-15T08:25:37.506Z"
   },
   {
    "duration": 23,
    "start_time": "2023-07-15T08:25:37.527Z"
   },
   {
    "duration": 6,
    "start_time": "2023-07-15T08:25:37.552Z"
   },
   {
    "duration": 16,
    "start_time": "2023-07-15T08:25:37.562Z"
   },
   {
    "duration": 19,
    "start_time": "2023-07-15T08:25:37.580Z"
   },
   {
    "duration": 15,
    "start_time": "2023-07-15T08:25:37.601Z"
   },
   {
    "duration": 7,
    "start_time": "2023-07-15T08:25:37.618Z"
   },
   {
    "duration": 9,
    "start_time": "2023-07-15T08:25:37.627Z"
   },
   {
    "duration": 150,
    "start_time": "2023-07-15T08:25:37.639Z"
   },
   {
    "duration": 15,
    "start_time": "2023-07-15T08:25:37.791Z"
   },
   {
    "duration": 15,
    "start_time": "2023-07-15T08:25:37.808Z"
   },
   {
    "duration": 16,
    "start_time": "2023-07-15T08:25:37.824Z"
   },
   {
    "duration": 27,
    "start_time": "2023-07-15T08:25:37.842Z"
   },
   {
    "duration": 190,
    "start_time": "2023-07-15T08:25:37.871Z"
   },
   {
    "duration": 142,
    "start_time": "2023-07-15T08:25:38.063Z"
   },
   {
    "duration": 329,
    "start_time": "2023-07-15T08:25:38.207Z"
   },
   {
    "duration": 287,
    "start_time": "2023-07-15T08:25:38.538Z"
   },
   {
    "duration": 183,
    "start_time": "2023-07-15T08:26:27.274Z"
   },
   {
    "duration": 221,
    "start_time": "2023-07-15T08:26:32.256Z"
   },
   {
    "duration": 308,
    "start_time": "2023-07-15T08:26:45.320Z"
   },
   {
    "duration": 225,
    "start_time": "2023-07-15T08:27:06.711Z"
   },
   {
    "duration": 240,
    "start_time": "2023-07-15T08:27:55.901Z"
   },
   {
    "duration": 328,
    "start_time": "2023-07-15T08:30:46.417Z"
   },
   {
    "duration": 271,
    "start_time": "2023-07-15T08:31:13.718Z"
   },
   {
    "duration": 285,
    "start_time": "2023-07-15T08:34:23.863Z"
   },
   {
    "duration": 243,
    "start_time": "2023-07-15T08:35:13.649Z"
   },
   {
    "duration": 274,
    "start_time": "2023-07-15T08:36:25.452Z"
   },
   {
    "duration": 87,
    "start_time": "2023-07-15T08:36:47.376Z"
   },
   {
    "duration": 137,
    "start_time": "2023-07-15T08:37:04.065Z"
   },
   {
    "duration": 185,
    "start_time": "2023-07-15T08:38:58.345Z"
   },
   {
    "duration": 264,
    "start_time": "2023-07-15T09:07:42.663Z"
   },
   {
    "duration": 284,
    "start_time": "2023-07-15T09:07:50.252Z"
   },
   {
    "duration": 290,
    "start_time": "2023-07-15T12:17:33.362Z"
   },
   {
    "duration": 321,
    "start_time": "2023-07-15T12:17:46.415Z"
   },
   {
    "duration": 222,
    "start_time": "2023-07-15T12:18:27.197Z"
   },
   {
    "duration": 344,
    "start_time": "2023-07-15T12:19:01.614Z"
   },
   {
    "duration": 216,
    "start_time": "2023-07-15T12:19:18.378Z"
   },
   {
    "duration": 232,
    "start_time": "2023-07-15T12:19:43.838Z"
   },
   {
    "duration": 250,
    "start_time": "2023-07-15T12:19:55.680Z"
   },
   {
    "duration": 274,
    "start_time": "2023-07-15T12:20:06.218Z"
   },
   {
    "duration": 274,
    "start_time": "2023-07-15T12:20:47.137Z"
   },
   {
    "duration": 273,
    "start_time": "2023-07-15T12:20:52.306Z"
   },
   {
    "duration": 278,
    "start_time": "2023-07-15T12:21:25.262Z"
   },
   {
    "duration": 6,
    "start_time": "2023-07-15T12:21:48.108Z"
   },
   {
    "duration": 246,
    "start_time": "2023-07-15T12:22:22.007Z"
   },
   {
    "duration": 296,
    "start_time": "2023-07-15T12:22:31.568Z"
   },
   {
    "duration": 262,
    "start_time": "2023-07-15T12:22:35.105Z"
   },
   {
    "duration": 264,
    "start_time": "2023-07-15T12:25:02.946Z"
   },
   {
    "duration": 435,
    "start_time": "2023-07-15T12:25:17.570Z"
   },
   {
    "duration": 339,
    "start_time": "2023-07-15T12:25:23.672Z"
   },
   {
    "duration": 356,
    "start_time": "2023-07-15T12:25:35.721Z"
   },
   {
    "duration": 135,
    "start_time": "2023-07-15T12:27:36.853Z"
   },
   {
    "duration": 170,
    "start_time": "2023-07-15T12:27:44.515Z"
   },
   {
    "duration": 166,
    "start_time": "2023-07-15T12:27:57.311Z"
   },
   {
    "duration": 4,
    "start_time": "2023-07-15T12:28:24.452Z"
   },
   {
    "duration": 7,
    "start_time": "2023-07-15T12:28:25.983Z"
   },
   {
    "duration": 6,
    "start_time": "2023-07-15T12:28:44.989Z"
   },
   {
    "duration": 6,
    "start_time": "2023-07-15T12:28:51.337Z"
   },
   {
    "duration": 11,
    "start_time": "2023-07-15T12:29:49.141Z"
   },
   {
    "duration": 14,
    "start_time": "2023-07-15T12:30:21.997Z"
   },
   {
    "duration": 7,
    "start_time": "2023-07-15T12:30:48.776Z"
   },
   {
    "duration": 1095,
    "start_time": "2023-07-15T12:30:50.239Z"
   },
   {
    "duration": 6,
    "start_time": "2023-07-15T12:30:59.744Z"
   },
   {
    "duration": 3,
    "start_time": "2023-07-15T12:33:51.818Z"
   },
   {
    "duration": 5,
    "start_time": "2023-07-15T12:34:01.818Z"
   },
   {
    "duration": 4,
    "start_time": "2023-07-15T12:34:12.908Z"
   },
   {
    "duration": 3,
    "start_time": "2023-07-15T12:34:14.685Z"
   },
   {
    "duration": 5,
    "start_time": "2023-07-15T12:34:15.139Z"
   },
   {
    "duration": 4,
    "start_time": "2023-07-15T12:34:46.482Z"
   },
   {
    "duration": 5,
    "start_time": "2023-07-15T12:34:47.449Z"
   },
   {
    "duration": 4,
    "start_time": "2023-07-15T12:34:52.521Z"
   },
   {
    "duration": 5,
    "start_time": "2023-07-15T12:34:53.389Z"
   },
   {
    "duration": 1422,
    "start_time": "2023-07-16T11:37:37.045Z"
   },
   {
    "duration": 65,
    "start_time": "2023-07-16T11:37:38.469Z"
   },
   {
    "duration": 85,
    "start_time": "2023-07-16T11:37:38.536Z"
   },
   {
    "duration": 56,
    "start_time": "2023-07-16T11:37:38.624Z"
   },
   {
    "duration": 13,
    "start_time": "2023-07-16T11:37:38.682Z"
   },
   {
    "duration": 12,
    "start_time": "2023-07-16T11:37:38.696Z"
   },
   {
    "duration": 17,
    "start_time": "2023-07-16T11:37:38.710Z"
   },
   {
    "duration": 185,
    "start_time": "2023-07-16T11:37:38.729Z"
   },
   {
    "duration": 68,
    "start_time": "2023-07-16T11:37:38.916Z"
   },
   {
    "duration": 59,
    "start_time": "2023-07-16T11:37:38.987Z"
   },
   {
    "duration": 11,
    "start_time": "2023-07-16T11:37:39.047Z"
   },
   {
    "duration": 15,
    "start_time": "2023-07-16T11:37:39.060Z"
   },
   {
    "duration": 22,
    "start_time": "2023-07-16T11:37:39.077Z"
   },
   {
    "duration": 34,
    "start_time": "2023-07-16T11:37:39.100Z"
   },
   {
    "duration": 61,
    "start_time": "2023-07-16T11:37:39.136Z"
   },
   {
    "duration": 16,
    "start_time": "2023-07-16T11:37:39.199Z"
   },
   {
    "duration": 14,
    "start_time": "2023-07-16T11:37:39.217Z"
   },
   {
    "duration": 38,
    "start_time": "2023-07-16T11:37:39.233Z"
   },
   {
    "duration": 27,
    "start_time": "2023-07-16T11:37:39.273Z"
   },
   {
    "duration": 31,
    "start_time": "2023-07-16T11:37:39.302Z"
   },
   {
    "duration": 31,
    "start_time": "2023-07-16T11:37:39.334Z"
   },
   {
    "duration": 27,
    "start_time": "2023-07-16T11:37:39.367Z"
   },
   {
    "duration": 16,
    "start_time": "2023-07-16T11:37:39.396Z"
   },
   {
    "duration": 17,
    "start_time": "2023-07-16T11:37:39.414Z"
   },
   {
    "duration": 26,
    "start_time": "2023-07-16T11:37:39.433Z"
   },
   {
    "duration": 48,
    "start_time": "2023-07-16T11:37:39.461Z"
   },
   {
    "duration": 99,
    "start_time": "2023-07-16T11:37:39.511Z"
   },
   {
    "duration": 46,
    "start_time": "2023-07-16T11:37:39.614Z"
   },
   {
    "duration": 53,
    "start_time": "2023-07-16T11:37:39.663Z"
   },
   {
    "duration": 112,
    "start_time": "2023-07-16T11:37:39.718Z"
   },
   {
    "duration": 0,
    "start_time": "2023-07-16T11:37:39.831Z"
   },
   {
    "duration": 0,
    "start_time": "2023-07-16T11:37:39.832Z"
   },
   {
    "duration": 0,
    "start_time": "2023-07-16T11:37:39.834Z"
   },
   {
    "duration": 0,
    "start_time": "2023-07-16T11:37:39.836Z"
   },
   {
    "duration": 0,
    "start_time": "2023-07-16T11:37:39.837Z"
   },
   {
    "duration": 0,
    "start_time": "2023-07-16T11:37:39.838Z"
   },
   {
    "duration": 0,
    "start_time": "2023-07-16T11:37:39.839Z"
   },
   {
    "duration": 0,
    "start_time": "2023-07-16T11:37:39.840Z"
   },
   {
    "duration": 0,
    "start_time": "2023-07-16T11:37:39.841Z"
   },
   {
    "duration": 0,
    "start_time": "2023-07-16T11:37:39.843Z"
   },
   {
    "duration": 0,
    "start_time": "2023-07-16T11:37:39.843Z"
   },
   {
    "duration": 0,
    "start_time": "2023-07-16T11:37:39.844Z"
   },
   {
    "duration": 0,
    "start_time": "2023-07-16T11:37:39.846Z"
   },
   {
    "duration": 0,
    "start_time": "2023-07-16T11:37:39.847Z"
   },
   {
    "duration": 0,
    "start_time": "2023-07-16T11:37:39.848Z"
   },
   {
    "duration": 0,
    "start_time": "2023-07-16T11:37:39.849Z"
   },
   {
    "duration": 0,
    "start_time": "2023-07-16T11:37:39.850Z"
   },
   {
    "duration": 0,
    "start_time": "2023-07-16T11:37:39.851Z"
   },
   {
    "duration": 0,
    "start_time": "2023-07-16T11:37:39.852Z"
   },
   {
    "duration": 0,
    "start_time": "2023-07-16T11:37:39.853Z"
   },
   {
    "duration": 8,
    "start_time": "2023-07-16T11:37:50.154Z"
   },
   {
    "duration": 6,
    "start_time": "2023-07-16T11:37:52.013Z"
   },
   {
    "duration": 6,
    "start_time": "2023-07-16T11:37:52.598Z"
   },
   {
    "duration": 27,
    "start_time": "2023-07-16T11:38:04.944Z"
   },
   {
    "duration": 16,
    "start_time": "2023-07-16T11:38:05.522Z"
   },
   {
    "duration": 14,
    "start_time": "2023-07-16T11:38:31.054Z"
   },
   {
    "duration": 13,
    "start_time": "2023-07-16T11:38:32.933Z"
   },
   {
    "duration": 11,
    "start_time": "2023-07-16T11:38:53.246Z"
   },
   {
    "duration": 6,
    "start_time": "2023-07-16T11:38:55.915Z"
   },
   {
    "duration": 173,
    "start_time": "2023-07-16T11:38:56.410Z"
   },
   {
    "duration": 132,
    "start_time": "2023-07-16T11:39:03.633Z"
   },
   {
    "duration": 51,
    "start_time": "2023-07-16T13:08:13.547Z"
   },
   {
    "duration": 9,
    "start_time": "2023-07-16T13:08:41.171Z"
   },
   {
    "duration": 1432,
    "start_time": "2023-07-16T13:09:24.726Z"
   },
   {
    "duration": 71,
    "start_time": "2023-07-16T13:09:26.161Z"
   },
   {
    "duration": 69,
    "start_time": "2023-07-16T13:09:26.234Z"
   },
   {
    "duration": 55,
    "start_time": "2023-07-16T13:09:26.306Z"
   },
   {
    "duration": 11,
    "start_time": "2023-07-16T13:09:26.363Z"
   },
   {
    "duration": 16,
    "start_time": "2023-07-16T13:09:26.376Z"
   },
   {
    "duration": 125,
    "start_time": "2023-07-16T13:09:26.394Z"
   },
   {
    "duration": 82,
    "start_time": "2023-07-16T13:09:26.521Z"
   },
   {
    "duration": 24,
    "start_time": "2023-07-16T13:09:26.605Z"
   },
   {
    "duration": 36,
    "start_time": "2023-07-16T13:09:26.633Z"
   },
   {
    "duration": 11,
    "start_time": "2023-07-16T13:09:26.671Z"
   },
   {
    "duration": 41,
    "start_time": "2023-07-16T13:09:26.684Z"
   },
   {
    "duration": 6,
    "start_time": "2023-07-16T13:09:26.728Z"
   },
   {
    "duration": 9,
    "start_time": "2023-07-16T13:09:26.736Z"
   },
   {
    "duration": 39,
    "start_time": "2023-07-16T13:09:26.748Z"
   },
   {
    "duration": 83,
    "start_time": "2023-07-16T13:09:26.789Z"
   },
   {
    "duration": 61,
    "start_time": "2023-07-16T13:09:26.874Z"
   },
   {
    "duration": 148,
    "start_time": "2023-07-16T13:09:26.937Z"
   },
   {
    "duration": 20,
    "start_time": "2023-07-16T13:09:27.087Z"
   },
   {
    "duration": 22,
    "start_time": "2023-07-16T13:09:27.108Z"
   },
   {
    "duration": 12,
    "start_time": "2023-07-16T13:09:27.132Z"
   },
   {
    "duration": 9,
    "start_time": "2023-07-16T13:09:27.146Z"
   },
   {
    "duration": 16,
    "start_time": "2023-07-16T13:09:27.158Z"
   },
   {
    "duration": 25,
    "start_time": "2023-07-16T13:09:27.176Z"
   },
   {
    "duration": 27,
    "start_time": "2023-07-16T13:09:27.204Z"
   },
   {
    "duration": 12,
    "start_time": "2023-07-16T13:09:27.232Z"
   },
   {
    "duration": 8,
    "start_time": "2023-07-16T13:09:27.246Z"
   },
   {
    "duration": 23,
    "start_time": "2023-07-16T13:09:27.259Z"
   },
   {
    "duration": 27,
    "start_time": "2023-07-16T13:09:27.284Z"
   },
   {
    "duration": 22,
    "start_time": "2023-07-16T13:09:27.313Z"
   },
   {
    "duration": 6,
    "start_time": "2023-07-16T13:09:27.337Z"
   },
   {
    "duration": 16,
    "start_time": "2023-07-16T13:09:27.344Z"
   },
   {
    "duration": 192,
    "start_time": "2023-07-16T13:09:27.362Z"
   },
   {
    "duration": 15,
    "start_time": "2023-07-16T13:09:27.556Z"
   },
   {
    "duration": 94,
    "start_time": "2023-07-16T13:09:27.572Z"
   },
   {
    "duration": 29,
    "start_time": "2023-07-16T13:09:27.668Z"
   },
   {
    "duration": 16,
    "start_time": "2023-07-16T13:09:27.699Z"
   },
   {
    "duration": 209,
    "start_time": "2023-07-16T13:09:27.717Z"
   },
   {
    "duration": 146,
    "start_time": "2023-07-16T13:09:27.928Z"
   },
   {
    "duration": 6,
    "start_time": "2023-07-16T13:09:28.075Z"
   },
   {
    "duration": 36,
    "start_time": "2023-07-16T13:09:28.083Z"
   },
   {
    "duration": 0,
    "start_time": "2023-07-16T13:09:28.120Z"
   },
   {
    "duration": 0,
    "start_time": "2023-07-16T13:09:28.122Z"
   },
   {
    "duration": 0,
    "start_time": "2023-07-16T13:09:28.123Z"
   },
   {
    "duration": 0,
    "start_time": "2023-07-16T13:09:28.124Z"
   },
   {
    "duration": 0,
    "start_time": "2023-07-16T13:09:28.125Z"
   },
   {
    "duration": 0,
    "start_time": "2023-07-16T13:09:28.126Z"
   },
   {
    "duration": 0,
    "start_time": "2023-07-16T13:09:28.129Z"
   },
   {
    "duration": 0,
    "start_time": "2023-07-16T13:09:28.130Z"
   },
   {
    "duration": 0,
    "start_time": "2023-07-16T13:09:28.131Z"
   },
   {
    "duration": 0,
    "start_time": "2023-07-16T13:09:28.132Z"
   },
   {
    "duration": 0,
    "start_time": "2023-07-16T13:09:28.133Z"
   },
   {
    "duration": 0,
    "start_time": "2023-07-16T13:09:28.134Z"
   },
   {
    "duration": 0,
    "start_time": "2023-07-16T13:09:28.135Z"
   },
   {
    "duration": 0,
    "start_time": "2023-07-16T13:09:28.137Z"
   },
   {
    "duration": 196,
    "start_time": "2023-07-16T13:09:44.083Z"
   },
   {
    "duration": 126,
    "start_time": "2023-07-16T13:09:45.187Z"
   },
   {
    "duration": 8,
    "start_time": "2023-07-16T13:09:46.114Z"
   },
   {
    "duration": 5,
    "start_time": "2023-07-16T13:09:47.117Z"
   },
   {
    "duration": 5,
    "start_time": "2023-07-16T13:09:49.217Z"
   },
   {
    "duration": 349,
    "start_time": "2023-07-16T13:09:51.115Z"
   },
   {
    "duration": 238,
    "start_time": "2023-07-16T13:10:00.295Z"
   },
   {
    "duration": 7,
    "start_time": "2023-07-16T13:10:13.935Z"
   },
   {
    "duration": 367,
    "start_time": "2023-07-16T13:10:15.427Z"
   },
   {
    "duration": 309,
    "start_time": "2023-07-16T13:10:20.927Z"
   },
   {
    "duration": 156,
    "start_time": "2023-07-16T13:10:53.268Z"
   },
   {
    "duration": 4,
    "start_time": "2023-07-16T13:10:54.860Z"
   },
   {
    "duration": 3,
    "start_time": "2023-07-16T13:10:55.340Z"
   },
   {
    "duration": 4,
    "start_time": "2023-07-16T13:10:55.765Z"
   },
   {
    "duration": 224,
    "start_time": "2023-07-16T13:10:56.851Z"
   },
   {
    "duration": 232,
    "start_time": "2023-07-16T13:11:10.009Z"
   },
   {
    "duration": 8,
    "start_time": "2023-07-16T13:11:11.342Z"
   },
   {
    "duration": 344,
    "start_time": "2023-07-16T13:11:12.614Z"
   },
   {
    "duration": 10,
    "start_time": "2023-07-16T13:11:21.655Z"
   },
   {
    "duration": 338,
    "start_time": "2023-07-16T13:11:36.117Z"
   },
   {
    "duration": 319,
    "start_time": "2023-07-16T13:11:40.837Z"
   },
   {
    "duration": 12,
    "start_time": "2023-07-16T13:14:45.652Z"
   },
   {
    "duration": 169,
    "start_time": "2023-07-16T13:21:22.319Z"
   },
   {
    "duration": 174,
    "start_time": "2023-07-16T13:21:38.147Z"
   },
   {
    "duration": 5,
    "start_time": "2023-07-16T13:22:47.886Z"
   },
   {
    "duration": 9,
    "start_time": "2023-07-16T13:23:41.135Z"
   },
   {
    "duration": 17,
    "start_time": "2023-07-16T13:24:04.186Z"
   },
   {
    "duration": 9,
    "start_time": "2023-07-16T13:24:10.367Z"
   },
   {
    "duration": 16,
    "start_time": "2023-07-16T13:24:13.938Z"
   },
   {
    "duration": 9,
    "start_time": "2023-07-16T13:24:33.516Z"
   },
   {
    "duration": 1013,
    "start_time": "2023-07-16T13:25:03.211Z"
   },
   {
    "duration": 133,
    "start_time": "2023-07-16T13:25:08.848Z"
   },
   {
    "duration": 5,
    "start_time": "2023-07-16T13:25:30.766Z"
   },
   {
    "duration": 12,
    "start_time": "2023-07-16T13:26:28.284Z"
   },
   {
    "duration": 6,
    "start_time": "2023-07-16T13:26:55.239Z"
   },
   {
    "duration": 3,
    "start_time": "2023-07-16T13:27:00.821Z"
   },
   {
    "duration": 12,
    "start_time": "2023-07-16T13:27:07.769Z"
   },
   {
    "duration": 7,
    "start_time": "2023-07-16T13:27:17.019Z"
   },
   {
    "duration": 4,
    "start_time": "2023-07-16T13:27:34.362Z"
   },
   {
    "duration": 140,
    "start_time": "2023-07-16T13:27:42.567Z"
   },
   {
    "duration": 5,
    "start_time": "2023-07-16T13:27:48.361Z"
   },
   {
    "duration": 6,
    "start_time": "2023-07-16T13:28:10.212Z"
   },
   {
    "duration": 132,
    "start_time": "2023-07-16T13:32:15.465Z"
   },
   {
    "duration": 126,
    "start_time": "2023-07-16T13:32:37.047Z"
   },
   {
    "duration": 125,
    "start_time": "2023-07-16T13:33:14.948Z"
   },
   {
    "duration": 3,
    "start_time": "2023-07-16T13:33:16.113Z"
   },
   {
    "duration": 127,
    "start_time": "2023-07-16T13:33:17.546Z"
   },
   {
    "duration": 13,
    "start_time": "2023-07-16T13:52:08.276Z"
   },
   {
    "duration": 13,
    "start_time": "2023-07-16T13:52:14.917Z"
   },
   {
    "duration": 5,
    "start_time": "2023-07-16T13:53:38.884Z"
   },
   {
    "duration": 47,
    "start_time": "2023-07-16T13:53:39.455Z"
   },
   {
    "duration": 5,
    "start_time": "2023-07-16T13:53:40.286Z"
   },
   {
    "duration": 49,
    "start_time": "2023-07-16T13:54:08.361Z"
   },
   {
    "duration": 58,
    "start_time": "2023-07-16T13:54:09.627Z"
   },
   {
    "duration": 7,
    "start_time": "2023-07-16T13:54:10.805Z"
   },
   {
    "duration": 60,
    "start_time": "2023-07-16T13:54:11.189Z"
   },
   {
    "duration": 10,
    "start_time": "2023-07-16T13:56:08.236Z"
   },
   {
    "duration": 65,
    "start_time": "2023-07-16T13:56:09.536Z"
   },
   {
    "duration": 69,
    "start_time": "2023-07-16T13:56:48.882Z"
   },
   {
    "duration": 13,
    "start_time": "2023-07-16T13:57:10.243Z"
   },
   {
    "duration": 52,
    "start_time": "2023-07-16T13:57:15.676Z"
   },
   {
    "duration": 16,
    "start_time": "2023-07-16T13:57:28.587Z"
   },
   {
    "duration": 15,
    "start_time": "2023-07-16T13:57:37.933Z"
   },
   {
    "duration": 57,
    "start_time": "2023-07-16T13:58:31.887Z"
   },
   {
    "duration": 20,
    "start_time": "2023-07-16T13:59:10.384Z"
   },
   {
    "duration": 15,
    "start_time": "2023-07-16T13:59:16.187Z"
   },
   {
    "duration": 9,
    "start_time": "2023-07-16T14:01:07.977Z"
   },
   {
    "duration": 4,
    "start_time": "2023-07-16T14:03:12.177Z"
   },
   {
    "duration": 9,
    "start_time": "2023-07-16T14:09:53.703Z"
   },
   {
    "duration": 23,
    "start_time": "2023-07-16T14:12:28.886Z"
   },
   {
    "duration": 63,
    "start_time": "2023-07-16T14:14:04.751Z"
   },
   {
    "duration": 66,
    "start_time": "2023-07-16T14:14:05.299Z"
   },
   {
    "duration": 67,
    "start_time": "2023-07-16T14:14:30.294Z"
   },
   {
    "duration": 60,
    "start_time": "2023-07-16T14:14:34.734Z"
   },
   {
    "duration": 73,
    "start_time": "2023-07-16T14:14:37.760Z"
   },
   {
    "duration": 9,
    "start_time": "2023-07-16T14:14:39.534Z"
   },
   {
    "duration": 5,
    "start_time": "2023-07-16T14:15:04.955Z"
   },
   {
    "duration": 67,
    "start_time": "2023-07-16T14:32:06.802Z"
   },
   {
    "duration": 63,
    "start_time": "2023-07-16T14:32:08.944Z"
   },
   {
    "duration": 67,
    "start_time": "2023-07-16T14:32:09.212Z"
   },
   {
    "duration": 8,
    "start_time": "2023-07-16T14:37:36.802Z"
   },
   {
    "duration": 6,
    "start_time": "2023-07-16T14:39:19.723Z"
   },
   {
    "duration": 6,
    "start_time": "2023-07-16T14:39:20.447Z"
   },
   {
    "duration": 5,
    "start_time": "2023-07-16T14:42:01.435Z"
   },
   {
    "duration": 5,
    "start_time": "2023-07-16T14:42:02.222Z"
   },
   {
    "duration": 4,
    "start_time": "2023-07-16T14:42:54.902Z"
   },
   {
    "duration": 6,
    "start_time": "2023-07-16T14:42:59.513Z"
   },
   {
    "duration": 10,
    "start_time": "2023-07-16T14:43:08.893Z"
   },
   {
    "duration": 6,
    "start_time": "2023-07-16T14:43:57.971Z"
   },
   {
    "duration": 6,
    "start_time": "2023-07-16T14:44:03.426Z"
   },
   {
    "duration": 6,
    "start_time": "2023-07-16T14:44:07.819Z"
   },
   {
    "duration": 64,
    "start_time": "2023-07-16T14:56:34.041Z"
   },
   {
    "duration": 9,
    "start_time": "2023-07-16T14:56:40.764Z"
   },
   {
    "duration": 26,
    "start_time": "2023-07-16T14:57:42.110Z"
   },
   {
    "duration": 4,
    "start_time": "2023-07-16T14:57:57.253Z"
   },
   {
    "duration": 5,
    "start_time": "2023-07-16T14:58:11.413Z"
   },
   {
    "duration": 22,
    "start_time": "2023-07-16T14:58:12.139Z"
   },
   {
    "duration": 3,
    "start_time": "2023-07-16T15:00:17.710Z"
   },
   {
    "duration": 9,
    "start_time": "2023-07-16T15:00:26.594Z"
   },
   {
    "duration": 4,
    "start_time": "2023-07-16T15:00:27.638Z"
   },
   {
    "duration": 7,
    "start_time": "2023-07-16T15:00:29.194Z"
   },
   {
    "duration": 9,
    "start_time": "2023-07-16T15:08:56.989Z"
   },
   {
    "duration": 973,
    "start_time": "2023-07-16T15:08:58.586Z"
   },
   {
    "duration": 0,
    "start_time": "2023-07-16T15:08:59.561Z"
   },
   {
    "duration": 1007,
    "start_time": "2023-07-16T15:09:06.034Z"
   },
   {
    "duration": 6,
    "start_time": "2023-07-16T15:09:19.433Z"
   },
   {
    "duration": 4,
    "start_time": "2023-07-16T15:09:25.222Z"
   },
   {
    "duration": 4,
    "start_time": "2023-07-16T15:09:26.409Z"
   },
   {
    "duration": 4,
    "start_time": "2023-07-16T15:09:44.363Z"
   },
   {
    "duration": 4,
    "start_time": "2023-07-16T15:13:30.684Z"
   },
   {
    "duration": 1028,
    "start_time": "2023-07-16T15:13:37.068Z"
   },
   {
    "duration": 1012,
    "start_time": "2023-07-16T15:13:53.937Z"
   },
   {
    "duration": 7,
    "start_time": "2023-07-16T15:14:03.751Z"
   },
   {
    "duration": 6,
    "start_time": "2023-07-16T15:14:04.290Z"
   },
   {
    "duration": 9,
    "start_time": "2023-07-16T15:14:33.339Z"
   },
   {
    "duration": 22,
    "start_time": "2023-07-16T15:14:43.338Z"
   },
   {
    "duration": 6,
    "start_time": "2023-07-16T15:14:43.934Z"
   },
   {
    "duration": 995,
    "start_time": "2023-07-16T15:16:29.106Z"
   },
   {
    "duration": 13,
    "start_time": "2023-07-16T15:16:39.848Z"
   },
   {
    "duration": 66,
    "start_time": "2023-07-16T15:17:22.289Z"
   },
   {
    "duration": 61,
    "start_time": "2023-07-16T15:17:28.703Z"
   },
   {
    "duration": 64,
    "start_time": "2023-07-16T15:17:52.306Z"
   },
   {
    "duration": 1024,
    "start_time": "2023-07-16T15:24:55.999Z"
   },
   {
    "duration": 9,
    "start_time": "2023-07-16T15:25:05.618Z"
   },
   {
    "duration": 5,
    "start_time": "2023-07-16T15:25:13.091Z"
   },
   {
    "duration": 6,
    "start_time": "2023-07-16T15:25:28.689Z"
   },
   {
    "duration": 5,
    "start_time": "2023-07-16T15:25:36.991Z"
   },
   {
    "duration": 1085,
    "start_time": "2023-07-16T15:25:48.922Z"
   },
   {
    "duration": 995,
    "start_time": "2023-07-16T15:25:52.634Z"
   },
   {
    "duration": 6,
    "start_time": "2023-07-16T15:26:10.557Z"
   },
   {
    "duration": 64,
    "start_time": "2023-07-16T15:27:06.101Z"
   },
   {
    "duration": 75,
    "start_time": "2023-07-16T15:27:23.368Z"
   },
   {
    "duration": 11,
    "start_time": "2023-07-16T15:27:27.653Z"
   },
   {
    "duration": 51,
    "start_time": "2023-07-17T11:38:50.456Z"
   },
   {
    "duration": 1483,
    "start_time": "2023-07-17T11:38:56.015Z"
   },
   {
    "duration": 64,
    "start_time": "2023-07-17T11:38:57.501Z"
   },
   {
    "duration": 84,
    "start_time": "2023-07-17T11:38:57.568Z"
   },
   {
    "duration": 56,
    "start_time": "2023-07-17T11:38:57.655Z"
   },
   {
    "duration": 14,
    "start_time": "2023-07-17T11:38:57.712Z"
   },
   {
    "duration": 32,
    "start_time": "2023-07-17T11:38:57.728Z"
   },
   {
    "duration": 18,
    "start_time": "2023-07-17T11:38:57.762Z"
   },
   {
    "duration": 24,
    "start_time": "2023-07-17T11:38:57.782Z"
   },
   {
    "duration": 14,
    "start_time": "2023-07-17T11:38:57.808Z"
   },
   {
    "duration": 21,
    "start_time": "2023-07-17T11:38:57.826Z"
   },
   {
    "duration": 11,
    "start_time": "2023-07-17T11:38:57.848Z"
   },
   {
    "duration": 11,
    "start_time": "2023-07-17T11:38:57.861Z"
   },
   {
    "duration": 5,
    "start_time": "2023-07-17T11:38:57.874Z"
   },
   {
    "duration": 9,
    "start_time": "2023-07-17T11:38:57.880Z"
   },
   {
    "duration": 12,
    "start_time": "2023-07-17T11:38:57.890Z"
   },
   {
    "duration": 14,
    "start_time": "2023-07-17T11:38:57.904Z"
   },
   {
    "duration": 21,
    "start_time": "2023-07-17T11:38:57.919Z"
   },
   {
    "duration": 14,
    "start_time": "2023-07-17T11:38:57.942Z"
   },
   {
    "duration": 17,
    "start_time": "2023-07-17T11:38:57.959Z"
   },
   {
    "duration": 9,
    "start_time": "2023-07-17T11:38:57.978Z"
   },
   {
    "duration": 14,
    "start_time": "2023-07-17T11:38:57.989Z"
   },
   {
    "duration": 8,
    "start_time": "2023-07-17T11:38:58.009Z"
   },
   {
    "duration": 20,
    "start_time": "2023-07-17T11:38:58.019Z"
   },
   {
    "duration": 4,
    "start_time": "2023-07-17T11:38:58.041Z"
   },
   {
    "duration": 17,
    "start_time": "2023-07-17T11:38:58.047Z"
   },
   {
    "duration": 8,
    "start_time": "2023-07-17T11:38:58.066Z"
   },
   {
    "duration": 9,
    "start_time": "2023-07-17T11:38:58.076Z"
   },
   {
    "duration": 12,
    "start_time": "2023-07-17T11:38:58.111Z"
   },
   {
    "duration": 18,
    "start_time": "2023-07-17T11:38:58.125Z"
   },
   {
    "duration": 21,
    "start_time": "2023-07-17T11:38:58.145Z"
   },
   {
    "duration": 8,
    "start_time": "2023-07-17T11:38:58.168Z"
   },
   {
    "duration": 17,
    "start_time": "2023-07-17T11:38:58.177Z"
   },
   {
    "duration": 137,
    "start_time": "2023-07-17T11:38:58.195Z"
   },
   {
    "duration": 14,
    "start_time": "2023-07-17T11:38:58.334Z"
   },
   {
    "duration": 13,
    "start_time": "2023-07-17T11:38:58.350Z"
   },
   {
    "duration": 37,
    "start_time": "2023-07-17T11:38:58.364Z"
   },
   {
    "duration": 17,
    "start_time": "2023-07-17T11:38:58.403Z"
   },
   {
    "duration": 34,
    "start_time": "2023-07-17T11:38:58.422Z"
   },
   {
    "duration": 221,
    "start_time": "2023-07-17T11:38:58.458Z"
   },
   {
    "duration": 135,
    "start_time": "2023-07-17T11:38:58.682Z"
   },
   {
    "duration": 6,
    "start_time": "2023-07-17T11:38:58.819Z"
   },
   {
    "duration": 191,
    "start_time": "2023-07-17T11:38:58.826Z"
   },
   {
    "duration": 136,
    "start_time": "2023-07-17T11:38:59.019Z"
   },
   {
    "duration": 7,
    "start_time": "2023-07-17T11:38:59.157Z"
   },
   {
    "duration": 22,
    "start_time": "2023-07-17T11:38:59.165Z"
   },
   {
    "duration": 17,
    "start_time": "2023-07-17T11:38:59.189Z"
   },
   {
    "duration": 389,
    "start_time": "2023-07-17T11:38:59.208Z"
   },
   {
    "duration": 260,
    "start_time": "2023-07-17T11:38:59.599Z"
   },
   {
    "duration": 7,
    "start_time": "2023-07-17T11:38:59.861Z"
   },
   {
    "duration": 411,
    "start_time": "2023-07-17T11:38:59.869Z"
   },
   {
    "duration": 5,
    "start_time": "2023-07-17T11:39:00.282Z"
   },
   {
    "duration": 63,
    "start_time": "2023-07-17T11:39:00.289Z"
   },
   {
    "duration": 42,
    "start_time": "2023-07-17T11:39:00.354Z"
   },
   {
    "duration": 298,
    "start_time": "2023-07-17T11:39:00.398Z"
   },
   {
    "duration": 12,
    "start_time": "2023-07-17T11:39:00.698Z"
   },
   {
    "duration": 363,
    "start_time": "2023-07-17T11:39:00.712Z"
   },
   {
    "duration": 12,
    "start_time": "2023-07-17T11:39:01.078Z"
   },
   {
    "duration": 0,
    "start_time": "2023-07-17T11:39:01.092Z"
   },
   {
    "duration": 0,
    "start_time": "2023-07-17T11:39:01.109Z"
   },
   {
    "duration": 0,
    "start_time": "2023-07-17T11:39:01.110Z"
   },
   {
    "duration": 0,
    "start_time": "2023-07-17T11:39:01.111Z"
   },
   {
    "duration": 0,
    "start_time": "2023-07-17T11:39:01.113Z"
   },
   {
    "duration": 0,
    "start_time": "2023-07-17T11:39:01.113Z"
   },
   {
    "duration": 0,
    "start_time": "2023-07-17T11:39:01.115Z"
   },
   {
    "duration": 0,
    "start_time": "2023-07-17T11:39:01.116Z"
   },
   {
    "duration": 0,
    "start_time": "2023-07-17T11:39:01.117Z"
   },
   {
    "duration": 0,
    "start_time": "2023-07-17T11:39:01.118Z"
   },
   {
    "duration": 0,
    "start_time": "2023-07-17T11:39:01.119Z"
   },
   {
    "duration": 0,
    "start_time": "2023-07-17T11:39:01.121Z"
   },
   {
    "duration": 0,
    "start_time": "2023-07-17T11:39:01.122Z"
   },
   {
    "duration": 0,
    "start_time": "2023-07-17T11:39:01.123Z"
   },
   {
    "duration": 0,
    "start_time": "2023-07-17T11:39:01.125Z"
   },
   {
    "duration": 0,
    "start_time": "2023-07-17T11:39:01.126Z"
   },
   {
    "duration": 0,
    "start_time": "2023-07-17T11:39:01.127Z"
   },
   {
    "duration": 0,
    "start_time": "2023-07-17T11:39:01.128Z"
   },
   {
    "duration": 0,
    "start_time": "2023-07-17T11:39:01.129Z"
   },
   {
    "duration": 0,
    "start_time": "2023-07-17T11:39:01.131Z"
   },
   {
    "duration": 0,
    "start_time": "2023-07-17T11:39:01.132Z"
   },
   {
    "duration": 0,
    "start_time": "2023-07-17T11:39:01.133Z"
   },
   {
    "duration": 0,
    "start_time": "2023-07-17T11:39:01.134Z"
   },
   {
    "duration": 0,
    "start_time": "2023-07-17T11:39:01.135Z"
   },
   {
    "duration": 0,
    "start_time": "2023-07-17T11:39:01.136Z"
   },
   {
    "duration": 0,
    "start_time": "2023-07-17T11:39:01.138Z"
   },
   {
    "duration": 0,
    "start_time": "2023-07-17T11:39:01.139Z"
   },
   {
    "duration": 0,
    "start_time": "2023-07-17T11:39:01.140Z"
   },
   {
    "duration": 0,
    "start_time": "2023-07-17T11:39:01.141Z"
   },
   {
    "duration": 0,
    "start_time": "2023-07-17T11:39:01.142Z"
   },
   {
    "duration": 0,
    "start_time": "2023-07-17T11:39:01.143Z"
   },
   {
    "duration": 0,
    "start_time": "2023-07-17T11:39:01.144Z"
   },
   {
    "duration": 0,
    "start_time": "2023-07-17T11:39:01.209Z"
   },
   {
    "duration": 0,
    "start_time": "2023-07-17T11:39:01.210Z"
   },
   {
    "duration": 0,
    "start_time": "2023-07-17T11:39:01.212Z"
   },
   {
    "duration": 0,
    "start_time": "2023-07-17T11:39:01.213Z"
   },
   {
    "duration": 11,
    "start_time": "2023-07-17T11:44:25.963Z"
   },
   {
    "duration": 4,
    "start_time": "2023-07-17T11:44:26.548Z"
   },
   {
    "duration": 5,
    "start_time": "2023-07-17T11:44:27.123Z"
   },
   {
    "duration": 139,
    "start_time": "2023-07-17T11:44:28.175Z"
   },
   {
    "duration": 8,
    "start_time": "2023-07-17T11:44:30.355Z"
   },
   {
    "duration": 257,
    "start_time": "2023-07-17T11:44:31.856Z"
   },
   {
    "duration": 5,
    "start_time": "2023-07-17T11:44:33.776Z"
   },
   {
    "duration": 4,
    "start_time": "2023-07-17T11:44:44.555Z"
   },
   {
    "duration": 148,
    "start_time": "2023-07-17T11:44:46.152Z"
   },
   {
    "duration": 1223,
    "start_time": "2023-07-17T11:44:52.560Z"
   },
   {
    "duration": 29,
    "start_time": "2023-07-17T11:44:53.785Z"
   },
   {
    "duration": 54,
    "start_time": "2023-07-17T11:44:53.816Z"
   },
   {
    "duration": 17,
    "start_time": "2023-07-17T11:44:53.872Z"
   },
   {
    "duration": 19,
    "start_time": "2023-07-17T11:44:53.893Z"
   },
   {
    "duration": 29,
    "start_time": "2023-07-17T11:44:53.914Z"
   },
   {
    "duration": 65,
    "start_time": "2023-07-17T11:44:53.945Z"
   },
   {
    "duration": 47,
    "start_time": "2023-07-17T11:44:54.011Z"
   },
   {
    "duration": 39,
    "start_time": "2023-07-17T11:44:54.060Z"
   },
   {
    "duration": 20,
    "start_time": "2023-07-17T11:44:54.102Z"
   },
   {
    "duration": 22,
    "start_time": "2023-07-17T11:44:54.124Z"
   },
   {
    "duration": 18,
    "start_time": "2023-07-17T11:44:54.148Z"
   },
   {
    "duration": 36,
    "start_time": "2023-07-17T11:44:54.168Z"
   },
   {
    "duration": 29,
    "start_time": "2023-07-17T11:44:54.208Z"
   },
   {
    "duration": 30,
    "start_time": "2023-07-17T11:44:54.239Z"
   },
   {
    "duration": 25,
    "start_time": "2023-07-17T11:44:54.271Z"
   },
   {
    "duration": 24,
    "start_time": "2023-07-17T11:44:54.298Z"
   },
   {
    "duration": 23,
    "start_time": "2023-07-17T11:44:54.324Z"
   },
   {
    "duration": 25,
    "start_time": "2023-07-17T11:44:54.350Z"
   },
   {
    "duration": 18,
    "start_time": "2023-07-17T11:44:54.377Z"
   },
   {
    "duration": 14,
    "start_time": "2023-07-17T11:44:54.397Z"
   },
   {
    "duration": 16,
    "start_time": "2023-07-17T11:44:54.413Z"
   },
   {
    "duration": 39,
    "start_time": "2023-07-17T11:44:54.431Z"
   },
   {
    "duration": 31,
    "start_time": "2023-07-17T11:44:54.472Z"
   },
   {
    "duration": 24,
    "start_time": "2023-07-17T11:44:54.505Z"
   },
   {
    "duration": 38,
    "start_time": "2023-07-17T11:44:54.531Z"
   },
   {
    "duration": 45,
    "start_time": "2023-07-17T11:44:54.571Z"
   },
   {
    "duration": 28,
    "start_time": "2023-07-17T11:44:54.617Z"
   },
   {
    "duration": 23,
    "start_time": "2023-07-17T11:44:54.647Z"
   },
   {
    "duration": 17,
    "start_time": "2023-07-17T11:44:54.672Z"
   },
   {
    "duration": 18,
    "start_time": "2023-07-17T11:44:54.691Z"
   },
   {
    "duration": 20,
    "start_time": "2023-07-17T11:44:54.710Z"
   },
   {
    "duration": 143,
    "start_time": "2023-07-17T11:44:54.732Z"
   },
   {
    "duration": 14,
    "start_time": "2023-07-17T11:44:54.877Z"
   },
   {
    "duration": 25,
    "start_time": "2023-07-17T11:44:54.893Z"
   },
   {
    "duration": 24,
    "start_time": "2023-07-17T11:44:54.920Z"
   },
   {
    "duration": 23,
    "start_time": "2023-07-17T11:44:54.946Z"
   },
   {
    "duration": 20,
    "start_time": "2023-07-17T11:44:54.971Z"
   },
   {
    "duration": 193,
    "start_time": "2023-07-17T11:44:54.993Z"
   },
   {
    "duration": 144,
    "start_time": "2023-07-17T11:44:55.188Z"
   },
   {
    "duration": 6,
    "start_time": "2023-07-17T11:44:55.337Z"
   },
   {
    "duration": 234,
    "start_time": "2023-07-17T11:44:55.344Z"
   },
   {
    "duration": 140,
    "start_time": "2023-07-17T11:44:55.581Z"
   },
   {
    "duration": 8,
    "start_time": "2023-07-17T11:44:55.722Z"
   },
   {
    "duration": 86,
    "start_time": "2023-07-17T11:44:55.732Z"
   },
   {
    "duration": 25,
    "start_time": "2023-07-17T11:44:55.820Z"
   },
   {
    "duration": 450,
    "start_time": "2023-07-17T11:44:55.847Z"
   },
   {
    "duration": 261,
    "start_time": "2023-07-17T11:44:56.299Z"
   },
   {
    "duration": 6,
    "start_time": "2023-07-17T11:44:56.562Z"
   },
   {
    "duration": 353,
    "start_time": "2023-07-17T11:44:56.570Z"
   },
   {
    "duration": 4,
    "start_time": "2023-07-17T11:44:56.925Z"
   },
   {
    "duration": 41,
    "start_time": "2023-07-17T11:44:56.930Z"
   },
   {
    "duration": 27,
    "start_time": "2023-07-17T11:44:56.973Z"
   },
   {
    "duration": 244,
    "start_time": "2023-07-17T11:44:57.002Z"
   },
   {
    "duration": 9,
    "start_time": "2023-07-17T11:44:57.248Z"
   },
   {
    "duration": 375,
    "start_time": "2023-07-17T11:44:57.259Z"
   },
   {
    "duration": 7,
    "start_time": "2023-07-17T11:44:57.637Z"
   },
   {
    "duration": 30,
    "start_time": "2023-07-17T11:44:57.646Z"
   },
   {
    "duration": 25,
    "start_time": "2023-07-17T11:44:57.678Z"
   },
   {
    "duration": 160,
    "start_time": "2023-07-17T11:44:57.705Z"
   },
   {
    "duration": 5,
    "start_time": "2023-07-17T11:44:57.867Z"
   },
   {
    "duration": 35,
    "start_time": "2023-07-17T11:44:57.874Z"
   },
   {
    "duration": 261,
    "start_time": "2023-07-17T11:44:57.911Z"
   },
   {
    "duration": 5,
    "start_time": "2023-07-17T11:44:58.174Z"
   },
   {
    "duration": 41,
    "start_time": "2023-07-17T11:44:58.183Z"
   },
   {
    "duration": 42,
    "start_time": "2023-07-17T11:44:58.226Z"
   },
   {
    "duration": 64,
    "start_time": "2023-07-17T11:44:58.270Z"
   },
   {
    "duration": 46,
    "start_time": "2023-07-17T11:44:58.336Z"
   },
   {
    "duration": 79,
    "start_time": "2023-07-17T11:44:58.384Z"
   },
   {
    "duration": 36,
    "start_time": "2023-07-17T11:44:58.465Z"
   },
   {
    "duration": 107,
    "start_time": "2023-07-17T11:44:58.503Z"
   },
   {
    "duration": 70,
    "start_time": "2023-07-17T11:44:58.612Z"
   },
   {
    "duration": 65,
    "start_time": "2023-07-17T11:44:58.684Z"
   },
   {
    "duration": 41,
    "start_time": "2023-07-17T11:44:58.751Z"
   },
   {
    "duration": 80,
    "start_time": "2023-07-17T11:44:58.794Z"
   },
   {
    "duration": 98,
    "start_time": "2023-07-17T11:44:58.877Z"
   },
   {
    "duration": 6,
    "start_time": "2023-07-17T11:44:58.977Z"
   },
   {
    "duration": 23,
    "start_time": "2023-07-17T11:44:58.985Z"
   },
   {
    "duration": 40,
    "start_time": "2023-07-17T11:44:59.010Z"
   },
   {
    "duration": 33,
    "start_time": "2023-07-17T11:44:59.053Z"
   },
   {
    "duration": 6,
    "start_time": "2023-07-17T11:44:59.088Z"
   },
   {
    "duration": 31,
    "start_time": "2023-07-17T11:44:59.096Z"
   },
   {
    "duration": 40,
    "start_time": "2023-07-17T11:44:59.129Z"
   },
   {
    "duration": 89,
    "start_time": "2023-07-17T11:44:59.172Z"
   },
   {
    "duration": 48,
    "start_time": "2023-07-17T11:44:59.263Z"
   },
   {
    "duration": 28,
    "start_time": "2023-07-17T11:44:59.314Z"
   },
   {
    "duration": 8,
    "start_time": "2023-07-17T11:44:59.344Z"
   },
   {
    "duration": 25,
    "start_time": "2023-07-17T11:44:59.354Z"
   },
   {
    "duration": 14,
    "start_time": "2023-07-17T11:44:59.381Z"
   },
   {
    "duration": 44,
    "start_time": "2023-07-17T11:44:59.397Z"
   },
   {
    "duration": 6,
    "start_time": "2023-07-17T11:44:59.443Z"
   },
   {
    "duration": 24,
    "start_time": "2023-07-17T11:44:59.451Z"
   },
   {
    "duration": 12,
    "start_time": "2023-07-17T11:44:59.477Z"
   },
   {
    "duration": 11,
    "start_time": "2023-07-17T11:46:35.344Z"
   },
   {
    "duration": 8,
    "start_time": "2023-07-17T11:47:53.963Z"
   },
   {
    "duration": 4,
    "start_time": "2023-07-17T11:47:55.507Z"
   },
   {
    "duration": 4,
    "start_time": "2023-07-17T11:47:56.587Z"
   },
   {
    "duration": 138,
    "start_time": "2023-07-17T11:47:58.052Z"
   },
   {
    "duration": 8,
    "start_time": "2023-07-17T11:55:03.203Z"
   },
   {
    "duration": 6,
    "start_time": "2023-07-17T11:55:03.657Z"
   },
   {
    "duration": 5,
    "start_time": "2023-07-17T11:55:04.491Z"
   },
   {
    "duration": 27,
    "start_time": "2023-07-17T11:55:04.971Z"
   },
   {
    "duration": 19,
    "start_time": "2023-07-17T11:55:05.419Z"
   },
   {
    "duration": 24,
    "start_time": "2023-07-17T11:55:17.222Z"
   },
   {
    "duration": 1369,
    "start_time": "2023-07-17T11:55:22.706Z"
   },
   {
    "duration": 30,
    "start_time": "2023-07-17T11:55:24.077Z"
   },
   {
    "duration": 40,
    "start_time": "2023-07-17T11:55:24.108Z"
   },
   {
    "duration": 17,
    "start_time": "2023-07-17T11:55:24.150Z"
   },
   {
    "duration": 28,
    "start_time": "2023-07-17T11:55:24.169Z"
   },
   {
    "duration": 28,
    "start_time": "2023-07-17T11:55:24.199Z"
   },
   {
    "duration": 42,
    "start_time": "2023-07-17T11:55:24.229Z"
   },
   {
    "duration": 25,
    "start_time": "2023-07-17T11:55:24.272Z"
   },
   {
    "duration": 44,
    "start_time": "2023-07-17T11:55:24.299Z"
   },
   {
    "duration": 36,
    "start_time": "2023-07-17T11:55:24.347Z"
   },
   {
    "duration": 31,
    "start_time": "2023-07-17T11:55:24.385Z"
   },
   {
    "duration": 21,
    "start_time": "2023-07-17T11:55:24.418Z"
   },
   {
    "duration": 27,
    "start_time": "2023-07-17T11:55:24.440Z"
   },
   {
    "duration": 47,
    "start_time": "2023-07-17T11:55:24.469Z"
   },
   {
    "duration": 44,
    "start_time": "2023-07-17T11:55:24.518Z"
   },
   {
    "duration": 52,
    "start_time": "2023-07-17T11:55:24.563Z"
   },
   {
    "duration": 35,
    "start_time": "2023-07-17T11:55:24.617Z"
   },
   {
    "duration": 39,
    "start_time": "2023-07-17T11:55:24.654Z"
   },
   {
    "duration": 31,
    "start_time": "2023-07-17T11:55:24.694Z"
   },
   {
    "duration": 27,
    "start_time": "2023-07-17T11:55:24.726Z"
   },
   {
    "duration": 20,
    "start_time": "2023-07-17T11:55:24.755Z"
   },
   {
    "duration": 33,
    "start_time": "2023-07-17T11:55:24.777Z"
   },
   {
    "duration": 26,
    "start_time": "2023-07-17T11:55:24.812Z"
   },
   {
    "duration": 29,
    "start_time": "2023-07-17T11:55:24.840Z"
   },
   {
    "duration": 142,
    "start_time": "2023-07-17T11:55:24.871Z"
   },
   {
    "duration": 15,
    "start_time": "2023-07-17T11:55:25.014Z"
   },
   {
    "duration": 9,
    "start_time": "2023-07-17T11:55:25.031Z"
   },
   {
    "duration": 7,
    "start_time": "2023-07-17T11:55:25.044Z"
   },
   {
    "duration": 13,
    "start_time": "2023-07-17T11:55:25.052Z"
   },
   {
    "duration": 21,
    "start_time": "2023-07-17T11:55:25.066Z"
   },
   {
    "duration": 21,
    "start_time": "2023-07-17T11:55:25.088Z"
   },
   {
    "duration": 7,
    "start_time": "2023-07-17T11:55:25.111Z"
   },
   {
    "duration": 18,
    "start_time": "2023-07-17T11:55:25.119Z"
   },
   {
    "duration": 9,
    "start_time": "2023-07-17T11:55:25.139Z"
   },
   {
    "duration": 190,
    "start_time": "2023-07-17T11:55:25.150Z"
   },
   {
    "duration": 133,
    "start_time": "2023-07-17T11:55:25.342Z"
   },
   {
    "duration": 6,
    "start_time": "2023-07-17T11:55:25.477Z"
   },
   {
    "duration": 184,
    "start_time": "2023-07-17T11:55:25.485Z"
   },
   {
    "duration": 141,
    "start_time": "2023-07-17T11:55:25.671Z"
   },
   {
    "duration": 7,
    "start_time": "2023-07-17T11:55:25.814Z"
   },
   {
    "duration": 15,
    "start_time": "2023-07-17T11:55:25.822Z"
   },
   {
    "duration": 15,
    "start_time": "2023-07-17T11:55:25.839Z"
   },
   {
    "duration": 403,
    "start_time": "2023-07-17T11:55:25.856Z"
   },
   {
    "duration": 259,
    "start_time": "2023-07-17T11:55:26.261Z"
   },
   {
    "duration": 6,
    "start_time": "2023-07-17T11:55:26.522Z"
   },
   {
    "duration": 312,
    "start_time": "2023-07-17T11:55:26.530Z"
   },
   {
    "duration": 5,
    "start_time": "2023-07-17T11:55:26.844Z"
   },
   {
    "duration": 26,
    "start_time": "2023-07-17T11:55:26.850Z"
   },
   {
    "duration": 15,
    "start_time": "2023-07-17T11:55:26.878Z"
   },
   {
    "duration": 251,
    "start_time": "2023-07-17T11:55:26.895Z"
   },
   {
    "duration": 8,
    "start_time": "2023-07-17T11:55:27.148Z"
   },
   {
    "duration": 356,
    "start_time": "2023-07-17T11:55:27.158Z"
   },
   {
    "duration": 7,
    "start_time": "2023-07-17T11:55:27.516Z"
   },
   {
    "duration": 26,
    "start_time": "2023-07-17T11:55:27.525Z"
   },
   {
    "duration": 22,
    "start_time": "2023-07-17T11:55:27.553Z"
   },
   {
    "duration": 159,
    "start_time": "2023-07-17T11:55:27.576Z"
   },
   {
    "duration": 6,
    "start_time": "2023-07-17T11:55:27.737Z"
   },
   {
    "duration": 9,
    "start_time": "2023-07-17T11:55:27.745Z"
   },
   {
    "duration": 258,
    "start_time": "2023-07-17T11:55:27.756Z"
   },
   {
    "duration": 6,
    "start_time": "2023-07-17T11:55:28.015Z"
   },
   {
    "duration": 14,
    "start_time": "2023-07-17T11:55:28.023Z"
   },
   {
    "duration": 55,
    "start_time": "2023-07-17T11:55:28.039Z"
   },
   {
    "duration": 21,
    "start_time": "2023-07-17T11:55:28.097Z"
   },
   {
    "duration": 52,
    "start_time": "2023-07-17T11:55:28.120Z"
   },
   {
    "duration": 31,
    "start_time": "2023-07-17T11:55:28.174Z"
   },
   {
    "duration": 68,
    "start_time": "2023-07-17T11:55:28.207Z"
   },
   {
    "duration": 23,
    "start_time": "2023-07-17T11:55:28.277Z"
   },
   {
    "duration": 54,
    "start_time": "2023-07-17T11:55:28.302Z"
   },
   {
    "duration": 51,
    "start_time": "2023-07-17T11:55:28.358Z"
   },
   {
    "duration": 62,
    "start_time": "2023-07-17T11:55:28.411Z"
   },
   {
    "duration": 92,
    "start_time": "2023-07-17T11:55:28.475Z"
   },
   {
    "duration": 7,
    "start_time": "2023-07-17T11:55:28.569Z"
   },
   {
    "duration": 24,
    "start_time": "2023-07-17T11:55:28.578Z"
   },
   {
    "duration": 59,
    "start_time": "2023-07-17T11:55:28.608Z"
   },
   {
    "duration": 9,
    "start_time": "2023-07-17T11:55:28.669Z"
   },
   {
    "duration": 29,
    "start_time": "2023-07-17T11:55:28.679Z"
   },
   {
    "duration": 36,
    "start_time": "2023-07-17T11:55:28.710Z"
   },
   {
    "duration": 27,
    "start_time": "2023-07-17T11:55:28.749Z"
   },
   {
    "duration": 24,
    "start_time": "2023-07-17T11:55:28.778Z"
   },
   {
    "duration": 29,
    "start_time": "2023-07-17T11:55:28.804Z"
   },
   {
    "duration": 18,
    "start_time": "2023-07-17T11:55:28.835Z"
   },
   {
    "duration": 24,
    "start_time": "2023-07-17T11:55:28.859Z"
   },
   {
    "duration": 41,
    "start_time": "2023-07-17T11:55:28.885Z"
   },
   {
    "duration": 54,
    "start_time": "2023-07-17T11:55:28.928Z"
   },
   {
    "duration": 19,
    "start_time": "2023-07-17T11:55:28.984Z"
   },
   {
    "duration": 23,
    "start_time": "2023-07-17T11:55:29.005Z"
   },
   {
    "duration": 47,
    "start_time": "2023-07-17T11:55:29.030Z"
   },
   {
    "duration": 277,
    "start_time": "2023-07-17T12:06:53.069Z"
   },
   {
    "duration": 271,
    "start_time": "2023-07-17T12:07:00.623Z"
   },
   {
    "duration": 7,
    "start_time": "2023-07-17T12:10:09.563Z"
   },
   {
    "duration": 296,
    "start_time": "2023-07-17T12:10:10.770Z"
   },
   {
    "duration": 356,
    "start_time": "2023-07-17T12:13:03.783Z"
   },
   {
    "duration": 11,
    "start_time": "2023-07-17T12:14:11.007Z"
   },
   {
    "duration": 11,
    "start_time": "2023-07-17T12:14:25.563Z"
   },
   {
    "duration": 371,
    "start_time": "2023-07-17T12:16:49.198Z"
   },
   {
    "duration": 335,
    "start_time": "2023-07-17T12:16:55.753Z"
   },
   {
    "duration": 17,
    "start_time": "2023-07-17T12:17:18.386Z"
   },
   {
    "duration": 101,
    "start_time": "2023-07-17T12:17:37.273Z"
   },
   {
    "duration": 16,
    "start_time": "2023-07-17T12:17:50.970Z"
   },
   {
    "duration": 14,
    "start_time": "2023-07-17T12:18:14.949Z"
   },
   {
    "duration": 17,
    "start_time": "2023-07-17T12:18:21.288Z"
   },
   {
    "duration": 11,
    "start_time": "2023-07-17T12:19:03.593Z"
   },
   {
    "duration": 12,
    "start_time": "2023-07-17T12:19:07.409Z"
   },
   {
    "duration": 10,
    "start_time": "2023-07-17T12:24:26.604Z"
   },
   {
    "duration": 15,
    "start_time": "2023-07-17T12:25:30.085Z"
   },
   {
    "duration": 311,
    "start_time": "2023-07-17T12:32:38.448Z"
   },
   {
    "duration": 394,
    "start_time": "2023-07-17T12:36:16.210Z"
   },
   {
    "duration": 148,
    "start_time": "2023-07-17T12:45:44.865Z"
   },
   {
    "duration": 158,
    "start_time": "2023-07-17T12:46:07.656Z"
   },
   {
    "duration": 277,
    "start_time": "2023-07-17T12:46:36.364Z"
   },
   {
    "duration": 154,
    "start_time": "2023-07-17T12:46:41.847Z"
   },
   {
    "duration": 165,
    "start_time": "2023-07-17T12:46:49.778Z"
   },
   {
    "duration": 161,
    "start_time": "2023-07-17T13:27:23.292Z"
   },
   {
    "duration": 21,
    "start_time": "2023-07-17T13:32:15.951Z"
   },
   {
    "duration": 2328,
    "start_time": "2023-07-17T13:32:25.744Z"
   },
   {
    "duration": 12,
    "start_time": "2023-07-17T13:32:42.619Z"
   },
   {
    "duration": 15,
    "start_time": "2023-07-17T13:53:06.891Z"
   },
   {
    "duration": 12,
    "start_time": "2023-07-17T13:53:12.248Z"
   },
   {
    "duration": 178,
    "start_time": "2023-07-17T13:53:19.967Z"
   },
   {
    "duration": 1518,
    "start_time": "2023-07-17T13:53:24.617Z"
   },
   {
    "duration": 72,
    "start_time": "2023-07-17T13:53:26.138Z"
   },
   {
    "duration": 42,
    "start_time": "2023-07-17T13:53:26.215Z"
   },
   {
    "duration": 50,
    "start_time": "2023-07-17T13:53:26.259Z"
   },
   {
    "duration": 14,
    "start_time": "2023-07-17T13:53:26.311Z"
   },
   {
    "duration": 24,
    "start_time": "2023-07-17T13:53:26.327Z"
   },
   {
    "duration": 65,
    "start_time": "2023-07-17T13:53:26.353Z"
   },
   {
    "duration": 15,
    "start_time": "2023-07-17T13:53:26.420Z"
   },
   {
    "duration": 14,
    "start_time": "2023-07-17T13:53:26.437Z"
   },
   {
    "duration": 61,
    "start_time": "2023-07-17T13:53:26.452Z"
   },
   {
    "duration": 12,
    "start_time": "2023-07-17T13:53:26.515Z"
   },
   {
    "duration": 13,
    "start_time": "2023-07-17T13:53:26.529Z"
   },
   {
    "duration": 7,
    "start_time": "2023-07-17T13:53:26.544Z"
   },
   {
    "duration": 57,
    "start_time": "2023-07-17T13:53:26.553Z"
   },
   {
    "duration": 15,
    "start_time": "2023-07-17T13:53:26.612Z"
   },
   {
    "duration": 24,
    "start_time": "2023-07-17T13:53:26.629Z"
   },
   {
    "duration": 9,
    "start_time": "2023-07-17T13:53:26.655Z"
   },
   {
    "duration": 11,
    "start_time": "2023-07-17T13:53:26.709Z"
   },
   {
    "duration": 9,
    "start_time": "2023-07-17T13:53:26.722Z"
   },
   {
    "duration": 12,
    "start_time": "2023-07-17T13:53:26.732Z"
   },
   {
    "duration": 9,
    "start_time": "2023-07-17T13:53:26.746Z"
   },
   {
    "duration": 54,
    "start_time": "2023-07-17T13:53:26.756Z"
   },
   {
    "duration": 7,
    "start_time": "2023-07-17T13:53:26.812Z"
   },
   {
    "duration": 6,
    "start_time": "2023-07-17T13:53:26.821Z"
   },
   {
    "duration": 285,
    "start_time": "2023-07-17T13:53:26.829Z"
   },
   {
    "duration": 15,
    "start_time": "2023-07-17T13:53:27.116Z"
   },
   {
    "duration": 9,
    "start_time": "2023-07-17T13:53:27.136Z"
   },
   {
    "duration": 63,
    "start_time": "2023-07-17T13:53:27.146Z"
   },
   {
    "duration": 5,
    "start_time": "2023-07-17T13:53:27.210Z"
   },
   {
    "duration": 15,
    "start_time": "2023-07-17T13:53:27.216Z"
   },
   {
    "duration": 8,
    "start_time": "2023-07-17T13:53:27.232Z"
   },
   {
    "duration": 8,
    "start_time": "2023-07-17T13:53:27.242Z"
   },
   {
    "duration": 59,
    "start_time": "2023-07-17T13:53:27.251Z"
   },
   {
    "duration": 15,
    "start_time": "2023-07-17T13:53:27.312Z"
   },
   {
    "duration": 24,
    "start_time": "2023-07-17T13:53:27.329Z"
   },
   {
    "duration": 217,
    "start_time": "2023-07-17T13:53:27.354Z"
   },
   {
    "duration": 0,
    "start_time": "2023-07-17T13:53:27.573Z"
   },
   {
    "duration": 0,
    "start_time": "2023-07-17T13:53:27.574Z"
   },
   {
    "duration": 0,
    "start_time": "2023-07-17T13:53:27.575Z"
   },
   {
    "duration": 0,
    "start_time": "2023-07-17T13:53:27.577Z"
   },
   {
    "duration": 0,
    "start_time": "2023-07-17T13:53:27.579Z"
   },
   {
    "duration": 0,
    "start_time": "2023-07-17T13:53:27.580Z"
   },
   {
    "duration": 0,
    "start_time": "2023-07-17T13:53:27.581Z"
   },
   {
    "duration": 0,
    "start_time": "2023-07-17T13:53:27.582Z"
   },
   {
    "duration": 0,
    "start_time": "2023-07-17T13:53:27.609Z"
   },
   {
    "duration": 0,
    "start_time": "2023-07-17T13:53:27.611Z"
   },
   {
    "duration": 0,
    "start_time": "2023-07-17T13:53:27.612Z"
   },
   {
    "duration": 1,
    "start_time": "2023-07-17T13:53:27.613Z"
   },
   {
    "duration": 0,
    "start_time": "2023-07-17T13:53:27.615Z"
   },
   {
    "duration": 0,
    "start_time": "2023-07-17T13:53:27.615Z"
   },
   {
    "duration": 0,
    "start_time": "2023-07-17T13:53:27.619Z"
   },
   {
    "duration": 0,
    "start_time": "2023-07-17T13:53:27.620Z"
   },
   {
    "duration": 0,
    "start_time": "2023-07-17T13:53:27.621Z"
   },
   {
    "duration": 0,
    "start_time": "2023-07-17T13:53:27.622Z"
   },
   {
    "duration": 0,
    "start_time": "2023-07-17T13:53:27.624Z"
   },
   {
    "duration": 0,
    "start_time": "2023-07-17T13:53:27.625Z"
   },
   {
    "duration": 0,
    "start_time": "2023-07-17T13:53:27.626Z"
   },
   {
    "duration": 0,
    "start_time": "2023-07-17T13:53:27.627Z"
   },
   {
    "duration": 0,
    "start_time": "2023-07-17T13:53:27.627Z"
   },
   {
    "duration": 0,
    "start_time": "2023-07-17T13:53:27.628Z"
   },
   {
    "duration": 0,
    "start_time": "2023-07-17T13:53:27.630Z"
   },
   {
    "duration": 0,
    "start_time": "2023-07-17T13:53:27.631Z"
   },
   {
    "duration": 0,
    "start_time": "2023-07-17T13:53:27.632Z"
   },
   {
    "duration": 0,
    "start_time": "2023-07-17T13:53:27.633Z"
   },
   {
    "duration": 0,
    "start_time": "2023-07-17T13:53:27.634Z"
   },
   {
    "duration": 0,
    "start_time": "2023-07-17T13:53:27.635Z"
   },
   {
    "duration": 0,
    "start_time": "2023-07-17T13:53:27.637Z"
   },
   {
    "duration": 0,
    "start_time": "2023-07-17T13:53:27.638Z"
   },
   {
    "duration": 0,
    "start_time": "2023-07-17T13:53:27.639Z"
   },
   {
    "duration": 0,
    "start_time": "2023-07-17T13:53:27.640Z"
   },
   {
    "duration": 0,
    "start_time": "2023-07-17T13:53:27.641Z"
   },
   {
    "duration": 0,
    "start_time": "2023-07-17T13:53:27.642Z"
   },
   {
    "duration": 0,
    "start_time": "2023-07-17T13:53:27.644Z"
   },
   {
    "duration": 0,
    "start_time": "2023-07-17T13:53:27.644Z"
   },
   {
    "duration": 0,
    "start_time": "2023-07-17T13:53:27.646Z"
   },
   {
    "duration": 0,
    "start_time": "2023-07-17T13:53:27.709Z"
   },
   {
    "duration": 0,
    "start_time": "2023-07-17T13:53:27.710Z"
   },
   {
    "duration": 0,
    "start_time": "2023-07-17T13:53:27.711Z"
   },
   {
    "duration": 0,
    "start_time": "2023-07-17T13:53:27.712Z"
   },
   {
    "duration": 0,
    "start_time": "2023-07-17T13:53:27.714Z"
   },
   {
    "duration": 0,
    "start_time": "2023-07-17T13:53:27.715Z"
   },
   {
    "duration": 0,
    "start_time": "2023-07-17T13:53:27.716Z"
   },
   {
    "duration": 0,
    "start_time": "2023-07-17T13:53:27.717Z"
   },
   {
    "duration": 0,
    "start_time": "2023-07-17T13:53:27.718Z"
   },
   {
    "duration": 0,
    "start_time": "2023-07-17T13:53:27.719Z"
   },
   {
    "duration": 0,
    "start_time": "2023-07-17T13:53:27.720Z"
   },
   {
    "duration": 0,
    "start_time": "2023-07-17T13:53:27.721Z"
   },
   {
    "duration": 0,
    "start_time": "2023-07-17T13:53:27.722Z"
   },
   {
    "duration": 0,
    "start_time": "2023-07-17T13:53:27.723Z"
   },
   {
    "duration": 0,
    "start_time": "2023-07-17T13:53:27.725Z"
   },
   {
    "duration": 0,
    "start_time": "2023-07-17T13:53:27.726Z"
   },
   {
    "duration": 0,
    "start_time": "2023-07-17T13:53:27.727Z"
   },
   {
    "duration": 0,
    "start_time": "2023-07-17T13:53:27.728Z"
   },
   {
    "duration": 0,
    "start_time": "2023-07-17T13:53:27.729Z"
   },
   {
    "duration": 11,
    "start_time": "2023-07-17T13:54:53.051Z"
   },
   {
    "duration": 8,
    "start_time": "2023-07-17T13:55:13.852Z"
   },
   {
    "duration": 6,
    "start_time": "2023-07-17T13:55:23.552Z"
   },
   {
    "duration": 6,
    "start_time": "2023-07-17T13:55:45.100Z"
   },
   {
    "duration": 1296,
    "start_time": "2023-07-17T14:23:09.844Z"
   },
   {
    "duration": 29,
    "start_time": "2023-07-17T14:23:11.143Z"
   },
   {
    "duration": 39,
    "start_time": "2023-07-17T14:23:11.174Z"
   },
   {
    "duration": 17,
    "start_time": "2023-07-17T14:23:11.215Z"
   },
   {
    "duration": 38,
    "start_time": "2023-07-17T14:23:11.234Z"
   },
   {
    "duration": 43,
    "start_time": "2023-07-17T14:23:11.274Z"
   },
   {
    "duration": 41,
    "start_time": "2023-07-17T14:23:11.319Z"
   },
   {
    "duration": 37,
    "start_time": "2023-07-17T14:23:11.362Z"
   },
   {
    "duration": 30,
    "start_time": "2023-07-17T14:23:11.400Z"
   },
   {
    "duration": 35,
    "start_time": "2023-07-17T14:23:11.432Z"
   },
   {
    "duration": 13,
    "start_time": "2023-07-17T14:23:11.469Z"
   },
   {
    "duration": 20,
    "start_time": "2023-07-17T14:23:11.483Z"
   },
   {
    "duration": 32,
    "start_time": "2023-07-17T14:23:11.504Z"
   },
   {
    "duration": 26,
    "start_time": "2023-07-17T14:23:11.540Z"
   },
   {
    "duration": 43,
    "start_time": "2023-07-17T14:23:11.570Z"
   },
   {
    "duration": 30,
    "start_time": "2023-07-17T14:23:11.615Z"
   },
   {
    "duration": 35,
    "start_time": "2023-07-17T14:23:11.646Z"
   },
   {
    "duration": 27,
    "start_time": "2023-07-17T14:23:11.683Z"
   },
   {
    "duration": 14,
    "start_time": "2023-07-17T14:23:11.712Z"
   },
   {
    "duration": 24,
    "start_time": "2023-07-17T14:23:11.728Z"
   },
   {
    "duration": 17,
    "start_time": "2023-07-17T14:23:11.754Z"
   },
   {
    "duration": 31,
    "start_time": "2023-07-17T14:23:11.773Z"
   },
   {
    "duration": 16,
    "start_time": "2023-07-17T14:23:11.806Z"
   },
   {
    "duration": 26,
    "start_time": "2023-07-17T14:23:11.824Z"
   },
   {
    "duration": 189,
    "start_time": "2023-07-17T14:23:11.852Z"
   },
   {
    "duration": 16,
    "start_time": "2023-07-17T14:23:12.043Z"
   },
   {
    "duration": 27,
    "start_time": "2023-07-17T14:23:12.061Z"
   },
   {
    "duration": 64,
    "start_time": "2023-07-17T14:23:12.089Z"
   },
   {
    "duration": 53,
    "start_time": "2023-07-17T14:23:12.155Z"
   },
   {
    "duration": 45,
    "start_time": "2023-07-17T14:23:12.211Z"
   },
   {
    "duration": 30,
    "start_time": "2023-07-17T14:23:12.258Z"
   },
   {
    "duration": 42,
    "start_time": "2023-07-17T14:23:12.290Z"
   },
   {
    "duration": 36,
    "start_time": "2023-07-17T14:23:12.334Z"
   },
   {
    "duration": 37,
    "start_time": "2023-07-17T14:23:12.372Z"
   },
   {
    "duration": 34,
    "start_time": "2023-07-17T14:23:12.411Z"
   },
   {
    "duration": 56,
    "start_time": "2023-07-17T14:23:12.446Z"
   },
   {
    "duration": 26,
    "start_time": "2023-07-17T14:23:12.503Z"
   },
   {
    "duration": 243,
    "start_time": "2023-07-17T14:23:12.531Z"
   },
   {
    "duration": 162,
    "start_time": "2023-07-17T14:23:12.776Z"
   },
   {
    "duration": 7,
    "start_time": "2023-07-17T14:23:12.940Z"
   },
   {
    "duration": 200,
    "start_time": "2023-07-17T14:23:12.952Z"
   },
   {
    "duration": 145,
    "start_time": "2023-07-17T14:23:13.154Z"
   },
   {
    "duration": 13,
    "start_time": "2023-07-17T14:23:13.309Z"
   },
   {
    "duration": 21,
    "start_time": "2023-07-17T14:23:13.324Z"
   },
   {
    "duration": 45,
    "start_time": "2023-07-17T14:23:13.347Z"
   },
   {
    "duration": 359,
    "start_time": "2023-07-17T14:23:13.394Z"
   },
   {
    "duration": 286,
    "start_time": "2023-07-17T14:23:13.755Z"
   },
   {
    "duration": 10,
    "start_time": "2023-07-17T14:23:14.043Z"
   },
   {
    "duration": 31,
    "start_time": "2023-07-17T14:23:14.055Z"
   },
   {
    "duration": 22,
    "start_time": "2023-07-17T14:23:14.089Z"
   },
   {
    "duration": 13,
    "start_time": "2023-07-17T14:23:14.113Z"
   },
   {
    "duration": 365,
    "start_time": "2023-07-17T14:23:14.128Z"
   },
   {
    "duration": 5,
    "start_time": "2023-07-17T14:23:14.494Z"
   },
   {
    "duration": 5,
    "start_time": "2023-07-17T14:23:14.509Z"
   },
   {
    "duration": 16,
    "start_time": "2023-07-17T14:23:14.516Z"
   },
   {
    "duration": 346,
    "start_time": "2023-07-17T14:23:14.533Z"
   },
   {
    "duration": 9,
    "start_time": "2023-07-17T14:23:14.880Z"
   },
   {
    "duration": 421,
    "start_time": "2023-07-17T14:23:14.891Z"
   },
   {
    "duration": 6,
    "start_time": "2023-07-17T14:23:15.314Z"
   },
   {
    "duration": 32,
    "start_time": "2023-07-17T14:23:15.322Z"
   },
   {
    "duration": 38,
    "start_time": "2023-07-17T14:23:15.356Z"
   },
   {
    "duration": 160,
    "start_time": "2023-07-17T14:23:15.396Z"
   },
   {
    "duration": 6,
    "start_time": "2023-07-17T14:23:15.559Z"
   },
   {
    "duration": 89,
    "start_time": "2023-07-17T14:23:15.567Z"
   },
   {
    "duration": 281,
    "start_time": "2023-07-17T14:23:15.659Z"
   },
   {
    "duration": 232,
    "start_time": "2023-07-17T14:23:15.943Z"
   },
   {
    "duration": 7,
    "start_time": "2023-07-17T14:23:16.177Z"
   },
   {
    "duration": 36,
    "start_time": "2023-07-17T14:23:16.187Z"
   },
   {
    "duration": 79,
    "start_time": "2023-07-17T14:23:16.226Z"
   },
   {
    "duration": 28,
    "start_time": "2023-07-17T14:23:16.307Z"
   },
   {
    "duration": 61,
    "start_time": "2023-07-17T14:23:16.337Z"
   },
   {
    "duration": 27,
    "start_time": "2023-07-17T14:23:16.400Z"
   },
   {
    "duration": 64,
    "start_time": "2023-07-17T14:23:16.429Z"
   },
   {
    "duration": 29,
    "start_time": "2023-07-17T14:23:16.495Z"
   },
   {
    "duration": 57,
    "start_time": "2023-07-17T14:23:16.526Z"
   },
   {
    "duration": 60,
    "start_time": "2023-07-17T14:23:16.585Z"
   },
   {
    "duration": 77,
    "start_time": "2023-07-17T14:23:16.647Z"
   },
   {
    "duration": 102,
    "start_time": "2023-07-17T14:23:16.725Z"
   },
   {
    "duration": 6,
    "start_time": "2023-07-17T14:23:16.828Z"
   },
   {
    "duration": 9,
    "start_time": "2023-07-17T14:23:16.836Z"
   },
   {
    "duration": 33,
    "start_time": "2023-07-17T14:23:16.847Z"
   },
   {
    "duration": 5,
    "start_time": "2023-07-17T14:23:16.882Z"
   },
   {
    "duration": 10,
    "start_time": "2023-07-17T14:23:16.910Z"
   },
   {
    "duration": 8,
    "start_time": "2023-07-17T14:23:16.922Z"
   },
   {
    "duration": 14,
    "start_time": "2023-07-17T14:23:16.932Z"
   },
   {
    "duration": 24,
    "start_time": "2023-07-17T14:23:16.948Z"
   },
   {
    "duration": 44,
    "start_time": "2023-07-17T14:23:16.974Z"
   },
   {
    "duration": 14,
    "start_time": "2023-07-17T14:23:17.020Z"
   },
   {
    "duration": 17,
    "start_time": "2023-07-17T14:23:17.035Z"
   },
   {
    "duration": 25,
    "start_time": "2023-07-17T14:23:17.054Z"
   },
   {
    "duration": 32,
    "start_time": "2023-07-17T14:23:17.081Z"
   },
   {
    "duration": 5,
    "start_time": "2023-07-17T14:23:17.115Z"
   },
   {
    "duration": 31,
    "start_time": "2023-07-17T14:23:17.122Z"
   },
   {
    "duration": 9,
    "start_time": "2023-07-17T14:23:17.155Z"
   },
   {
    "duration": 1419,
    "start_time": "2023-07-17T14:53:46.561Z"
   },
   {
    "duration": 48,
    "start_time": "2023-07-17T14:53:47.983Z"
   },
   {
    "duration": 41,
    "start_time": "2023-07-17T14:53:48.033Z"
   },
   {
    "duration": 38,
    "start_time": "2023-07-17T14:53:48.076Z"
   },
   {
    "duration": 41,
    "start_time": "2023-07-17T14:53:48.118Z"
   },
   {
    "duration": 40,
    "start_time": "2023-07-17T14:53:48.161Z"
   },
   {
    "duration": 53,
    "start_time": "2023-07-17T14:53:48.203Z"
   },
   {
    "duration": 26,
    "start_time": "2023-07-17T14:53:48.258Z"
   },
   {
    "duration": 56,
    "start_time": "2023-07-17T14:53:48.287Z"
   },
   {
    "duration": 29,
    "start_time": "2023-07-17T14:53:48.345Z"
   },
   {
    "duration": 73,
    "start_time": "2023-07-17T14:53:48.377Z"
   },
   {
    "duration": 35,
    "start_time": "2023-07-17T14:53:48.452Z"
   },
   {
    "duration": 9,
    "start_time": "2023-07-17T14:53:48.490Z"
   },
   {
    "duration": 106,
    "start_time": "2023-07-17T14:53:48.503Z"
   },
   {
    "duration": 61,
    "start_time": "2023-07-17T14:53:48.612Z"
   },
   {
    "duration": 22,
    "start_time": "2023-07-17T14:53:48.675Z"
   },
   {
    "duration": 76,
    "start_time": "2023-07-17T14:53:48.699Z"
   },
   {
    "duration": 39,
    "start_time": "2023-07-17T14:53:48.777Z"
   },
   {
    "duration": 47,
    "start_time": "2023-07-17T14:53:48.819Z"
   },
   {
    "duration": 32,
    "start_time": "2023-07-17T14:53:48.868Z"
   },
   {
    "duration": 50,
    "start_time": "2023-07-17T14:53:48.902Z"
   },
   {
    "duration": 21,
    "start_time": "2023-07-17T14:53:48.954Z"
   },
   {
    "duration": 21,
    "start_time": "2023-07-17T14:53:48.977Z"
   },
   {
    "duration": 58,
    "start_time": "2023-07-17T14:53:49.000Z"
   },
   {
    "duration": 292,
    "start_time": "2023-07-17T14:53:49.060Z"
   },
   {
    "duration": 25,
    "start_time": "2023-07-17T14:53:49.408Z"
   },
   {
    "duration": 83,
    "start_time": "2023-07-17T14:53:49.435Z"
   },
   {
    "duration": 26,
    "start_time": "2023-07-17T14:53:49.520Z"
   },
   {
    "duration": 24,
    "start_time": "2023-07-17T14:53:49.548Z"
   },
   {
    "duration": 71,
    "start_time": "2023-07-17T14:53:49.574Z"
   },
   {
    "duration": 30,
    "start_time": "2023-07-17T14:53:49.648Z"
   },
   {
    "duration": 9,
    "start_time": "2023-07-17T14:53:49.710Z"
   },
   {
    "duration": 99,
    "start_time": "2023-07-17T14:53:49.722Z"
   },
   {
    "duration": 91,
    "start_time": "2023-07-17T14:53:49.824Z"
   },
   {
    "duration": 59,
    "start_time": "2023-07-17T14:53:49.918Z"
   },
   {
    "duration": 8,
    "start_time": "2023-07-17T14:53:50.009Z"
   },
   {
    "duration": 51,
    "start_time": "2023-07-17T14:53:50.020Z"
   },
   {
    "duration": 446,
    "start_time": "2023-07-17T14:53:50.074Z"
   },
   {
    "duration": 387,
    "start_time": "2023-07-17T14:53:50.522Z"
   },
   {
    "duration": 9,
    "start_time": "2023-07-17T14:53:50.912Z"
   },
   {
    "duration": 454,
    "start_time": "2023-07-17T14:53:50.930Z"
   },
   {
    "duration": 159,
    "start_time": "2023-07-17T14:53:51.386Z"
   },
   {
    "duration": 44,
    "start_time": "2023-07-17T14:53:51.547Z"
   },
   {
    "duration": 34,
    "start_time": "2023-07-17T14:53:51.593Z"
   },
   {
    "duration": 45,
    "start_time": "2023-07-17T14:53:51.630Z"
   },
   {
    "duration": 398,
    "start_time": "2023-07-17T14:53:51.677Z"
   },
   {
    "duration": 335,
    "start_time": "2023-07-17T14:53:52.077Z"
   },
   {
    "duration": 24,
    "start_time": "2023-07-17T14:53:52.414Z"
   },
   {
    "duration": 150,
    "start_time": "2023-07-17T14:53:52.441Z"
   },
   {
    "duration": 90,
    "start_time": "2023-07-17T14:53:52.593Z"
   },
   {
    "duration": 43,
    "start_time": "2023-07-17T14:53:52.684Z"
   },
   {
    "duration": 413,
    "start_time": "2023-07-17T14:53:52.729Z"
   },
   {
    "duration": 4,
    "start_time": "2023-07-17T14:53:53.145Z"
   },
   {
    "duration": 70,
    "start_time": "2023-07-17T14:53:53.151Z"
   },
   {
    "duration": 111,
    "start_time": "2023-07-17T14:53:53.224Z"
   },
   {
    "duration": 417,
    "start_time": "2023-07-17T14:53:53.338Z"
   },
   {
    "duration": 9,
    "start_time": "2023-07-17T14:53:53.757Z"
   },
   {
    "duration": 464,
    "start_time": "2023-07-17T14:53:53.768Z"
   },
   {
    "duration": 9,
    "start_time": "2023-07-17T14:53:54.235Z"
   },
   {
    "duration": 17,
    "start_time": "2023-07-17T14:53:54.246Z"
   },
   {
    "duration": 23,
    "start_time": "2023-07-17T14:53:54.265Z"
   },
   {
    "duration": 158,
    "start_time": "2023-07-17T14:53:54.291Z"
   },
   {
    "duration": 5,
    "start_time": "2023-07-17T14:53:54.452Z"
   },
   {
    "duration": 27,
    "start_time": "2023-07-17T14:53:54.459Z"
   },
   {
    "duration": 290,
    "start_time": "2023-07-17T14:53:54.488Z"
   },
   {
    "duration": 191,
    "start_time": "2023-07-17T14:53:54.781Z"
   },
   {
    "duration": 6,
    "start_time": "2023-07-17T14:53:54.974Z"
   },
   {
    "duration": 48,
    "start_time": "2023-07-17T14:53:54.983Z"
   },
   {
    "duration": 56,
    "start_time": "2023-07-17T14:53:55.034Z"
   },
   {
    "duration": 10,
    "start_time": "2023-07-17T14:53:55.091Z"
   },
   {
    "duration": 73,
    "start_time": "2023-07-17T14:53:55.103Z"
   },
   {
    "duration": 27,
    "start_time": "2023-07-17T14:53:55.178Z"
   },
   {
    "duration": 82,
    "start_time": "2023-07-17T14:53:55.207Z"
   },
   {
    "duration": 57,
    "start_time": "2023-07-17T14:53:55.291Z"
   },
   {
    "duration": 144,
    "start_time": "2023-07-17T14:53:55.350Z"
   },
   {
    "duration": 66,
    "start_time": "2023-07-17T14:53:55.496Z"
   },
   {
    "duration": 88,
    "start_time": "2023-07-17T14:53:55.563Z"
   },
   {
    "duration": 98,
    "start_time": "2023-07-17T14:53:55.653Z"
   },
   {
    "duration": 19,
    "start_time": "2023-07-17T14:53:55.753Z"
   },
   {
    "duration": 15,
    "start_time": "2023-07-17T14:53:55.774Z"
   },
   {
    "duration": 49,
    "start_time": "2023-07-17T14:53:55.792Z"
   },
   {
    "duration": 22,
    "start_time": "2023-07-17T14:53:55.843Z"
   },
   {
    "duration": 24,
    "start_time": "2023-07-17T14:53:55.867Z"
   },
   {
    "duration": 14,
    "start_time": "2023-07-17T14:53:55.893Z"
   },
   {
    "duration": 32,
    "start_time": "2023-07-17T14:53:55.910Z"
   },
   {
    "duration": 45,
    "start_time": "2023-07-17T14:53:55.944Z"
   },
   {
    "duration": 51,
    "start_time": "2023-07-17T14:53:55.991Z"
   },
   {
    "duration": 27,
    "start_time": "2023-07-17T14:53:56.045Z"
   },
   {
    "duration": 23,
    "start_time": "2023-07-17T14:53:56.074Z"
   },
   {
    "duration": 39,
    "start_time": "2023-07-17T14:53:56.099Z"
   },
   {
    "duration": 43,
    "start_time": "2023-07-17T14:53:56.140Z"
   },
   {
    "duration": 5,
    "start_time": "2023-07-17T14:53:56.185Z"
   },
   {
    "duration": 20,
    "start_time": "2023-07-17T14:53:56.192Z"
   },
   {
    "duration": 33,
    "start_time": "2023-07-17T14:53:56.222Z"
   },
   {
    "duration": 169,
    "start_time": "2023-07-17T14:54:39.990Z"
   },
   {
    "duration": 48,
    "start_time": "2023-07-18T18:46:12.406Z"
   },
   {
    "duration": 1332,
    "start_time": "2023-07-18T18:46:16.512Z"
   },
   {
    "duration": 64,
    "start_time": "2023-07-18T18:46:17.846Z"
   },
   {
    "duration": 155,
    "start_time": "2023-07-18T18:46:17.911Z"
   },
   {
    "duration": 55,
    "start_time": "2023-07-18T18:46:18.068Z"
   },
   {
    "duration": 23,
    "start_time": "2023-07-18T18:46:18.124Z"
   },
   {
    "duration": 29,
    "start_time": "2023-07-18T18:46:18.149Z"
   },
   {
    "duration": 33,
    "start_time": "2023-07-18T18:46:18.180Z"
   },
   {
    "duration": 39,
    "start_time": "2023-07-18T18:46:18.214Z"
   },
   {
    "duration": 26,
    "start_time": "2023-07-18T18:46:18.255Z"
   },
   {
    "duration": 43,
    "start_time": "2023-07-18T18:46:18.284Z"
   },
   {
    "duration": 35,
    "start_time": "2023-07-18T18:46:18.328Z"
   },
   {
    "duration": 21,
    "start_time": "2023-07-18T18:46:18.364Z"
   },
   {
    "duration": 32,
    "start_time": "2023-07-18T18:46:18.387Z"
   },
   {
    "duration": 26,
    "start_time": "2023-07-18T18:46:18.420Z"
   },
   {
    "duration": 42,
    "start_time": "2023-07-18T18:46:18.448Z"
   },
   {
    "duration": 51,
    "start_time": "2023-07-18T18:46:18.492Z"
   },
   {
    "duration": 13,
    "start_time": "2023-07-18T18:46:18.544Z"
   },
   {
    "duration": 30,
    "start_time": "2023-07-18T18:46:18.559Z"
   },
   {
    "duration": 18,
    "start_time": "2023-07-18T18:46:18.590Z"
   },
   {
    "duration": 8,
    "start_time": "2023-07-18T18:46:18.610Z"
   },
   {
    "duration": 5,
    "start_time": "2023-07-18T18:46:18.620Z"
   },
   {
    "duration": 44,
    "start_time": "2023-07-18T18:46:18.626Z"
   },
   {
    "duration": 24,
    "start_time": "2023-07-18T18:46:18.671Z"
   },
   {
    "duration": 21,
    "start_time": "2023-07-18T18:46:18.696Z"
   },
   {
    "duration": 163,
    "start_time": "2023-07-18T18:46:18.718Z"
   },
   {
    "duration": 11,
    "start_time": "2023-07-18T18:46:18.883Z"
   },
   {
    "duration": 27,
    "start_time": "2023-07-18T18:46:18.895Z"
   },
   {
    "duration": 43,
    "start_time": "2023-07-18T18:46:18.925Z"
   },
   {
    "duration": 13,
    "start_time": "2023-07-18T18:46:18.969Z"
   },
   {
    "duration": 26,
    "start_time": "2023-07-18T18:46:18.983Z"
   },
   {
    "duration": 15,
    "start_time": "2023-07-18T18:46:19.010Z"
   },
   {
    "duration": 24,
    "start_time": "2023-07-18T18:46:19.026Z"
   },
   {
    "duration": 22,
    "start_time": "2023-07-18T18:46:19.052Z"
   },
   {
    "duration": 16,
    "start_time": "2023-07-18T18:46:19.076Z"
   },
   {
    "duration": 5,
    "start_time": "2023-07-18T18:46:19.094Z"
   },
   {
    "duration": 7,
    "start_time": "2023-07-18T18:46:19.101Z"
   },
   {
    "duration": 7,
    "start_time": "2023-07-18T18:46:19.110Z"
   },
   {
    "duration": 170,
    "start_time": "2023-07-18T18:46:19.118Z"
   },
   {
    "duration": 118,
    "start_time": "2023-07-18T18:46:19.290Z"
   },
   {
    "duration": 5,
    "start_time": "2023-07-18T18:46:19.409Z"
   },
   {
    "duration": 173,
    "start_time": "2023-07-18T18:46:19.415Z"
   },
   {
    "duration": 125,
    "start_time": "2023-07-18T18:46:19.589Z"
   },
   {
    "duration": 5,
    "start_time": "2023-07-18T18:46:19.716Z"
   },
   {
    "duration": 20,
    "start_time": "2023-07-18T18:46:19.723Z"
   },
   {
    "duration": 14,
    "start_time": "2023-07-18T18:46:19.745Z"
   },
   {
    "duration": 293,
    "start_time": "2023-07-18T18:46:19.760Z"
   },
   {
    "duration": 233,
    "start_time": "2023-07-18T18:46:20.055Z"
   },
   {
    "duration": 9,
    "start_time": "2023-07-18T18:46:20.290Z"
   },
   {
    "duration": 110,
    "start_time": "2023-07-18T18:46:20.300Z"
   },
   {
    "duration": 40,
    "start_time": "2023-07-18T18:46:20.412Z"
   },
   {
    "duration": 11,
    "start_time": "2023-07-18T18:46:20.453Z"
   },
   {
    "duration": 339,
    "start_time": "2023-07-18T18:46:20.465Z"
   },
   {
    "duration": 3,
    "start_time": "2023-07-18T18:46:20.806Z"
   },
   {
    "duration": 14,
    "start_time": "2023-07-18T18:46:20.811Z"
   },
   {
    "duration": 27,
    "start_time": "2023-07-18T18:46:20.827Z"
   },
   {
    "duration": 261,
    "start_time": "2023-07-18T18:46:20.856Z"
   },
   {
    "duration": 7,
    "start_time": "2023-07-18T18:46:21.118Z"
   },
   {
    "duration": 360,
    "start_time": "2023-07-18T18:46:21.126Z"
   },
   {
    "duration": 7,
    "start_time": "2023-07-18T18:46:21.487Z"
   },
   {
    "duration": 8,
    "start_time": "2023-07-18T18:46:21.495Z"
   },
   {
    "duration": 7,
    "start_time": "2023-07-18T18:46:21.505Z"
   },
   {
    "duration": 122,
    "start_time": "2023-07-18T18:46:21.513Z"
   },
   {
    "duration": 8,
    "start_time": "2023-07-18T18:46:21.637Z"
   },
   {
    "duration": 23,
    "start_time": "2023-07-18T18:46:21.646Z"
   },
   {
    "duration": 194,
    "start_time": "2023-07-18T18:46:21.670Z"
   },
   {
    "duration": 130,
    "start_time": "2023-07-18T18:46:21.865Z"
   },
   {
    "duration": 5,
    "start_time": "2023-07-18T18:46:21.996Z"
   },
   {
    "duration": 15,
    "start_time": "2023-07-18T18:46:22.002Z"
   },
   {
    "duration": 63,
    "start_time": "2023-07-18T18:46:22.019Z"
   },
   {
    "duration": 11,
    "start_time": "2023-07-18T18:46:22.083Z"
   },
   {
    "duration": 58,
    "start_time": "2023-07-18T18:46:22.095Z"
   },
   {
    "duration": 47,
    "start_time": "2023-07-18T18:46:22.154Z"
   },
   {
    "duration": 54,
    "start_time": "2023-07-18T18:46:22.202Z"
   },
   {
    "duration": 21,
    "start_time": "2023-07-18T18:46:22.257Z"
   },
   {
    "duration": 51,
    "start_time": "2023-07-18T18:46:22.280Z"
   },
   {
    "duration": 33,
    "start_time": "2023-07-18T18:46:22.344Z"
   },
   {
    "duration": 72,
    "start_time": "2023-07-18T18:46:22.379Z"
   },
   {
    "duration": 63,
    "start_time": "2023-07-18T18:46:22.453Z"
   },
   {
    "duration": 16,
    "start_time": "2023-07-18T18:46:22.517Z"
   },
   {
    "duration": 20,
    "start_time": "2023-07-18T18:46:22.535Z"
   },
   {
    "duration": 27,
    "start_time": "2023-07-18T18:46:22.556Z"
   },
   {
    "duration": 4,
    "start_time": "2023-07-18T18:46:22.587Z"
   },
   {
    "duration": 21,
    "start_time": "2023-07-18T18:46:22.592Z"
   },
   {
    "duration": 9,
    "start_time": "2023-07-18T18:46:22.615Z"
   },
   {
    "duration": 25,
    "start_time": "2023-07-18T18:46:22.626Z"
   },
   {
    "duration": 10,
    "start_time": "2023-07-18T18:46:22.653Z"
   },
   {
    "duration": 8,
    "start_time": "2023-07-18T18:46:22.664Z"
   },
   {
    "duration": 7,
    "start_time": "2023-07-18T18:46:22.673Z"
   },
   {
    "duration": 9,
    "start_time": "2023-07-18T18:46:22.681Z"
   },
   {
    "duration": 11,
    "start_time": "2023-07-18T18:46:22.691Z"
   },
   {
    "duration": 22,
    "start_time": "2023-07-18T18:46:22.703Z"
   },
   {
    "duration": 4,
    "start_time": "2023-07-18T18:46:22.727Z"
   },
   {
    "duration": 11,
    "start_time": "2023-07-18T18:46:22.744Z"
   },
   {
    "duration": 8,
    "start_time": "2023-07-18T18:46:22.757Z"
   },
   {
    "duration": 12,
    "start_time": "2023-07-18T18:46:32.746Z"
   },
   {
    "duration": 4,
    "start_time": "2023-07-18T18:46:53.979Z"
   },
   {
    "duration": 5,
    "start_time": "2023-07-18T18:47:39.765Z"
   },
   {
    "duration": 2,
    "start_time": "2023-07-18T18:48:07.089Z"
   },
   {
    "duration": 2,
    "start_time": "2023-07-18T18:48:13.123Z"
   },
   {
    "duration": 9,
    "start_time": "2023-07-18T18:48:17.608Z"
   },
   {
    "duration": 1075,
    "start_time": "2023-07-18T18:48:28.644Z"
   },
   {
    "duration": 38,
    "start_time": "2023-07-18T18:48:29.720Z"
   },
   {
    "duration": 39,
    "start_time": "2023-07-18T18:48:29.760Z"
   },
   {
    "duration": 16,
    "start_time": "2023-07-18T18:48:29.801Z"
   },
   {
    "duration": 10,
    "start_time": "2023-07-18T18:48:29.818Z"
   },
   {
    "duration": 16,
    "start_time": "2023-07-18T18:48:29.829Z"
   },
   {
    "duration": 11,
    "start_time": "2023-07-18T18:48:29.846Z"
   },
   {
    "duration": 11,
    "start_time": "2023-07-18T18:48:29.858Z"
   },
   {
    "duration": 9,
    "start_time": "2023-07-18T18:48:29.870Z"
   },
   {
    "duration": 9,
    "start_time": "2023-07-18T18:48:29.881Z"
   },
   {
    "duration": 6,
    "start_time": "2023-07-18T18:48:29.891Z"
   },
   {
    "duration": 8,
    "start_time": "2023-07-18T18:48:29.898Z"
   },
   {
    "duration": 13,
    "start_time": "2023-07-18T18:48:29.907Z"
   },
   {
    "duration": 18,
    "start_time": "2023-07-18T18:48:29.921Z"
   },
   {
    "duration": 13,
    "start_time": "2023-07-18T18:48:29.940Z"
   },
   {
    "duration": 14,
    "start_time": "2023-07-18T18:48:29.954Z"
   },
   {
    "duration": 4,
    "start_time": "2023-07-18T18:48:29.969Z"
   },
   {
    "duration": 20,
    "start_time": "2023-07-18T18:48:29.975Z"
   },
   {
    "duration": 8,
    "start_time": "2023-07-18T18:48:29.996Z"
   },
   {
    "duration": 59,
    "start_time": "2023-07-18T18:48:30.005Z"
   },
   {
    "duration": 41,
    "start_time": "2023-07-18T18:48:30.065Z"
   },
   {
    "duration": 36,
    "start_time": "2023-07-18T18:48:30.107Z"
   },
   {
    "duration": 32,
    "start_time": "2023-07-18T18:48:30.145Z"
   },
   {
    "duration": 27,
    "start_time": "2023-07-18T18:48:30.179Z"
   },
   {
    "duration": 139,
    "start_time": "2023-07-18T18:48:30.208Z"
   },
   {
    "duration": 7,
    "start_time": "2023-07-18T18:48:30.349Z"
   },
   {
    "duration": 51,
    "start_time": "2023-07-18T18:48:30.357Z"
   },
   {
    "duration": 12,
    "start_time": "2023-07-18T18:48:30.413Z"
   },
   {
    "duration": 31,
    "start_time": "2023-07-18T18:48:30.426Z"
   },
   {
    "duration": 68,
    "start_time": "2023-07-18T18:48:30.458Z"
   },
   {
    "duration": 57,
    "start_time": "2023-07-18T18:48:30.528Z"
   },
   {
    "duration": 40,
    "start_time": "2023-07-18T18:48:30.586Z"
   },
   {
    "duration": 40,
    "start_time": "2023-07-18T18:48:30.627Z"
   },
   {
    "duration": 56,
    "start_time": "2023-07-18T18:48:30.668Z"
   },
   {
    "duration": 44,
    "start_time": "2023-07-18T18:48:30.725Z"
   },
   {
    "duration": 35,
    "start_time": "2023-07-18T18:48:30.771Z"
   },
   {
    "duration": 36,
    "start_time": "2023-07-18T18:48:30.808Z"
   },
   {
    "duration": 29,
    "start_time": "2023-07-18T18:48:30.846Z"
   },
   {
    "duration": 175,
    "start_time": "2023-07-18T18:48:30.877Z"
   },
   {
    "duration": 124,
    "start_time": "2023-07-18T18:48:31.054Z"
   },
   {
    "duration": 31,
    "start_time": "2023-07-18T18:48:31.180Z"
   },
   {
    "duration": 185,
    "start_time": "2023-07-18T18:48:31.213Z"
   },
   {
    "duration": 115,
    "start_time": "2023-07-18T18:48:31.399Z"
   },
   {
    "duration": 18,
    "start_time": "2023-07-18T18:48:31.516Z"
   },
   {
    "duration": 24,
    "start_time": "2023-07-18T18:48:31.538Z"
   },
   {
    "duration": 36,
    "start_time": "2023-07-18T18:48:31.564Z"
   },
   {
    "duration": 568,
    "start_time": "2023-07-18T18:48:31.601Z"
   },
   {
    "duration": 565,
    "start_time": "2023-07-18T18:48:32.171Z"
   },
   {
    "duration": 9,
    "start_time": "2023-07-18T18:48:32.748Z"
   },
   {
    "duration": 28,
    "start_time": "2023-07-18T18:48:32.758Z"
   },
   {
    "duration": 74,
    "start_time": "2023-07-18T18:48:32.787Z"
   },
   {
    "duration": 29,
    "start_time": "2023-07-18T18:48:32.862Z"
   },
   {
    "duration": 566,
    "start_time": "2023-07-18T18:48:32.893Z"
   },
   {
    "duration": 5,
    "start_time": "2023-07-18T18:48:33.460Z"
   },
   {
    "duration": 10,
    "start_time": "2023-07-18T18:48:33.466Z"
   },
   {
    "duration": 55,
    "start_time": "2023-07-18T18:48:33.477Z"
   },
   {
    "duration": 305,
    "start_time": "2023-07-18T18:48:33.543Z"
   },
   {
    "duration": 7,
    "start_time": "2023-07-18T18:48:33.850Z"
   },
   {
    "duration": 336,
    "start_time": "2023-07-18T18:48:33.859Z"
   },
   {
    "duration": 6,
    "start_time": "2023-07-18T18:48:34.196Z"
   },
   {
    "duration": 25,
    "start_time": "2023-07-18T18:48:34.203Z"
   },
   {
    "duration": 21,
    "start_time": "2023-07-18T18:48:34.230Z"
   },
   {
    "duration": 123,
    "start_time": "2023-07-18T18:48:34.252Z"
   },
   {
    "duration": 4,
    "start_time": "2023-07-18T18:48:34.377Z"
   },
   {
    "duration": 6,
    "start_time": "2023-07-18T18:48:34.383Z"
   },
   {
    "duration": 257,
    "start_time": "2023-07-18T18:48:34.391Z"
   },
   {
    "duration": 181,
    "start_time": "2023-07-18T18:48:34.649Z"
   },
   {
    "duration": 7,
    "start_time": "2023-07-18T18:48:34.831Z"
   },
   {
    "duration": 38,
    "start_time": "2023-07-18T18:48:34.843Z"
   },
   {
    "duration": 66,
    "start_time": "2023-07-18T18:48:34.882Z"
   },
   {
    "duration": 28,
    "start_time": "2023-07-18T18:48:34.950Z"
   },
   {
    "duration": 78,
    "start_time": "2023-07-18T18:48:34.980Z"
   },
   {
    "duration": 32,
    "start_time": "2023-07-18T18:48:35.059Z"
   },
   {
    "duration": 72,
    "start_time": "2023-07-18T18:48:35.092Z"
   },
   {
    "duration": 26,
    "start_time": "2023-07-18T18:48:35.166Z"
   },
   {
    "duration": 70,
    "start_time": "2023-07-18T18:48:35.194Z"
   },
   {
    "duration": 30,
    "start_time": "2023-07-18T18:48:35.265Z"
   },
   {
    "duration": 82,
    "start_time": "2023-07-18T18:48:35.296Z"
   },
   {
    "duration": 71,
    "start_time": "2023-07-18T18:48:35.379Z"
   },
   {
    "duration": 4,
    "start_time": "2023-07-18T18:48:35.452Z"
   },
   {
    "duration": 16,
    "start_time": "2023-07-18T18:48:35.458Z"
   },
   {
    "duration": 67,
    "start_time": "2023-07-18T18:48:35.480Z"
   },
   {
    "duration": 5,
    "start_time": "2023-07-18T18:48:35.548Z"
   },
   {
    "duration": 11,
    "start_time": "2023-07-18T18:48:35.554Z"
   },
   {
    "duration": 7,
    "start_time": "2023-07-18T18:48:35.566Z"
   },
   {
    "duration": 6,
    "start_time": "2023-07-18T18:48:35.574Z"
   },
   {
    "duration": 13,
    "start_time": "2023-07-18T18:48:35.581Z"
   },
   {
    "duration": 6,
    "start_time": "2023-07-18T18:48:35.596Z"
   },
   {
    "duration": 19,
    "start_time": "2023-07-18T18:48:35.603Z"
   },
   {
    "duration": 19,
    "start_time": "2023-07-18T18:48:35.624Z"
   },
   {
    "duration": 12,
    "start_time": "2023-07-18T18:48:35.646Z"
   },
   {
    "duration": 33,
    "start_time": "2023-07-18T18:48:35.660Z"
   },
   {
    "duration": 5,
    "start_time": "2023-07-18T18:48:35.694Z"
   },
   {
    "duration": 43,
    "start_time": "2023-07-18T18:48:35.701Z"
   },
   {
    "duration": 10,
    "start_time": "2023-07-18T18:48:35.746Z"
   },
   {
    "duration": 30,
    "start_time": "2023-07-18T18:48:35.758Z"
   },
   {
    "duration": 1154,
    "start_time": "2023-07-18T18:48:51.637Z"
   },
   {
    "duration": 28,
    "start_time": "2023-07-18T18:48:52.793Z"
   },
   {
    "duration": 48,
    "start_time": "2023-07-18T18:48:52.823Z"
   },
   {
    "duration": 16,
    "start_time": "2023-07-18T18:48:52.872Z"
   },
   {
    "duration": 11,
    "start_time": "2023-07-18T18:48:52.889Z"
   },
   {
    "duration": 19,
    "start_time": "2023-07-18T18:48:52.901Z"
   },
   {
    "duration": 24,
    "start_time": "2023-07-18T18:48:52.921Z"
   },
   {
    "duration": 22,
    "start_time": "2023-07-18T18:48:52.946Z"
   },
   {
    "duration": 21,
    "start_time": "2023-07-18T18:48:52.970Z"
   },
   {
    "duration": 17,
    "start_time": "2023-07-18T18:48:52.994Z"
   },
   {
    "duration": 15,
    "start_time": "2023-07-18T18:48:53.013Z"
   },
   {
    "duration": 37,
    "start_time": "2023-07-18T18:48:53.030Z"
   },
   {
    "duration": 13,
    "start_time": "2023-07-18T18:48:53.068Z"
   },
   {
    "duration": 19,
    "start_time": "2023-07-18T18:48:53.083Z"
   },
   {
    "duration": 7,
    "start_time": "2023-07-18T18:48:53.104Z"
   },
   {
    "duration": 20,
    "start_time": "2023-07-18T18:48:53.112Z"
   },
   {
    "duration": 16,
    "start_time": "2023-07-18T18:48:53.137Z"
   },
   {
    "duration": 24,
    "start_time": "2023-07-18T18:48:53.154Z"
   },
   {
    "duration": 8,
    "start_time": "2023-07-18T18:48:53.180Z"
   },
   {
    "duration": 9,
    "start_time": "2023-07-18T18:48:53.190Z"
   },
   {
    "duration": 11,
    "start_time": "2023-07-18T18:48:53.200Z"
   },
   {
    "duration": 11,
    "start_time": "2023-07-18T18:48:53.212Z"
   },
   {
    "duration": 6,
    "start_time": "2023-07-18T18:48:53.224Z"
   },
   {
    "duration": 12,
    "start_time": "2023-07-18T18:48:53.236Z"
   },
   {
    "duration": 121,
    "start_time": "2023-07-18T18:48:53.249Z"
   },
   {
    "duration": 5,
    "start_time": "2023-07-18T18:48:53.372Z"
   },
   {
    "duration": 34,
    "start_time": "2023-07-18T18:48:53.379Z"
   },
   {
    "duration": 2,
    "start_time": "2023-07-18T18:48:53.418Z"
   },
   {
    "duration": 30,
    "start_time": "2023-07-18T18:48:53.421Z"
   },
   {
    "duration": 17,
    "start_time": "2023-07-18T18:48:53.453Z"
   },
   {
    "duration": 5,
    "start_time": "2023-07-18T18:48:53.471Z"
   },
   {
    "duration": 12,
    "start_time": "2023-07-18T18:48:53.477Z"
   },
   {
    "duration": 8,
    "start_time": "2023-07-18T18:48:53.491Z"
   },
   {
    "duration": 12,
    "start_time": "2023-07-18T18:48:53.501Z"
   },
   {
    "duration": 35,
    "start_time": "2023-07-18T18:48:53.514Z"
   },
   {
    "duration": 21,
    "start_time": "2023-07-18T18:48:53.550Z"
   },
   {
    "duration": 25,
    "start_time": "2023-07-18T18:48:53.572Z"
   },
   {
    "duration": 8,
    "start_time": "2023-07-18T18:48:53.598Z"
   },
   {
    "duration": 8,
    "start_time": "2023-07-18T18:48:53.608Z"
   },
   {
    "duration": 259,
    "start_time": "2023-07-18T18:48:53.617Z"
   },
   {
    "duration": 270,
    "start_time": "2023-07-18T18:48:53.877Z"
   },
   {
    "duration": 6,
    "start_time": "2023-07-18T18:48:54.149Z"
   },
   {
    "duration": 403,
    "start_time": "2023-07-18T18:48:54.156Z"
   },
   {
    "duration": 294,
    "start_time": "2023-07-18T18:48:54.560Z"
   },
   {
    "duration": 7,
    "start_time": "2023-07-18T18:48:54.857Z"
   },
   {
    "duration": 13,
    "start_time": "2023-07-18T18:48:54.866Z"
   },
   {
    "duration": 4,
    "start_time": "2023-07-18T18:48:54.932Z"
   },
   {
    "duration": 651,
    "start_time": "2023-07-18T18:48:54.938Z"
   },
   {
    "duration": 280,
    "start_time": "2023-07-18T18:48:55.590Z"
   },
   {
    "duration": 8,
    "start_time": "2023-07-18T18:48:55.872Z"
   },
   {
    "duration": 19,
    "start_time": "2023-07-18T18:48:55.882Z"
   },
   {
    "duration": 12,
    "start_time": "2023-07-18T18:48:55.903Z"
   },
   {
    "duration": 24,
    "start_time": "2023-07-18T18:48:55.916Z"
   },
   {
    "duration": 344,
    "start_time": "2023-07-18T18:48:55.944Z"
   },
   {
    "duration": 5,
    "start_time": "2023-07-18T18:48:56.289Z"
   },
   {
    "duration": 10,
    "start_time": "2023-07-18T18:48:56.296Z"
   },
   {
    "duration": 8,
    "start_time": "2023-07-18T18:48:56.308Z"
   },
   {
    "duration": 267,
    "start_time": "2023-07-18T18:48:56.317Z"
   },
   {
    "duration": 7,
    "start_time": "2023-07-18T18:48:56.586Z"
   },
   {
    "duration": 330,
    "start_time": "2023-07-18T18:48:56.594Z"
   },
   {
    "duration": 16,
    "start_time": "2023-07-18T18:48:56.925Z"
   },
   {
    "duration": 12,
    "start_time": "2023-07-18T18:48:56.944Z"
   },
   {
    "duration": 9,
    "start_time": "2023-07-18T18:48:56.957Z"
   },
   {
    "duration": 127,
    "start_time": "2023-07-18T18:48:56.967Z"
   },
   {
    "duration": 4,
    "start_time": "2023-07-18T18:48:57.096Z"
   },
   {
    "duration": 8,
    "start_time": "2023-07-18T18:48:57.102Z"
   },
   {
    "duration": 204,
    "start_time": "2023-07-18T18:48:57.111Z"
   },
   {
    "duration": 144,
    "start_time": "2023-07-18T18:48:57.316Z"
   },
   {
    "duration": 5,
    "start_time": "2023-07-18T18:48:57.461Z"
   },
   {
    "duration": 42,
    "start_time": "2023-07-18T18:48:57.467Z"
   },
   {
    "duration": 58,
    "start_time": "2023-07-18T18:48:57.511Z"
   },
   {
    "duration": 16,
    "start_time": "2023-07-18T18:48:57.571Z"
   },
   {
    "duration": 64,
    "start_time": "2023-07-18T18:48:57.589Z"
   },
   {
    "duration": 40,
    "start_time": "2023-07-18T18:48:57.655Z"
   },
   {
    "duration": 130,
    "start_time": "2023-07-18T18:48:57.696Z"
   },
   {
    "duration": 36,
    "start_time": "2023-07-18T18:48:57.828Z"
   },
   {
    "duration": 78,
    "start_time": "2023-07-18T18:48:57.866Z"
   },
   {
    "duration": 43,
    "start_time": "2023-07-18T18:48:57.945Z"
   },
   {
    "duration": 76,
    "start_time": "2023-07-18T18:48:57.989Z"
   },
   {
    "duration": 77,
    "start_time": "2023-07-18T18:48:58.067Z"
   },
   {
    "duration": 5,
    "start_time": "2023-07-18T18:48:58.146Z"
   },
   {
    "duration": 11,
    "start_time": "2023-07-18T18:48:58.156Z"
   },
   {
    "duration": 29,
    "start_time": "2023-07-18T18:48:58.168Z"
   },
   {
    "duration": 5,
    "start_time": "2023-07-18T18:48:58.199Z"
   },
   {
    "duration": 12,
    "start_time": "2023-07-18T18:48:58.205Z"
   },
   {
    "duration": 7,
    "start_time": "2023-07-18T18:48:58.218Z"
   },
   {
    "duration": 20,
    "start_time": "2023-07-18T18:48:58.227Z"
   },
   {
    "duration": 18,
    "start_time": "2023-07-18T18:48:58.249Z"
   },
   {
    "duration": 21,
    "start_time": "2023-07-18T18:48:58.268Z"
   },
   {
    "duration": 18,
    "start_time": "2023-07-18T18:48:58.290Z"
   },
   {
    "duration": 33,
    "start_time": "2023-07-18T18:48:58.309Z"
   },
   {
    "duration": 15,
    "start_time": "2023-07-18T18:48:58.344Z"
   },
   {
    "duration": 27,
    "start_time": "2023-07-18T18:48:58.360Z"
   },
   {
    "duration": 4,
    "start_time": "2023-07-18T18:48:58.388Z"
   },
   {
    "duration": 14,
    "start_time": "2023-07-18T18:48:58.394Z"
   },
   {
    "duration": 12,
    "start_time": "2023-07-18T18:48:58.410Z"
   },
   {
    "duration": 3,
    "start_time": "2023-07-18T18:49:21.845Z"
   },
   {
    "duration": 13,
    "start_time": "2023-07-18T18:49:22.732Z"
   },
   {
    "duration": 1371,
    "start_time": "2023-07-18T18:49:30.882Z"
   },
   {
    "duration": 29,
    "start_time": "2023-07-18T18:49:32.257Z"
   },
   {
    "duration": 48,
    "start_time": "2023-07-18T18:49:32.288Z"
   },
   {
    "duration": 22,
    "start_time": "2023-07-18T18:49:32.338Z"
   },
   {
    "duration": 11,
    "start_time": "2023-07-18T18:49:32.362Z"
   },
   {
    "duration": 66,
    "start_time": "2023-07-18T18:49:32.374Z"
   },
   {
    "duration": 18,
    "start_time": "2023-07-18T18:49:32.443Z"
   },
   {
    "duration": 72,
    "start_time": "2023-07-18T18:49:32.463Z"
   },
   {
    "duration": 10,
    "start_time": "2023-07-18T18:49:32.536Z"
   },
   {
    "duration": 32,
    "start_time": "2023-07-18T18:49:32.549Z"
   },
   {
    "duration": 218,
    "start_time": "2023-07-18T18:49:32.582Z"
   },
   {
    "duration": 233,
    "start_time": "2023-07-18T18:49:32.801Z"
   },
   {
    "duration": 54,
    "start_time": "2023-07-18T18:49:33.038Z"
   },
   {
    "duration": 22,
    "start_time": "2023-07-18T18:49:33.094Z"
   },
   {
    "duration": 16,
    "start_time": "2023-07-18T18:49:33.118Z"
   },
   {
    "duration": 28,
    "start_time": "2023-07-18T18:49:33.141Z"
   },
   {
    "duration": 25,
    "start_time": "2023-07-18T18:49:33.170Z"
   },
   {
    "duration": 22,
    "start_time": "2023-07-18T18:49:33.196Z"
   },
   {
    "duration": 21,
    "start_time": "2023-07-18T18:49:33.220Z"
   },
   {
    "duration": 11,
    "start_time": "2023-07-18T18:49:33.243Z"
   },
   {
    "duration": 9,
    "start_time": "2023-07-18T18:49:33.255Z"
   },
   {
    "duration": 22,
    "start_time": "2023-07-18T18:49:33.266Z"
   },
   {
    "duration": 28,
    "start_time": "2023-07-18T18:49:33.290Z"
   },
   {
    "duration": 11,
    "start_time": "2023-07-18T18:49:33.319Z"
   },
   {
    "duration": 131,
    "start_time": "2023-07-18T18:49:33.340Z"
   },
   {
    "duration": 4,
    "start_time": "2023-07-18T18:49:33.473Z"
   },
   {
    "duration": 15,
    "start_time": "2023-07-18T18:49:33.478Z"
   },
   {
    "duration": 2,
    "start_time": "2023-07-18T18:49:33.498Z"
   },
   {
    "duration": 11,
    "start_time": "2023-07-18T18:49:33.501Z"
   },
   {
    "duration": 10,
    "start_time": "2023-07-18T18:49:33.513Z"
   },
   {
    "duration": 15,
    "start_time": "2023-07-18T18:49:33.531Z"
   },
   {
    "duration": 16,
    "start_time": "2023-07-18T18:49:33.547Z"
   },
   {
    "duration": 6,
    "start_time": "2023-07-18T18:49:33.564Z"
   },
   {
    "duration": 6,
    "start_time": "2023-07-18T18:49:33.572Z"
   },
   {
    "duration": 13,
    "start_time": "2023-07-18T18:49:33.579Z"
   },
   {
    "duration": 13,
    "start_time": "2023-07-18T18:49:33.593Z"
   },
   {
    "duration": 6,
    "start_time": "2023-07-18T18:49:33.608Z"
   },
   {
    "duration": 7,
    "start_time": "2023-07-18T18:49:33.615Z"
   },
   {
    "duration": 17,
    "start_time": "2023-07-18T18:49:33.623Z"
   },
   {
    "duration": 163,
    "start_time": "2023-07-18T18:49:33.644Z"
   },
   {
    "duration": 142,
    "start_time": "2023-07-18T18:49:33.808Z"
   },
   {
    "duration": 5,
    "start_time": "2023-07-18T18:49:33.951Z"
   },
   {
    "duration": 159,
    "start_time": "2023-07-18T18:49:33.958Z"
   },
   {
    "duration": 127,
    "start_time": "2023-07-18T18:49:34.119Z"
   },
   {
    "duration": 6,
    "start_time": "2023-07-18T18:49:34.248Z"
   },
   {
    "duration": 7,
    "start_time": "2023-07-18T18:49:34.255Z"
   },
   {
    "duration": 16,
    "start_time": "2023-07-18T18:49:34.263Z"
   },
   {
    "duration": 322,
    "start_time": "2023-07-18T18:49:34.281Z"
   },
   {
    "duration": 282,
    "start_time": "2023-07-18T18:49:34.605Z"
   },
   {
    "duration": 9,
    "start_time": "2023-07-18T18:49:34.888Z"
   },
   {
    "duration": 16,
    "start_time": "2023-07-18T18:49:34.898Z"
   },
   {
    "duration": 42,
    "start_time": "2023-07-18T18:49:34.915Z"
   },
   {
    "duration": 9,
    "start_time": "2023-07-18T18:49:34.958Z"
   },
   {
    "duration": 314,
    "start_time": "2023-07-18T18:49:34.968Z"
   },
   {
    "duration": 4,
    "start_time": "2023-07-18T18:49:35.283Z"
   },
   {
    "duration": 8,
    "start_time": "2023-07-18T18:49:35.288Z"
   },
   {
    "duration": 11,
    "start_time": "2023-07-18T18:49:35.297Z"
   },
   {
    "duration": 267,
    "start_time": "2023-07-18T18:49:35.309Z"
   },
   {
    "duration": 7,
    "start_time": "2023-07-18T18:49:35.578Z"
   },
   {
    "duration": 350,
    "start_time": "2023-07-18T18:49:35.586Z"
   },
   {
    "duration": 10,
    "start_time": "2023-07-18T18:49:35.937Z"
   },
   {
    "duration": 11,
    "start_time": "2023-07-18T18:49:35.949Z"
   },
   {
    "duration": 10,
    "start_time": "2023-07-18T18:49:35.961Z"
   },
   {
    "duration": 141,
    "start_time": "2023-07-18T18:49:35.973Z"
   },
   {
    "duration": 5,
    "start_time": "2023-07-18T18:49:36.116Z"
   },
   {
    "duration": 31,
    "start_time": "2023-07-18T18:49:36.132Z"
   },
   {
    "duration": 216,
    "start_time": "2023-07-18T18:49:36.165Z"
   },
   {
    "duration": 146,
    "start_time": "2023-07-18T18:49:36.383Z"
   },
   {
    "duration": 10,
    "start_time": "2023-07-18T18:49:36.532Z"
   },
   {
    "duration": 12,
    "start_time": "2023-07-18T18:49:36.545Z"
   },
   {
    "duration": 46,
    "start_time": "2023-07-18T18:49:36.559Z"
   },
   {
    "duration": 7,
    "start_time": "2023-07-18T18:49:36.607Z"
   },
   {
    "duration": 52,
    "start_time": "2023-07-18T18:49:36.616Z"
   },
   {
    "duration": 19,
    "start_time": "2023-07-18T18:49:36.670Z"
   },
   {
    "duration": 55,
    "start_time": "2023-07-18T18:49:36.691Z"
   },
   {
    "duration": 16,
    "start_time": "2023-07-18T18:49:36.748Z"
   },
   {
    "duration": 48,
    "start_time": "2023-07-18T18:49:36.765Z"
   },
   {
    "duration": 36,
    "start_time": "2023-07-18T18:49:36.815Z"
   },
   {
    "duration": 59,
    "start_time": "2023-07-18T18:49:36.853Z"
   },
   {
    "duration": 83,
    "start_time": "2023-07-18T18:49:36.914Z"
   },
   {
    "duration": 5,
    "start_time": "2023-07-18T18:49:36.999Z"
   },
   {
    "duration": 34,
    "start_time": "2023-07-18T18:49:37.009Z"
   },
   {
    "duration": 25,
    "start_time": "2023-07-18T18:49:37.045Z"
   },
   {
    "duration": 5,
    "start_time": "2023-07-18T18:49:37.071Z"
   },
   {
    "duration": 12,
    "start_time": "2023-07-18T18:49:37.077Z"
   },
   {
    "duration": 8,
    "start_time": "2023-07-18T18:49:37.090Z"
   },
   {
    "duration": 23,
    "start_time": "2023-07-18T18:49:37.099Z"
   },
   {
    "duration": 7,
    "start_time": "2023-07-18T18:49:37.123Z"
   },
   {
    "duration": 22,
    "start_time": "2023-07-18T18:49:37.131Z"
   },
   {
    "duration": 9,
    "start_time": "2023-07-18T18:49:37.154Z"
   },
   {
    "duration": 6,
    "start_time": "2023-07-18T18:49:37.164Z"
   },
   {
    "duration": 14,
    "start_time": "2023-07-18T18:49:37.172Z"
   },
   {
    "duration": 24,
    "start_time": "2023-07-18T18:49:37.188Z"
   },
   {
    "duration": 5,
    "start_time": "2023-07-18T18:49:37.213Z"
   },
   {
    "duration": 28,
    "start_time": "2023-07-18T18:49:37.220Z"
   },
   {
    "duration": 8,
    "start_time": "2023-07-18T18:49:37.250Z"
   },
   {
    "duration": 5,
    "start_time": "2023-07-18T19:46:32.950Z"
   },
   {
    "duration": 6,
    "start_time": "2023-07-18T19:46:33.402Z"
   },
   {
    "duration": 15,
    "start_time": "2023-07-18T19:46:55.687Z"
   },
   {
    "duration": 4,
    "start_time": "2023-07-18T19:47:02.463Z"
   },
   {
    "duration": 5,
    "start_time": "2023-07-18T19:47:17.574Z"
   },
   {
    "duration": 4,
    "start_time": "2023-07-18T19:47:23.969Z"
   },
   {
    "duration": 6,
    "start_time": "2023-07-18T19:47:43.451Z"
   },
   {
    "duration": 5,
    "start_time": "2023-07-18T19:47:44.092Z"
   },
   {
    "duration": 137,
    "start_time": "2023-07-19T10:53:42.050Z"
   },
   {
    "duration": 48,
    "start_time": "2023-07-19T10:54:42.174Z"
   },
   {
    "duration": 2346,
    "start_time": "2023-07-19T10:55:12.991Z"
   },
   {
    "duration": 60,
    "start_time": "2023-07-19T10:55:15.339Z"
   },
   {
    "duration": 80,
    "start_time": "2023-07-19T10:55:15.400Z"
   },
   {
    "duration": 51,
    "start_time": "2023-07-19T10:55:15.482Z"
   },
   {
    "duration": 12,
    "start_time": "2023-07-19T10:55:15.535Z"
   },
   {
    "duration": 18,
    "start_time": "2023-07-19T10:55:15.548Z"
   },
   {
    "duration": 57,
    "start_time": "2023-07-19T10:55:15.568Z"
   },
   {
    "duration": 27,
    "start_time": "2023-07-19T10:55:15.628Z"
   },
   {
    "duration": 15,
    "start_time": "2023-07-19T10:55:15.658Z"
   },
   {
    "duration": 15,
    "start_time": "2023-07-19T10:55:15.722Z"
   },
   {
    "duration": 41,
    "start_time": "2023-07-19T10:55:15.739Z"
   },
   {
    "duration": 40,
    "start_time": "2023-07-19T10:55:15.782Z"
   },
   {
    "duration": 30,
    "start_time": "2023-07-19T10:55:15.824Z"
   },
   {
    "duration": 28,
    "start_time": "2023-07-19T10:55:15.856Z"
   },
   {
    "duration": 38,
    "start_time": "2023-07-19T10:55:15.886Z"
   },
   {
    "duration": 19,
    "start_time": "2023-07-19T10:55:15.926Z"
   },
   {
    "duration": 44,
    "start_time": "2023-07-19T10:55:15.947Z"
   },
   {
    "duration": 14,
    "start_time": "2023-07-19T10:55:16.020Z"
   },
   {
    "duration": 26,
    "start_time": "2023-07-19T10:55:16.035Z"
   },
   {
    "duration": 62,
    "start_time": "2023-07-19T10:55:16.062Z"
   },
   {
    "duration": 96,
    "start_time": "2023-07-19T10:55:16.126Z"
   },
   {
    "duration": 26,
    "start_time": "2023-07-19T10:55:16.224Z"
   },
   {
    "duration": 29,
    "start_time": "2023-07-19T10:55:16.252Z"
   },
   {
    "duration": 40,
    "start_time": "2023-07-19T10:55:16.283Z"
   },
   {
    "duration": 237,
    "start_time": "2023-07-19T10:55:16.325Z"
   },
   {
    "duration": 59,
    "start_time": "2023-07-19T10:55:16.564Z"
   },
   {
    "duration": 96,
    "start_time": "2023-07-19T10:55:16.625Z"
   },
   {
    "duration": 3,
    "start_time": "2023-07-19T10:55:16.725Z"
   },
   {
    "duration": 97,
    "start_time": "2023-07-19T10:55:16.730Z"
   },
   {
    "duration": 35,
    "start_time": "2023-07-19T10:55:16.829Z"
   },
   {
    "duration": 15,
    "start_time": "2023-07-19T10:55:16.866Z"
   },
   {
    "duration": 41,
    "start_time": "2023-07-19T10:55:16.883Z"
   },
   {
    "duration": 25,
    "start_time": "2023-07-19T10:55:16.926Z"
   },
   {
    "duration": 15,
    "start_time": "2023-07-19T10:55:16.953Z"
   },
   {
    "duration": 55,
    "start_time": "2023-07-19T10:55:16.970Z"
   },
   {
    "duration": 18,
    "start_time": "2023-07-19T10:55:17.026Z"
   },
   {
    "duration": 17,
    "start_time": "2023-07-19T10:55:17.046Z"
   },
   {
    "duration": 9,
    "start_time": "2023-07-19T10:55:17.064Z"
   },
   {
    "duration": 7,
    "start_time": "2023-07-19T10:55:17.121Z"
   },
   {
    "duration": 331,
    "start_time": "2023-07-19T10:55:17.129Z"
   },
   {
    "duration": 278,
    "start_time": "2023-07-19T10:55:17.462Z"
   },
   {
    "duration": 5,
    "start_time": "2023-07-19T10:55:17.741Z"
   },
   {
    "duration": 377,
    "start_time": "2023-07-19T10:55:17.748Z"
   },
   {
    "duration": 221,
    "start_time": "2023-07-19T10:55:18.127Z"
   },
   {
    "duration": 7,
    "start_time": "2023-07-19T10:55:18.350Z"
   },
   {
    "duration": 63,
    "start_time": "2023-07-19T10:55:18.358Z"
   },
   {
    "duration": 10,
    "start_time": "2023-07-19T10:55:18.423Z"
   },
   {
    "duration": 512,
    "start_time": "2023-07-19T10:55:18.435Z"
   },
   {
    "duration": 257,
    "start_time": "2023-07-19T10:55:18.949Z"
   },
   {
    "duration": 13,
    "start_time": "2023-07-19T10:55:19.208Z"
   },
   {
    "duration": 38,
    "start_time": "2023-07-19T10:55:19.223Z"
   },
   {
    "duration": 17,
    "start_time": "2023-07-19T10:55:19.263Z"
   },
   {
    "duration": 17,
    "start_time": "2023-07-19T10:55:19.281Z"
   },
   {
    "duration": 399,
    "start_time": "2023-07-19T10:55:19.300Z"
   },
   {
    "duration": 4,
    "start_time": "2023-07-19T10:55:19.700Z"
   },
   {
    "duration": 21,
    "start_time": "2023-07-19T10:55:19.705Z"
   },
   {
    "duration": 27,
    "start_time": "2023-07-19T10:55:19.728Z"
   },
   {
    "duration": 253,
    "start_time": "2023-07-19T10:55:19.756Z"
   },
   {
    "duration": 7,
    "start_time": "2023-07-19T10:55:20.011Z"
   },
   {
    "duration": 336,
    "start_time": "2023-07-19T10:55:20.020Z"
   },
   {
    "duration": 7,
    "start_time": "2023-07-19T10:55:20.357Z"
   },
   {
    "duration": 30,
    "start_time": "2023-07-19T10:55:20.365Z"
   },
   {
    "duration": 100,
    "start_time": "2023-07-19T10:55:20.397Z"
   },
   {
    "duration": 206,
    "start_time": "2023-07-19T10:55:20.499Z"
   },
   {
    "duration": 4,
    "start_time": "2023-07-19T10:55:20.707Z"
   },
   {
    "duration": 34,
    "start_time": "2023-07-19T10:55:20.712Z"
   },
   {
    "duration": 221,
    "start_time": "2023-07-19T10:55:20.747Z"
   },
   {
    "duration": 137,
    "start_time": "2023-07-19T10:55:20.970Z"
   },
   {
    "duration": 12,
    "start_time": "2023-07-19T10:55:21.109Z"
   },
   {
    "duration": 26,
    "start_time": "2023-07-19T10:55:21.122Z"
   },
   {
    "duration": 66,
    "start_time": "2023-07-19T10:55:21.150Z"
   },
   {
    "duration": 77,
    "start_time": "2023-07-19T10:55:21.218Z"
   },
   {
    "duration": 83,
    "start_time": "2023-07-19T10:55:21.297Z"
   },
   {
    "duration": 41,
    "start_time": "2023-07-19T10:55:21.381Z"
   },
   {
    "duration": 77,
    "start_time": "2023-07-19T10:55:21.424Z"
   },
   {
    "duration": 39,
    "start_time": "2023-07-19T10:55:21.503Z"
   },
   {
    "duration": 87,
    "start_time": "2023-07-19T10:55:21.544Z"
   },
   {
    "duration": 42,
    "start_time": "2023-07-19T10:55:21.633Z"
   },
   {
    "duration": 98,
    "start_time": "2023-07-19T10:55:21.676Z"
   },
   {
    "duration": 62,
    "start_time": "2023-07-19T10:55:21.776Z"
   },
   {
    "duration": 4,
    "start_time": "2023-07-19T10:55:21.839Z"
   },
   {
    "duration": 38,
    "start_time": "2023-07-19T10:55:21.849Z"
   },
   {
    "duration": 61,
    "start_time": "2023-07-19T10:55:21.888Z"
   },
   {
    "duration": 19,
    "start_time": "2023-07-19T10:55:21.951Z"
   },
   {
    "duration": 33,
    "start_time": "2023-07-19T10:55:21.971Z"
   },
   {
    "duration": 33,
    "start_time": "2023-07-19T10:55:22.006Z"
   },
   {
    "duration": 42,
    "start_time": "2023-07-19T10:55:22.041Z"
   },
   {
    "duration": 43,
    "start_time": "2023-07-19T10:55:22.085Z"
   },
   {
    "duration": 471,
    "start_time": "2023-07-19T10:55:22.130Z"
   },
   {
    "duration": 0,
    "start_time": "2023-07-19T10:55:22.603Z"
   },
   {
    "duration": 0,
    "start_time": "2023-07-19T10:55:22.604Z"
   },
   {
    "duration": 0,
    "start_time": "2023-07-19T10:55:22.606Z"
   },
   {
    "duration": 0,
    "start_time": "2023-07-19T10:55:22.607Z"
   },
   {
    "duration": 0,
    "start_time": "2023-07-19T10:55:22.609Z"
   },
   {
    "duration": 0,
    "start_time": "2023-07-19T10:55:22.610Z"
   },
   {
    "duration": 0,
    "start_time": "2023-07-19T10:55:22.611Z"
   },
   {
    "duration": 0,
    "start_time": "2023-07-19T10:55:22.613Z"
   },
   {
    "duration": 0,
    "start_time": "2023-07-19T10:55:22.614Z"
   },
   {
    "duration": 0,
    "start_time": "2023-07-19T10:55:22.616Z"
   },
   {
    "duration": 5,
    "start_time": "2023-07-19T10:55:55.449Z"
   },
   {
    "duration": 4,
    "start_time": "2023-07-19T10:56:41.439Z"
   },
   {
    "duration": 1257,
    "start_time": "2023-07-19T10:57:27.170Z"
   },
   {
    "duration": 27,
    "start_time": "2023-07-19T10:57:28.428Z"
   },
   {
    "duration": 36,
    "start_time": "2023-07-19T10:57:28.456Z"
   },
   {
    "duration": 15,
    "start_time": "2023-07-19T10:57:28.493Z"
   },
   {
    "duration": 10,
    "start_time": "2023-07-19T10:57:28.509Z"
   },
   {
    "duration": 12,
    "start_time": "2023-07-19T10:57:28.521Z"
   },
   {
    "duration": 13,
    "start_time": "2023-07-19T10:57:28.534Z"
   },
   {
    "duration": 15,
    "start_time": "2023-07-19T10:57:28.548Z"
   },
   {
    "duration": 10,
    "start_time": "2023-07-19T10:57:28.565Z"
   },
   {
    "duration": 34,
    "start_time": "2023-07-19T10:57:28.577Z"
   },
   {
    "duration": 21,
    "start_time": "2023-07-19T10:57:28.613Z"
   },
   {
    "duration": 29,
    "start_time": "2023-07-19T10:57:28.636Z"
   },
   {
    "duration": 6,
    "start_time": "2023-07-19T10:57:28.667Z"
   },
   {
    "duration": 7,
    "start_time": "2023-07-19T10:57:28.675Z"
   },
   {
    "duration": 23,
    "start_time": "2023-07-19T10:57:28.683Z"
   },
   {
    "duration": 18,
    "start_time": "2023-07-19T10:57:28.707Z"
   },
   {
    "duration": 11,
    "start_time": "2023-07-19T10:57:28.726Z"
   },
   {
    "duration": 23,
    "start_time": "2023-07-19T10:57:28.739Z"
   },
   {
    "duration": 14,
    "start_time": "2023-07-19T10:57:28.763Z"
   },
   {
    "duration": 17,
    "start_time": "2023-07-19T10:57:28.779Z"
   },
   {
    "duration": 24,
    "start_time": "2023-07-19T10:57:28.798Z"
   },
   {
    "duration": 18,
    "start_time": "2023-07-19T10:57:28.824Z"
   },
   {
    "duration": 6,
    "start_time": "2023-07-19T10:57:28.843Z"
   },
   {
    "duration": 8,
    "start_time": "2023-07-19T10:57:28.851Z"
   },
   {
    "duration": 134,
    "start_time": "2023-07-19T10:57:28.861Z"
   },
   {
    "duration": 4,
    "start_time": "2023-07-19T10:57:28.997Z"
   },
   {
    "duration": 26,
    "start_time": "2023-07-19T10:57:29.002Z"
   },
   {
    "duration": 2,
    "start_time": "2023-07-19T10:57:29.033Z"
   },
   {
    "duration": 16,
    "start_time": "2023-07-19T10:57:29.036Z"
   },
   {
    "duration": 16,
    "start_time": "2023-07-19T10:57:29.053Z"
   },
   {
    "duration": 8,
    "start_time": "2023-07-19T10:57:29.071Z"
   },
   {
    "duration": 23,
    "start_time": "2023-07-19T10:57:29.080Z"
   },
   {
    "duration": 6,
    "start_time": "2023-07-19T10:57:29.105Z"
   },
   {
    "duration": 7,
    "start_time": "2023-07-19T10:57:29.113Z"
   },
   {
    "duration": 25,
    "start_time": "2023-07-19T10:57:29.122Z"
   },
   {
    "duration": 16,
    "start_time": "2023-07-19T10:57:29.149Z"
   },
   {
    "duration": 7,
    "start_time": "2023-07-19T10:57:29.167Z"
   },
   {
    "duration": 10,
    "start_time": "2023-07-19T10:57:29.175Z"
   },
   {
    "duration": 10,
    "start_time": "2023-07-19T10:57:29.187Z"
   },
   {
    "duration": 153,
    "start_time": "2023-07-19T10:57:29.199Z"
   },
   {
    "duration": 112,
    "start_time": "2023-07-19T10:57:29.353Z"
   },
   {
    "duration": 5,
    "start_time": "2023-07-19T10:57:29.466Z"
   },
   {
    "duration": 160,
    "start_time": "2023-07-19T10:57:29.472Z"
   },
   {
    "duration": 114,
    "start_time": "2023-07-19T10:57:29.634Z"
   },
   {
    "duration": 16,
    "start_time": "2023-07-19T10:57:29.752Z"
   },
   {
    "duration": 11,
    "start_time": "2023-07-19T10:57:29.770Z"
   },
   {
    "duration": 7,
    "start_time": "2023-07-19T10:57:29.783Z"
   },
   {
    "duration": 306,
    "start_time": "2023-07-19T10:57:29.791Z"
   },
   {
    "duration": 244,
    "start_time": "2023-07-19T10:57:30.099Z"
   },
   {
    "duration": 8,
    "start_time": "2023-07-19T10:57:30.345Z"
   },
   {
    "duration": 50,
    "start_time": "2023-07-19T10:57:30.355Z"
   },
   {
    "duration": 81,
    "start_time": "2023-07-19T10:57:30.407Z"
   },
   {
    "duration": 86,
    "start_time": "2023-07-19T10:57:30.490Z"
   },
   {
    "duration": 443,
    "start_time": "2023-07-19T10:57:30.578Z"
   },
   {
    "duration": 3,
    "start_time": "2023-07-19T10:57:31.022Z"
   },
   {
    "duration": 104,
    "start_time": "2023-07-19T10:57:31.027Z"
   },
   {
    "duration": 52,
    "start_time": "2023-07-19T10:57:31.133Z"
   },
   {
    "duration": 310,
    "start_time": "2023-07-19T10:57:31.187Z"
   },
   {
    "duration": 7,
    "start_time": "2023-07-19T10:57:31.499Z"
   },
   {
    "duration": 350,
    "start_time": "2023-07-19T10:57:31.508Z"
   },
   {
    "duration": 6,
    "start_time": "2023-07-19T10:57:31.859Z"
   },
   {
    "duration": 27,
    "start_time": "2023-07-19T10:57:31.866Z"
   },
   {
    "duration": 43,
    "start_time": "2023-07-19T10:57:31.894Z"
   },
   {
    "duration": 174,
    "start_time": "2023-07-19T10:57:31.938Z"
   },
   {
    "duration": 9,
    "start_time": "2023-07-19T10:57:32.114Z"
   },
   {
    "duration": 34,
    "start_time": "2023-07-19T10:57:32.125Z"
   },
   {
    "duration": 225,
    "start_time": "2023-07-19T10:57:32.161Z"
   },
   {
    "duration": 127,
    "start_time": "2023-07-19T10:57:32.388Z"
   },
   {
    "duration": 5,
    "start_time": "2023-07-19T10:57:32.520Z"
   },
   {
    "duration": 20,
    "start_time": "2023-07-19T10:57:32.526Z"
   },
   {
    "duration": 51,
    "start_time": "2023-07-19T10:57:32.548Z"
   },
   {
    "duration": 42,
    "start_time": "2023-07-19T10:57:32.601Z"
   },
   {
    "duration": 76,
    "start_time": "2023-07-19T10:57:32.645Z"
   },
   {
    "duration": 22,
    "start_time": "2023-07-19T10:57:32.723Z"
   },
   {
    "duration": 74,
    "start_time": "2023-07-19T10:57:32.746Z"
   },
   {
    "duration": 65,
    "start_time": "2023-07-19T10:57:32.822Z"
   },
   {
    "duration": 46,
    "start_time": "2023-07-19T10:57:32.888Z"
   },
   {
    "duration": 21,
    "start_time": "2023-07-19T10:57:32.935Z"
   },
   {
    "duration": 67,
    "start_time": "2023-07-19T10:57:32.957Z"
   },
   {
    "duration": 71,
    "start_time": "2023-07-19T10:57:33.025Z"
   },
   {
    "duration": 5,
    "start_time": "2023-07-19T10:57:33.098Z"
   },
   {
    "duration": 4,
    "start_time": "2023-07-19T10:57:33.120Z"
   },
   {
    "duration": 34,
    "start_time": "2023-07-19T10:57:33.125Z"
   },
   {
    "duration": 5,
    "start_time": "2023-07-19T10:57:33.161Z"
   },
   {
    "duration": 15,
    "start_time": "2023-07-19T10:57:33.168Z"
   },
   {
    "duration": 35,
    "start_time": "2023-07-19T10:57:33.185Z"
   },
   {
    "duration": 41,
    "start_time": "2023-07-19T10:57:33.221Z"
   },
   {
    "duration": 25,
    "start_time": "2023-07-19T10:57:33.263Z"
   },
   {
    "duration": 37,
    "start_time": "2023-07-19T10:57:33.289Z"
   },
   {
    "duration": 38,
    "start_time": "2023-07-19T10:57:33.327Z"
   },
   {
    "duration": 87,
    "start_time": "2023-07-19T10:57:33.366Z"
   },
   {
    "duration": 55,
    "start_time": "2023-07-19T10:57:33.455Z"
   },
   {
    "duration": 20,
    "start_time": "2023-07-19T10:57:33.512Z"
   },
   {
    "duration": 20,
    "start_time": "2023-07-19T10:57:33.533Z"
   },
   {
    "duration": 19,
    "start_time": "2023-07-19T10:57:33.554Z"
   },
   {
    "duration": 17,
    "start_time": "2023-07-19T10:57:33.574Z"
   },
   {
    "duration": 27,
    "start_time": "2023-07-19T10:57:33.592Z"
   },
   {
    "duration": 4,
    "start_time": "2023-07-19T10:57:33.620Z"
   },
   {
    "duration": 13,
    "start_time": "2023-07-19T10:57:33.625Z"
   },
   {
    "duration": 24,
    "start_time": "2023-07-19T10:57:33.640Z"
   },
   {
    "duration": 1286,
    "start_time": "2023-07-19T11:13:17.607Z"
   },
   {
    "duration": 27,
    "start_time": "2023-07-19T11:13:18.894Z"
   },
   {
    "duration": 46,
    "start_time": "2023-07-19T11:13:18.922Z"
   },
   {
    "duration": 15,
    "start_time": "2023-07-19T11:13:18.970Z"
   },
   {
    "duration": 35,
    "start_time": "2023-07-19T11:13:18.986Z"
   },
   {
    "duration": 33,
    "start_time": "2023-07-19T11:13:19.022Z"
   },
   {
    "duration": 29,
    "start_time": "2023-07-19T11:13:19.057Z"
   },
   {
    "duration": 52,
    "start_time": "2023-07-19T11:13:19.088Z"
   },
   {
    "duration": 38,
    "start_time": "2023-07-19T11:13:19.141Z"
   },
   {
    "duration": 23,
    "start_time": "2023-07-19T11:13:19.182Z"
   },
   {
    "duration": 36,
    "start_time": "2023-07-19T11:13:19.207Z"
   },
   {
    "duration": 21,
    "start_time": "2023-07-19T11:13:19.244Z"
   },
   {
    "duration": 14,
    "start_time": "2023-07-19T11:13:19.266Z"
   },
   {
    "duration": 24,
    "start_time": "2023-07-19T11:13:19.281Z"
   },
   {
    "duration": 21,
    "start_time": "2023-07-19T11:13:19.306Z"
   },
   {
    "duration": 30,
    "start_time": "2023-07-19T11:13:19.328Z"
   },
   {
    "duration": 20,
    "start_time": "2023-07-19T11:13:19.359Z"
   },
   {
    "duration": 32,
    "start_time": "2023-07-19T11:13:19.380Z"
   },
   {
    "duration": 29,
    "start_time": "2023-07-19T11:13:19.413Z"
   },
   {
    "duration": 22,
    "start_time": "2023-07-19T11:13:19.444Z"
   },
   {
    "duration": 29,
    "start_time": "2023-07-19T11:13:19.468Z"
   },
   {
    "duration": 24,
    "start_time": "2023-07-19T11:13:19.498Z"
   },
   {
    "duration": 24,
    "start_time": "2023-07-19T11:13:19.523Z"
   },
   {
    "duration": 27,
    "start_time": "2023-07-19T11:13:19.548Z"
   },
   {
    "duration": 128,
    "start_time": "2023-07-19T11:13:19.577Z"
   },
   {
    "duration": 4,
    "start_time": "2023-07-19T11:13:19.707Z"
   },
   {
    "duration": 38,
    "start_time": "2023-07-19T11:13:19.713Z"
   },
   {
    "duration": 15,
    "start_time": "2023-07-19T11:13:19.755Z"
   },
   {
    "duration": 30,
    "start_time": "2023-07-19T11:13:19.772Z"
   },
   {
    "duration": 17,
    "start_time": "2023-07-19T11:13:19.803Z"
   },
   {
    "duration": 15,
    "start_time": "2023-07-19T11:13:19.822Z"
   },
   {
    "duration": 26,
    "start_time": "2023-07-19T11:13:19.839Z"
   },
   {
    "duration": 36,
    "start_time": "2023-07-19T11:13:19.867Z"
   },
   {
    "duration": 17,
    "start_time": "2023-07-19T11:13:19.904Z"
   },
   {
    "duration": 34,
    "start_time": "2023-07-19T11:13:19.923Z"
   },
   {
    "duration": 33,
    "start_time": "2023-07-19T11:13:19.959Z"
   },
   {
    "duration": 26,
    "start_time": "2023-07-19T11:13:19.994Z"
   },
   {
    "duration": 28,
    "start_time": "2023-07-19T11:13:20.022Z"
   },
   {
    "duration": 35,
    "start_time": "2023-07-19T11:13:20.052Z"
   },
   {
    "duration": 168,
    "start_time": "2023-07-19T11:13:20.089Z"
   },
   {
    "duration": 118,
    "start_time": "2023-07-19T11:13:20.259Z"
   },
   {
    "duration": 5,
    "start_time": "2023-07-19T11:13:20.378Z"
   },
   {
    "duration": 166,
    "start_time": "2023-07-19T11:13:20.384Z"
   },
   {
    "duration": 114,
    "start_time": "2023-07-19T11:13:20.552Z"
   },
   {
    "duration": 6,
    "start_time": "2023-07-19T11:13:20.668Z"
   },
   {
    "duration": 67,
    "start_time": "2023-07-19T11:13:20.675Z"
   },
   {
    "duration": 36,
    "start_time": "2023-07-19T11:13:20.744Z"
   },
   {
    "duration": 342,
    "start_time": "2023-07-19T11:13:20.781Z"
   },
   {
    "duration": 225,
    "start_time": "2023-07-19T11:13:21.125Z"
   },
   {
    "duration": 9,
    "start_time": "2023-07-19T11:13:21.352Z"
   },
   {
    "duration": 27,
    "start_time": "2023-07-19T11:13:21.363Z"
   },
   {
    "duration": 30,
    "start_time": "2023-07-19T11:13:21.392Z"
   },
   {
    "duration": 29,
    "start_time": "2023-07-19T11:13:21.424Z"
   },
   {
    "duration": 283,
    "start_time": "2023-07-19T11:13:21.454Z"
   },
   {
    "duration": 4,
    "start_time": "2023-07-19T11:13:21.740Z"
   },
   {
    "duration": 28,
    "start_time": "2023-07-19T11:13:21.746Z"
   },
   {
    "duration": 27,
    "start_time": "2023-07-19T11:13:21.775Z"
   },
   {
    "duration": 261,
    "start_time": "2023-07-19T11:13:21.804Z"
   },
   {
    "duration": 7,
    "start_time": "2023-07-19T11:13:22.067Z"
   },
   {
    "duration": 552,
    "start_time": "2023-07-19T11:13:22.076Z"
   },
   {
    "duration": 6,
    "start_time": "2023-07-19T11:13:22.629Z"
   },
   {
    "duration": 23,
    "start_time": "2023-07-19T11:13:22.636Z"
   },
   {
    "duration": 18,
    "start_time": "2023-07-19T11:13:22.660Z"
   },
   {
    "duration": 277,
    "start_time": "2023-07-19T11:13:22.679Z"
   },
   {
    "duration": 5,
    "start_time": "2023-07-19T11:13:22.957Z"
   },
   {
    "duration": 58,
    "start_time": "2023-07-19T11:13:22.963Z"
   },
   {
    "duration": 427,
    "start_time": "2023-07-19T11:13:23.022Z"
   },
   {
    "duration": 290,
    "start_time": "2023-07-19T11:13:23.450Z"
   },
   {
    "duration": 5,
    "start_time": "2023-07-19T11:13:23.742Z"
   },
   {
    "duration": 26,
    "start_time": "2023-07-19T11:13:23.748Z"
   },
   {
    "duration": 49,
    "start_time": "2023-07-19T11:13:23.820Z"
   },
   {
    "duration": 54,
    "start_time": "2023-07-19T11:13:23.870Z"
   },
   {
    "duration": 103,
    "start_time": "2023-07-19T11:13:23.925Z"
   },
   {
    "duration": 31,
    "start_time": "2023-07-19T11:13:24.030Z"
   },
   {
    "duration": 60,
    "start_time": "2023-07-19T11:13:24.062Z"
   },
   {
    "duration": 22,
    "start_time": "2023-07-19T11:13:24.124Z"
   },
   {
    "duration": 56,
    "start_time": "2023-07-19T11:13:24.149Z"
   },
   {
    "duration": 35,
    "start_time": "2023-07-19T11:13:24.207Z"
   },
   {
    "duration": 89,
    "start_time": "2023-07-19T11:13:24.244Z"
   },
   {
    "duration": 72,
    "start_time": "2023-07-19T11:13:24.335Z"
   },
   {
    "duration": 13,
    "start_time": "2023-07-19T11:13:24.409Z"
   },
   {
    "duration": 6,
    "start_time": "2023-07-19T11:13:24.427Z"
   },
   {
    "duration": 34,
    "start_time": "2023-07-19T11:13:24.435Z"
   },
   {
    "duration": 4,
    "start_time": "2023-07-19T11:13:24.471Z"
   },
   {
    "duration": 25,
    "start_time": "2023-07-19T11:13:24.477Z"
   },
   {
    "duration": 7,
    "start_time": "2023-07-19T11:13:24.504Z"
   },
   {
    "duration": 22,
    "start_time": "2023-07-19T11:13:24.512Z"
   },
   {
    "duration": 26,
    "start_time": "2023-07-19T11:13:24.536Z"
   },
   {
    "duration": 52,
    "start_time": "2023-07-19T11:13:24.563Z"
   },
   {
    "duration": 26,
    "start_time": "2023-07-19T11:13:24.617Z"
   },
   {
    "duration": 25,
    "start_time": "2023-07-19T11:13:24.644Z"
   },
   {
    "duration": 10,
    "start_time": "2023-07-19T11:13:24.671Z"
   },
   {
    "duration": 11,
    "start_time": "2023-07-19T11:13:24.683Z"
   },
   {
    "duration": 11,
    "start_time": "2023-07-19T11:13:24.696Z"
   },
   {
    "duration": 18,
    "start_time": "2023-07-19T11:13:24.708Z"
   },
   {
    "duration": 14,
    "start_time": "2023-07-19T11:13:24.727Z"
   },
   {
    "duration": 44,
    "start_time": "2023-07-19T11:13:24.743Z"
   },
   {
    "duration": 6,
    "start_time": "2023-07-19T11:13:24.789Z"
   },
   {
    "duration": 29,
    "start_time": "2023-07-19T11:13:24.797Z"
   },
   {
    "duration": 27,
    "start_time": "2023-07-19T11:13:24.829Z"
   },
   {
    "duration": 50,
    "start_time": "2023-07-19T21:26:27.029Z"
   },
   {
    "duration": 1530,
    "start_time": "2023-07-19T21:26:31.456Z"
   },
   {
    "duration": 69,
    "start_time": "2023-07-19T21:26:32.989Z"
   },
   {
    "duration": 99,
    "start_time": "2023-07-19T21:26:33.059Z"
   },
   {
    "duration": 55,
    "start_time": "2023-07-19T21:26:33.161Z"
   },
   {
    "duration": 12,
    "start_time": "2023-07-19T21:26:33.218Z"
   },
   {
    "duration": 15,
    "start_time": "2023-07-19T21:26:33.232Z"
   },
   {
    "duration": 29,
    "start_time": "2023-07-19T21:26:33.248Z"
   },
   {
    "duration": 17,
    "start_time": "2023-07-19T21:26:33.279Z"
   },
   {
    "duration": 11,
    "start_time": "2023-07-19T21:26:33.297Z"
   },
   {
    "duration": 28,
    "start_time": "2023-07-19T21:26:33.311Z"
   },
   {
    "duration": 5,
    "start_time": "2023-07-19T21:26:33.340Z"
   },
   {
    "duration": 11,
    "start_time": "2023-07-19T21:26:33.346Z"
   },
   {
    "duration": 8,
    "start_time": "2023-07-19T21:26:33.358Z"
   },
   {
    "duration": 19,
    "start_time": "2023-07-19T21:26:33.368Z"
   },
   {
    "duration": 25,
    "start_time": "2023-07-19T21:26:33.389Z"
   },
   {
    "duration": 12,
    "start_time": "2023-07-19T21:26:33.416Z"
   },
   {
    "duration": 14,
    "start_time": "2023-07-19T21:26:33.430Z"
   },
   {
    "duration": 16,
    "start_time": "2023-07-19T21:26:33.447Z"
   },
   {
    "duration": 18,
    "start_time": "2023-07-19T21:26:33.464Z"
   },
   {
    "duration": 14,
    "start_time": "2023-07-19T21:26:33.483Z"
   },
   {
    "duration": 26,
    "start_time": "2023-07-19T21:26:33.499Z"
   },
   {
    "duration": 111,
    "start_time": "2023-07-19T21:26:33.527Z"
   },
   {
    "duration": 22,
    "start_time": "2023-07-19T21:26:33.640Z"
   },
   {
    "duration": 5,
    "start_time": "2023-07-19T21:26:33.663Z"
   },
   {
    "duration": 136,
    "start_time": "2023-07-19T21:26:33.670Z"
   },
   {
    "duration": 4,
    "start_time": "2023-07-19T21:26:33.808Z"
   },
   {
    "duration": 91,
    "start_time": "2023-07-19T21:26:33.814Z"
   },
   {
    "duration": 3,
    "start_time": "2023-07-19T21:26:33.910Z"
   },
   {
    "duration": 21,
    "start_time": "2023-07-19T21:26:33.914Z"
   },
   {
    "duration": 7,
    "start_time": "2023-07-19T21:26:33.936Z"
   },
   {
    "duration": 5,
    "start_time": "2023-07-19T21:26:33.944Z"
   },
   {
    "duration": 16,
    "start_time": "2023-07-19T21:26:33.950Z"
   },
   {
    "duration": 6,
    "start_time": "2023-07-19T21:26:33.967Z"
   },
   {
    "duration": 4,
    "start_time": "2023-07-19T21:26:33.975Z"
   },
   {
    "duration": 20,
    "start_time": "2023-07-19T21:26:33.981Z"
   },
   {
    "duration": 25,
    "start_time": "2023-07-19T21:26:34.002Z"
   },
   {
    "duration": 7,
    "start_time": "2023-07-19T21:26:34.032Z"
   },
   {
    "duration": 22,
    "start_time": "2023-07-19T21:26:34.041Z"
   },
   {
    "duration": 6,
    "start_time": "2023-07-19T21:26:34.066Z"
   },
   {
    "duration": 245,
    "start_time": "2023-07-19T21:26:34.074Z"
   },
   {
    "duration": 126,
    "start_time": "2023-07-19T21:26:34.321Z"
   },
   {
    "duration": 11,
    "start_time": "2023-07-19T21:26:34.449Z"
   },
   {
    "duration": 182,
    "start_time": "2023-07-19T21:26:34.462Z"
   },
   {
    "duration": 132,
    "start_time": "2023-07-19T21:26:34.646Z"
   },
   {
    "duration": 6,
    "start_time": "2023-07-19T21:26:34.780Z"
   },
   {
    "duration": 7,
    "start_time": "2023-07-19T21:26:34.788Z"
   },
   {
    "duration": 5,
    "start_time": "2023-07-19T21:26:34.797Z"
   },
   {
    "duration": 333,
    "start_time": "2023-07-19T21:26:34.803Z"
   },
   {
    "duration": 264,
    "start_time": "2023-07-19T21:26:35.138Z"
   },
   {
    "duration": 9,
    "start_time": "2023-07-19T21:26:35.404Z"
   },
   {
    "duration": 26,
    "start_time": "2023-07-19T21:26:35.414Z"
   },
   {
    "duration": 20,
    "start_time": "2023-07-19T21:26:35.441Z"
   },
   {
    "duration": 28,
    "start_time": "2023-07-19T21:26:35.463Z"
   },
   {
    "duration": 353,
    "start_time": "2023-07-19T21:26:35.492Z"
   },
   {
    "duration": 4,
    "start_time": "2023-07-19T21:26:35.847Z"
   },
   {
    "duration": 7,
    "start_time": "2023-07-19T21:26:35.858Z"
   },
   {
    "duration": 12,
    "start_time": "2023-07-19T21:26:35.867Z"
   },
   {
    "duration": 273,
    "start_time": "2023-07-19T21:26:35.880Z"
   },
   {
    "duration": 9,
    "start_time": "2023-07-19T21:26:36.154Z"
   },
   {
    "duration": 374,
    "start_time": "2023-07-19T21:26:36.164Z"
   },
   {
    "duration": 7,
    "start_time": "2023-07-19T21:26:36.539Z"
   },
   {
    "duration": 12,
    "start_time": "2023-07-19T21:26:36.547Z"
   },
   {
    "duration": 9,
    "start_time": "2023-07-19T21:26:36.560Z"
   },
   {
    "duration": 144,
    "start_time": "2023-07-19T21:26:36.570Z"
   },
   {
    "duration": 5,
    "start_time": "2023-07-19T21:26:36.716Z"
   },
   {
    "duration": 21,
    "start_time": "2023-07-19T21:26:36.722Z"
   },
   {
    "duration": 225,
    "start_time": "2023-07-19T21:26:36.745Z"
   },
   {
    "duration": 146,
    "start_time": "2023-07-19T21:26:36.971Z"
   },
   {
    "duration": 5,
    "start_time": "2023-07-19T21:26:37.119Z"
   },
   {
    "duration": 26,
    "start_time": "2023-07-19T21:26:37.125Z"
   },
   {
    "duration": 49,
    "start_time": "2023-07-19T21:26:37.152Z"
   },
   {
    "duration": 37,
    "start_time": "2023-07-19T21:26:37.202Z"
   },
   {
    "duration": 75,
    "start_time": "2023-07-19T21:26:37.241Z"
   },
   {
    "duration": 39,
    "start_time": "2023-07-19T21:26:37.317Z"
   },
   {
    "duration": 48,
    "start_time": "2023-07-19T21:26:37.358Z"
   },
   {
    "duration": 69,
    "start_time": "2023-07-19T21:26:37.408Z"
   },
   {
    "duration": 55,
    "start_time": "2023-07-19T21:26:37.478Z"
   },
   {
    "duration": 26,
    "start_time": "2023-07-19T21:26:37.534Z"
   },
   {
    "duration": 94,
    "start_time": "2023-07-19T21:26:37.562Z"
   },
   {
    "duration": 72,
    "start_time": "2023-07-19T21:26:37.657Z"
   },
   {
    "duration": 5,
    "start_time": "2023-07-19T21:26:37.731Z"
   },
   {
    "duration": 15,
    "start_time": "2023-07-19T21:26:37.764Z"
   },
   {
    "duration": 24,
    "start_time": "2023-07-19T21:26:37.781Z"
   },
   {
    "duration": 5,
    "start_time": "2023-07-19T21:26:37.807Z"
   },
   {
    "duration": 28,
    "start_time": "2023-07-19T21:26:37.814Z"
   },
   {
    "duration": 11,
    "start_time": "2023-07-19T21:26:37.843Z"
   },
   {
    "duration": 9,
    "start_time": "2023-07-19T21:26:37.856Z"
   },
   {
    "duration": 7,
    "start_time": "2023-07-19T21:26:37.866Z"
   },
   {
    "duration": 6,
    "start_time": "2023-07-19T21:26:37.875Z"
   },
   {
    "duration": 12,
    "start_time": "2023-07-19T21:26:37.882Z"
   },
   {
    "duration": 15,
    "start_time": "2023-07-19T21:26:37.895Z"
   },
   {
    "duration": 10,
    "start_time": "2023-07-19T21:26:37.911Z"
   },
   {
    "duration": 6,
    "start_time": "2023-07-19T21:26:37.922Z"
   },
   {
    "duration": 9,
    "start_time": "2023-07-19T21:26:37.929Z"
   },
   {
    "duration": 7,
    "start_time": "2023-07-19T21:26:37.939Z"
   },
   {
    "duration": 7,
    "start_time": "2023-07-19T21:26:37.947Z"
   },
   {
    "duration": 21,
    "start_time": "2023-07-19T21:26:37.959Z"
   },
   {
    "duration": 5,
    "start_time": "2023-07-19T21:26:37.982Z"
   },
   {
    "duration": 12,
    "start_time": "2023-07-19T21:26:37.989Z"
   },
   {
    "duration": 9,
    "start_time": "2023-07-19T21:26:38.003Z"
   },
   {
    "duration": 5,
    "start_time": "2023-07-19T21:26:41.617Z"
   }
  ],
  "kernelspec": {
   "display_name": "Python 3 (ipykernel)",
   "language": "python",
   "name": "python3"
  },
  "language_info": {
   "codemirror_mode": {
    "name": "ipython",
    "version": 3
   },
   "file_extension": ".py",
   "mimetype": "text/x-python",
   "name": "python",
   "nbconvert_exporter": "python",
   "pygments_lexer": "ipython3",
   "version": "3.9.16"
  },
  "toc": {
   "base_numbering": 1,
   "nav_menu": {},
   "number_sections": true,
   "sideBar": true,
   "skip_h1_title": true,
   "title_cell": "Table of Contents",
   "title_sidebar": "Contents",
   "toc_cell": false,
   "toc_position": {
    "height": "653px",
    "left": "76px",
    "top": "111.125px",
    "width": "359px"
   },
   "toc_section_display": true,
   "toc_window_display": true
  }
 },
 "nbformat": 4,
 "nbformat_minor": 2
}
